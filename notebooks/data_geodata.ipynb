{
 "cells": [
  {
   "cell_type": "code",
   "execution_count": 1,
   "metadata": {},
   "outputs": [],
   "source": [
    "import geopandas as gpd\n",
    "from shapely.ops import nearest_points\n",
    "from shapely.geometry import Point\n",
    "import pandas as pd"
   ]
  },
  {
   "cell_type": "code",
   "execution_count": 2,
   "metadata": {},
   "outputs": [],
   "source": [
    "# Load GeoJSON file into GeoDataFrame\n",
    "gdf = gpd.read_file(filename='../data/geojson/jardins_parques_urbanos.geojson')"
   ]
  },
  {
   "cell_type": "code",
   "execution_count": null,
   "metadata": {},
   "outputs": [],
   "source": [
    "gdf.head()"
   ]
  },
  {
   "cell_type": "code",
   "execution_count": 4,
   "metadata": {},
   "outputs": [],
   "source": [
    "if gdf.crs.to_string() != 'EPSG:4326':\n",
    "    raise ValueError('CRS is not EPSG:4326')"
   ]
  },
  {
   "cell_type": "code",
   "execution_count": 5,
   "metadata": {},
   "outputs": [],
   "source": [
    "df = pd.read_csv('../data/training/unioned-features-rent.csv')"
   ]
  },
  {
   "cell_type": "code",
   "execution_count": 6,
   "metadata": {},
   "outputs": [],
   "source": [
    "def add_distance_and_nearest_poi_name(df, feature_name, poi_name, geojson_path, latitude_col='latitude', longitude_col='longitude', poi_crs=\"EPSG:4326\"):\n",
    "    \"\"\"\n",
    "    Adds a distance column and the name of the nearest POI to the DataFrame from a GeoJSON file.\n",
    "    \n",
    "    Args:\n",
    "    - df (pd.DataFrame): DataFrame with latitude and longitude columns.\n",
    "    - feature_name (str): Name of the feature to be added to the DataFrame.\n",
    "    - poi_name (str): Name of the POI feature in the GeoJSON file.\n",
    "    - geojson_path (str): Path to the GeoJSON file.\n",
    "    - latitude_col (str): Name of the latitude column in df.\n",
    "    - longitude_col (str): Name of the longitude column in df.\n",
    "    - poi_crs (str): CRS of the POI data (default: EPSG:4326 for WGS84).\n",
    "    \n",
    "    Returns:\n",
    "    - pd.DataFrame: Original DataFrame with added distance and nearest POI name columns.\n",
    "    \"\"\"\n",
    "    # Copy DataFrame to avoid modifying the original\n",
    "    new_df = df.copy()\n",
    "\n",
    "    # Load GeoJSON as GeoDataFrame\n",
    "    poi_gdf = gpd.read_file(geojson_path)\n",
    "    poi_gdf = poi_gdf.to_crs(poi_crs)  # Ensure correct CRS\n",
    "\n",
    "    # Convert DataFrame to GeoDataFrame\n",
    "    listings_gdf = gpd.GeoDataFrame(\n",
    "        new_df,\n",
    "        geometry=gpd.points_from_xy(new_df[longitude_col], new_df[latitude_col]),\n",
    "        crs=poi_crs\n",
    "    )\n",
    "\n",
    "    # Reproject to metric CRS for distance calculation\n",
    "    metric_crs = \"EPSG:3857\"\n",
    "    poi_gdf = poi_gdf.to_crs(metric_crs)\n",
    "    listings_gdf = listings_gdf.to_crs(metric_crs)\n",
    "\n",
    "    # Compute nearest distances and POI names\n",
    "    def compute_nearest_poi_info(listing, poi_gdf):\n",
    "        # Find the nearest POI geometry\n",
    "        nearest_point = nearest_points(listing.geometry, poi_gdf.unary_union)[1]\n",
    "        # Find the row in poi_gdf corresponding to the nearest geometry\n",
    "        nearest_poi = poi_gdf.loc[poi_gdf.geometry == nearest_point]\n",
    "        # Extract the distance and name of the nearest POI\n",
    "        distance = listing.geometry.distance(nearest_point)\n",
    "        name = nearest_poi[poi_name].values[0] if not nearest_poi.empty else None\n",
    "        return distance, name\n",
    "\n",
    "    # Apply the function to compute both distance and nearest POI name\n",
    "    results = listings_gdf.apply(\n",
    "        lambda row: compute_nearest_poi_info(row, poi_gdf), axis=1\n",
    "    )\n",
    "\n",
    "    # Extract distances and POI names into separate columns\n",
    "    listings_gdf[f'distance_to_nearest_{feature_name}'] = results.apply(lambda x: x[0])\n",
    "    listings_gdf[f'nearest_{feature_name}_name'] = results.apply(lambda x: x[1])\n",
    "\n",
    "    # Add distances and names back to the original DataFrame\n",
    "    new_df[f'distance_to_nearest_{feature_name}'] = listings_gdf[f'distance_to_nearest_{feature_name}']\n",
    "    new_df[f'nearest_{feature_name}_name'] = listings_gdf[f'nearest_{feature_name}_name']\n",
    "    \n",
    "    return new_df"
   ]
  },
  {
   "cell_type": "code",
   "execution_count": 7,
   "metadata": {},
   "outputs": [],
   "source": [
    "df = add_distance_and_nearest_poi_name(df, 'mall', 'INF_NOME',  '../data/geojson/centros_comerciais.geojson')"
   ]
  },
  {
   "cell_type": "code",
   "execution_count": null,
   "metadata": {},
   "outputs": [],
   "source": [
    "df"
   ]
  },
  {
   "cell_type": "code",
   "execution_count": 9,
   "metadata": {},
   "outputs": [],
   "source": [
    "df = add_distance_and_nearest_poi_name(df, 'metro', 'NOME',  '../data/geojson/metro.geojson')"
   ]
  },
  {
   "cell_type": "code",
   "execution_count": 10,
   "metadata": {},
   "outputs": [],
   "source": [
    "df = add_distance_and_nearest_poi_name(df, 'train', 'NOME',  '../data/geojson/comboios.geojson')"
   ]
  },
  {
   "cell_type": "code",
   "execution_count": 11,
   "metadata": {},
   "outputs": [],
   "source": [
    "df = add_distance_and_nearest_poi_name(df, 'park', 'INF_NOME',  '../data/geojson/jardins_parques_urbanos.geojson')"
   ]
  },
  {
   "cell_type": "code",
   "execution_count": null,
   "metadata": {},
   "outputs": [],
   "source": [
    "df"
   ]
  },
  {
   "cell_type": "code",
   "execution_count": null,
   "metadata": {},
   "outputs": [],
   "source": []
  }
 ],
 "metadata": {
  "kernelspec": {
   "display_name": "Python 3",
   "language": "python",
   "name": "python3"
  },
  "language_info": {
   "codemirror_mode": {
    "name": "ipython",
    "version": 3
   },
   "file_extension": ".py",
   "mimetype": "text/x-python",
   "name": "python",
   "nbconvert_exporter": "python",
   "pygments_lexer": "ipython3",
   "version": "3.11.11"
  }
 },
 "nbformat": 4,
 "nbformat_minor": 2
}
