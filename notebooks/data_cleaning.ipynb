{
 "cells": [
  {
   "cell_type": "code",
   "execution_count": 1,
   "id": "5c9870a4-455c-4993-bbf5-e193e35cd67d",
   "metadata": {},
   "outputs": [],
   "source": [
    "import pandas as pd\n",
    "import ast"
   ]
  },
  {
   "cell_type": "code",
   "execution_count": 2,
   "metadata": {},
   "outputs": [],
   "source": [
    "operation_type = \"rent\"\n",
    "date_or_unioned = \"unioned\""
   ]
  },
  {
   "cell_type": "code",
   "execution_count": 3,
   "metadata": {},
   "outputs": [],
   "source": [
    "file_name = f\"{date_or_unioned}-lisbon-listings-for-{operation_type}.csv\""
   ]
  },
  {
   "cell_type": "code",
   "execution_count": 4,
   "id": "1620b39c-a120-40de-9832-bf57bcf667ab",
   "metadata": {},
   "outputs": [],
   "source": [
    "df = pd.read_csv(f'../data/idealista/raw/{file_name}', index_col='propertyCode')"
   ]
  },
  {
   "cell_type": "code",
   "execution_count": null,
   "id": "7d3166ed-201d-4336-be20-e86a33aa2487",
   "metadata": {},
   "outputs": [],
   "source": [
    "df.head()"
   ]
  },
  {
   "cell_type": "code",
   "execution_count": null,
   "id": "afafe8f8-6ee7-43f3-8eae-8ffb8eaf04b5",
   "metadata": {},
   "outputs": [],
   "source": [
    "df.info()"
   ]
  },
  {
   "cell_type": "code",
   "execution_count": null,
   "id": "8d84c244",
   "metadata": {},
   "outputs": [],
   "source": [
    "df.describe()"
   ]
  },
  {
   "cell_type": "code",
   "execution_count": null,
   "id": "399df090-3a94-4a06-8907-37424a4caeb4",
   "metadata": {},
   "outputs": [],
   "source": [
    "df.isnull().sum()"
   ]
  },
  {
   "cell_type": "code",
   "execution_count": null,
   "id": "2cd4a595-8e7f-4841-a048-5a1fa5ecf4c1",
   "metadata": {},
   "outputs": [],
   "source": [
    "df.columns"
   ]
  },
  {
   "cell_type": "code",
   "execution_count": 10,
   "id": "585f8771-3252-4d83-87f0-6eacf3884c1e",
   "metadata": {},
   "outputs": [],
   "source": [
    "df = df.drop(columns=['thumbnail', 'numPhotos', 'operation', 'hasVideo', 'hasPlan', 'has3DTour', 'has360', 'hasStaging', 'externalReference', 'detailedType', 'suggestedTexts'])"
   ]
  },
  {
   "cell_type": "code",
   "execution_count": null,
   "id": "7615c14d-7aeb-4521-862a-408628888253",
   "metadata": {},
   "outputs": [],
   "source": [
    "df.columns"
   ]
  },
  {
   "cell_type": "code",
   "execution_count": 12,
   "id": "ee7dab55-d8f7-4eae-b47f-9dd61f1c3890",
   "metadata": {},
   "outputs": [],
   "source": [
    "df = df.drop_duplicates()"
   ]
  },
  {
   "cell_type": "code",
   "execution_count": null,
   "id": "17b9eb4a-feae-424c-a505-8cba1a4f8808",
   "metadata": {},
   "outputs": [],
   "source": [
    "df.info()"
   ]
  },
  {
   "cell_type": "code",
   "execution_count": null,
   "id": "b54e69af-5757-48e6-944a-769476653e0c",
   "metadata": {},
   "outputs": [],
   "source": [
    "df.head()"
   ]
  },
  {
   "cell_type": "code",
   "execution_count": null,
   "id": "a5e7586a",
   "metadata": {},
   "outputs": [],
   "source": [
    "df.floor.unique()"
   ]
  },
  {
   "cell_type": "code",
   "execution_count": null,
   "id": "3f99b3e6",
   "metadata": {},
   "outputs": [],
   "source": [
    "df[df.floor == 'en']"
   ]
  },
  {
   "cell_type": "code",
   "execution_count": 17,
   "id": "14510640",
   "metadata": {},
   "outputs": [],
   "source": [
    "df.floor = df.floor.str.replace('bj', '0')\n",
    "df.floor = df.floor.str.replace('-', '')\n",
    "df.floor = df.floor.str.replace('st', '-1')\n",
    "df.floor = df.floor.str.replace('ss', '-1')\n",
    "df.floor = df.floor.str.replace('en', '-1')\n",
    "df.floor = df.floor.astype(float)"
   ]
  },
  {
   "cell_type": "code",
   "execution_count": null,
   "id": "971ee21c",
   "metadata": {},
   "outputs": [],
   "source": [
    "df.floor.describe()"
   ]
  },
  {
   "cell_type": "code",
   "execution_count": null,
   "id": "2ad0cbf6",
   "metadata": {},
   "outputs": [],
   "source": [
    "df.priceInfo.unique()"
   ]
  },
  {
   "cell_type": "code",
   "execution_count": 20,
   "id": "08b1efbe",
   "metadata": {},
   "outputs": [],
   "source": [
    "# Function to parse the price and coalesce the formerPrice\n",
    "def extract_former_price(price_str):\n",
    "    # Parse the string to a dictionary\n",
    "    price_dict = ast.literal_eval(price_str)\n",
    "    price_info = price_dict.get('price', {})\n",
    "    amount = price_info.get('amount')  # Current price\n",
    "    price_drop_info = price_info.get('priceDropInfo', {})\n",
    "    former_price = price_drop_info.get('formerPrice')  # Former price, if available\n",
    "    # Coalesce formerPrice with the current price\n",
    "    return former_price if former_price is not None else amount\n",
    "\n",
    "# Apply the function to create the formerPrice column\n",
    "df['formerPrice'] = df['priceInfo'].apply(extract_former_price)\n",
    "df['priceChange'] = df['formerPrice'] - df['price']\n",
    "df = df.drop(columns=['priceInfo'])"
   ]
  },
  {
   "cell_type": "code",
   "execution_count": null,
   "id": "a284ae0d",
   "metadata": {},
   "outputs": [],
   "source": [
    "df['formerPrice']"
   ]
  },
  {
   "cell_type": "code",
   "execution_count": null,
   "id": "fe81f405",
   "metadata": {},
   "outputs": [],
   "source": [
    "df.head()"
   ]
  },
  {
   "cell_type": "code",
   "execution_count": null,
   "id": "dd890eb8",
   "metadata": {},
   "outputs": [],
   "source": [
    "df.parkingSpace.unique()"
   ]
  },
  {
   "cell_type": "code",
   "execution_count": 24,
   "id": "301eec9b",
   "metadata": {},
   "outputs": [],
   "source": [
    "df['parkingSpace'] = df['parkingSpace'].fillna('{}')\n",
    "df['parsed'] = df['parkingSpace'].apply(ast.literal_eval)\n",
    "df['hasParkingSpace'] = df['parsed'].apply(lambda x: x.get('hasParkingSpace', False))\n",
    "df['isParkingSpaceIncludedInPrice'] = df['parsed'].apply(lambda x: x.get('isParkingSpaceIncludedInPrice', False))\n",
    "df.drop(columns=['parkingSpace', 'parsed'], inplace=True)"
   ]
  },
  {
   "cell_type": "code",
   "execution_count": null,
   "id": "54d3e39d",
   "metadata": {},
   "outputs": [],
   "source": [
    "df.head()"
   ]
  },
  {
   "cell_type": "code",
   "execution_count": null,
   "id": "51eeee3b",
   "metadata": {},
   "outputs": [],
   "source": [
    "df[df.hasLift.isnull()].head()"
   ]
  },
  {
   "cell_type": "code",
   "execution_count": null,
   "id": "b592e877",
   "metadata": {},
   "outputs": [],
   "source": [
    "df.columns"
   ]
  },
  {
   "cell_type": "code",
   "execution_count": 28,
   "id": "7d7ad659",
   "metadata": {},
   "outputs": [],
   "source": [
    "df = df[df['price'] > 0]"
   ]
  },
  {
   "cell_type": "code",
   "execution_count": 29,
   "id": "30cc717c",
   "metadata": {},
   "outputs": [],
   "source": [
    "import pandas as pd\n",
    "\n",
    "def remove_outliers(df, variables, thresholds=None):\n",
    "    \"\"\"\n",
    "    Removes outliers from specified variables using IQR or domain-based thresholds.\n",
    "    \n",
    "    Parameters:\n",
    "    df (pd.DataFrame): The dataset.\n",
    "    variables (list): List of variables to check for outliers.\n",
    "    thresholds (dict): Optional custom lower and upper bounds for specific variables.\n",
    "                       Format: {'variable': {'lower': value, 'upper': value}}\n",
    "    \n",
    "    Returns:\n",
    "    pd.DataFrame: Dataset with outliers removed.\n",
    "    \"\"\"\n",
    "    df_cleaned = df.copy()\n",
    "    \n",
    "    for variable in variables:\n",
    "        # Check for custom thresholds\n",
    "        if thresholds and variable in thresholds:\n",
    "            lower = thresholds[variable].get('lower', None)\n",
    "            upper = thresholds[variable].get('upper', None)\n",
    "        else:\n",
    "            # Default to IQR if no custom threshold provided\n",
    "            Q1 = df_cleaned[variable].quantile(0.25)\n",
    "            Q3 = df_cleaned[variable].quantile(0.75)\n",
    "            IQR = Q3 - Q1\n",
    "            lower = Q1 - 1.5 * IQR\n",
    "            upper = Q3 + 1.5 * IQR\n",
    "        \n",
    "        # Remove outliers\n",
    "        df_cleaned = df_cleaned[(df_cleaned[variable] >= lower) & (df_cleaned[variable] <= upper)]\n",
    "    \n",
    "    return df_cleaned"
   ]
  },
  {
   "cell_type": "code",
   "execution_count": null,
   "id": "5e607f81",
   "metadata": {},
   "outputs": [],
   "source": [
    "df.select_dtypes(include='number').columns"
   ]
  },
  {
   "cell_type": "code",
   "execution_count": 31,
   "id": "8ba24d6d",
   "metadata": {},
   "outputs": [],
   "source": [
    "variables_with_outliers = ['price', 'size', 'rooms', 'bathrooms']"
   ]
  },
  {
   "cell_type": "code",
   "execution_count": 32,
   "id": "af386db8",
   "metadata": {},
   "outputs": [],
   "source": [
    "# Remove outliers for all specified variables\n",
    "df_cleaned = remove_outliers(df, variables_with_outliers)"
   ]
  },
  {
   "cell_type": "code",
   "execution_count": null,
   "id": "6fc680c7",
   "metadata": {},
   "outputs": [],
   "source": [
    "df_cleaned.info()"
   ]
  },
  {
   "cell_type": "code",
   "execution_count": 34,
   "id": "ec303a4f",
   "metadata": {},
   "outputs": [],
   "source": [
    "df_cleaned.to_csv(f'../data/idealista/cleaned/{file_name}', index=True)"
   ]
  }
 ],
 "metadata": {
  "kernelspec": {
   "display_name": "Python 3",
   "language": "python",
   "name": "python3"
  },
  "language_info": {
   "codemirror_mode": {
    "name": "ipython",
    "version": 3
   },
   "file_extension": ".py",
   "mimetype": "text/x-python",
   "name": "python",
   "nbconvert_exporter": "python",
   "pygments_lexer": "ipython3",
   "version": "3.11.11"
  }
 },
 "nbformat": 4,
 "nbformat_minor": 5
}
