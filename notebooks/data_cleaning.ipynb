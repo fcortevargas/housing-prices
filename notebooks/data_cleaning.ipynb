{
 "cells": [
  {
   "cell_type": "code",
   "execution_count": 1,
   "id": "5c9870a4-455c-4993-bbf5-e193e35cd67d",
   "metadata": {},
   "outputs": [],
   "source": [
    "import pandas as pd\n",
    "import ast\n",
    "import datetime"
   ]
  },
  {
   "cell_type": "code",
   "execution_count": 2,
   "id": "4e20ff86",
   "metadata": {},
   "outputs": [],
   "source": [
    "def is_valid_date_format(date_string):\n",
    "    try:\n",
    "        datetime.datetime.strptime(date_string, \"%Y-%m-%d\")\n",
    "        return True\n",
    "    except ValueError:\n",
    "        return False"
   ]
  },
  {
   "cell_type": "code",
   "execution_count": 3,
   "metadata": {},
   "outputs": [],
   "source": [
    "city = \"lisbon\"\n",
    "operation = \"rent\"\n",
    "date_or_unioned = \"unioned\""
   ]
  },
  {
   "cell_type": "code",
   "execution_count": 4,
   "id": "72e2423c",
   "metadata": {},
   "outputs": [],
   "source": [
    "if not (date_or_unioned == \"unioned\" or is_valid_date_format(date_or_unioned)):\n",
    "    raise ValueError(\n",
    "        \"date_or_unioned must be 'unioned' or a valid date in the format 'YYYY-MM-DD'\"\n",
    "    )"
   ]
  },
  {
   "cell_type": "code",
   "execution_count": 5,
   "metadata": {},
   "outputs": [],
   "source": [
    "file_name = f\"{date_or_unioned}-{city}-listings-for-{operation}\""
   ]
  },
  {
   "cell_type": "code",
   "execution_count": 6,
   "id": "1620b39c-a120-40de-9832-bf57bcf667ab",
   "metadata": {},
   "outputs": [],
   "source": [
    "read_path = f\"../data/idealista\"\n",
    "\n",
    "if date_or_unioned == \"unioned\":\n",
    "    df = pd.read_csv(f\"{read_path}/unioned/{operation}/{city}/{file_name}.csv\", index_col=\"propertyCode\")\n",
    "else:\n",
    "    df = pd.read_csv(f\"{read_path}/raw/{operation}/{city}/{file_name}.csv\", index_col=\"propertyCode\")"
   ]
  },
  {
   "cell_type": "code",
   "execution_count": null,
   "id": "7d3166ed-201d-4336-be20-e86a33aa2487",
   "metadata": {},
   "outputs": [],
   "source": [
    "df.head()"
   ]
  },
  {
   "cell_type": "code",
   "execution_count": null,
   "id": "afafe8f8-6ee7-43f3-8eae-8ffb8eaf04b5",
   "metadata": {},
   "outputs": [],
   "source": [
    "df.info()"
   ]
  },
  {
   "cell_type": "code",
   "execution_count": null,
   "id": "8d84c244",
   "metadata": {},
   "outputs": [],
   "source": [
    "df.describe()"
   ]
  },
  {
   "cell_type": "code",
   "execution_count": null,
   "id": "399df090-3a94-4a06-8907-37424a4caeb4",
   "metadata": {},
   "outputs": [],
   "source": [
    "df.isnull().sum()"
   ]
  },
  {
   "cell_type": "code",
   "execution_count": null,
   "id": "2cd4a595-8e7f-4841-a048-5a1fa5ecf4c1",
   "metadata": {},
   "outputs": [],
   "source": [
    "df.columns"
   ]
  },
  {
   "cell_type": "code",
   "execution_count": 12,
   "id": "585f8771-3252-4d83-87f0-6eacf3884c1e",
   "metadata": {},
   "outputs": [],
   "source": [
    "df = df.drop(columns=['thumbnail', 'numPhotos', 'operation', 'hasVideo', 'hasPlan', 'has3DTour', 'has360', 'hasStaging', 'externalReference', 'detailedType', 'suggestedTexts'])"
   ]
  },
  {
   "cell_type": "code",
   "execution_count": null,
   "id": "7615c14d-7aeb-4521-862a-408628888253",
   "metadata": {},
   "outputs": [],
   "source": [
    "df.columns"
   ]
  },
  {
   "cell_type": "code",
   "execution_count": 14,
   "id": "ee7dab55-d8f7-4eae-b47f-9dd61f1c3890",
   "metadata": {},
   "outputs": [],
   "source": [
    "df = df.drop_duplicates()"
   ]
  },
  {
   "cell_type": "code",
   "execution_count": null,
   "id": "17b9eb4a-feae-424c-a505-8cba1a4f8808",
   "metadata": {},
   "outputs": [],
   "source": [
    "df.info()"
   ]
  },
  {
   "cell_type": "code",
   "execution_count": null,
   "id": "b54e69af-5757-48e6-944a-769476653e0c",
   "metadata": {},
   "outputs": [],
   "source": [
    "df.head()"
   ]
  },
  {
   "cell_type": "code",
   "execution_count": null,
   "id": "a5e7586a",
   "metadata": {},
   "outputs": [],
   "source": [
    "df.floor.unique()"
   ]
  },
  {
   "cell_type": "code",
   "execution_count": null,
   "id": "3f99b3e6",
   "metadata": {},
   "outputs": [],
   "source": [
    "df[df.floor == 'en']"
   ]
  },
  {
   "cell_type": "code",
   "execution_count": 19,
   "id": "14510640",
   "metadata": {},
   "outputs": [],
   "source": [
    "df.floor = df.floor.str.replace('bj', '0')\n",
    "df.floor = df.floor.str.replace('-', '')\n",
    "df.floor = df.floor.str.replace('st', '-1')\n",
    "df.floor = df.floor.str.replace('ss', '-1')\n",
    "df.floor = df.floor.str.replace('en', '-1')\n",
    "df.floor = df.floor.astype(float)"
   ]
  },
  {
   "cell_type": "code",
   "execution_count": null,
   "id": "971ee21c",
   "metadata": {},
   "outputs": [],
   "source": [
    "df.floor.describe()"
   ]
  },
  {
   "cell_type": "code",
   "execution_count": null,
   "id": "2ad0cbf6",
   "metadata": {},
   "outputs": [],
   "source": [
    "df.priceInfo.unique()"
   ]
  },
  {
   "cell_type": "code",
   "execution_count": 22,
   "id": "08b1efbe",
   "metadata": {},
   "outputs": [],
   "source": [
    "# Function to parse the price and coalesce the formerPrice\n",
    "def extract_former_price(price_str):\n",
    "    # Parse the string to a dictionary\n",
    "    price_dict = ast.literal_eval(price_str)\n",
    "    price_info = price_dict.get('price', {})\n",
    "    amount = price_info.get('amount')  # Current price\n",
    "    price_drop_info = price_info.get('priceDropInfo', {})\n",
    "    former_price = price_drop_info.get('formerPrice')  # Former price, if available\n",
    "    # Coalesce formerPrice with the current price\n",
    "    return former_price if former_price is not None else amount\n",
    "\n",
    "# Apply the function to create the formerPrice column\n",
    "df['formerPrice'] = df['priceInfo'].apply(extract_former_price)\n",
    "df['priceChange'] = df['formerPrice'] - df['price']\n",
    "df = df.drop(columns=['priceInfo'])"
   ]
  },
  {
   "cell_type": "code",
   "execution_count": null,
   "id": "a284ae0d",
   "metadata": {},
   "outputs": [],
   "source": [
    "df['formerPrice']"
   ]
  },
  {
   "cell_type": "code",
   "execution_count": null,
   "id": "fe81f405",
   "metadata": {},
   "outputs": [],
   "source": [
    "df.head()"
   ]
  },
  {
   "cell_type": "code",
   "execution_count": null,
   "id": "dd890eb8",
   "metadata": {},
   "outputs": [],
   "source": [
    "df.parkingSpace.unique()"
   ]
  },
  {
   "cell_type": "code",
   "execution_count": 26,
   "id": "301eec9b",
   "metadata": {},
   "outputs": [],
   "source": [
    "df['parkingSpace'] = df['parkingSpace'].fillna('{}')\n",
    "df['parsed'] = df['parkingSpace'].apply(ast.literal_eval)\n",
    "df['hasParkingSpace'] = df['parsed'].apply(lambda x: x.get('hasParkingSpace', False))\n",
    "df['isParkingSpaceIncludedInPrice'] = df['parsed'].apply(lambda x: x.get('isParkingSpaceIncludedInPrice', False))\n",
    "df['parkingSpacePrice'] = df['parsed'].apply(lambda x: x.get('parkingSpacePrice', 0))\n",
    "df.drop(columns=['parkingSpace', 'parsed'], inplace=True)"
   ]
  },
  {
   "cell_type": "code",
   "execution_count": null,
   "id": "54d3e39d",
   "metadata": {},
   "outputs": [],
   "source": [
    "df.head()"
   ]
  },
  {
   "cell_type": "code",
   "execution_count": null,
   "id": "51eeee3b",
   "metadata": {},
   "outputs": [],
   "source": [
    "df[df.hasLift.isnull()].head()"
   ]
  },
  {
   "cell_type": "code",
   "execution_count": null,
   "id": "b592e877",
   "metadata": {},
   "outputs": [],
   "source": [
    "df.columns"
   ]
  },
  {
   "cell_type": "code",
   "execution_count": 30,
   "id": "7d7ad659",
   "metadata": {},
   "outputs": [],
   "source": [
    "df = df[df['price'] > 0]"
   ]
  },
  {
   "cell_type": "code",
   "execution_count": 31,
   "id": "97f280b6",
   "metadata": {},
   "outputs": [],
   "source": [
    "df[\"newDevelopment\"] = df.newDevelopment.fillna(0).astype(int).astype(bool)\n",
    "df[\"newDevelopmentFinished\"] = df.newDevelopmentFinished.fillna(0).astype(int).astype(bool)\n",
    "df[\"hasLift\"] = df.hasLift.fillna(0).astype(int).astype(bool)\n",
    "df[\"isParkingSpaceIncludedInPrice\"] = df.isParkingSpaceIncludedInPrice.fillna(0).astype(int).astype(bool)"
   ]
  },
  {
   "cell_type": "code",
   "execution_count": 32,
   "id": "ceb3c18e",
   "metadata": {},
   "outputs": [],
   "source": [
    "freguesias_lisboa = [\n",
    "    \"Ajuda\",\n",
    "    \"Alcântara\",\n",
    "    \"Alvalade\",\n",
    "    \"Areeiro\",\n",
    "    \"Arroios\",\n",
    "    \"Avenidas Novas\",\n",
    "    \"Beato\",\n",
    "    \"Belém\",\n",
    "    \"Benfica\",\n",
    "    \"Campo de Ourique\",\n",
    "    \"Campolide\",\n",
    "    \"Carnide\",\n",
    "    \"Estrela\",\n",
    "    \"Lumiar\",\n",
    "    \"Marvila\",\n",
    "    \"Misericórdia\",\n",
    "    \"Olivais\",\n",
    "    \"Parque das Nações\",\n",
    "    \"Penha de França\",\n",
    "    \"Santa Clara\",\n",
    "    \"Santa Maria Maior\",\n",
    "    \"Santo António\",\n",
    "    \"São Domingos de Benfica\",\n",
    "    \"São Vicente\",\n",
    "]"
   ]
  },
  {
   "cell_type": "code",
   "execution_count": 33,
   "id": "35724b85",
   "metadata": {},
   "outputs": [],
   "source": [
    "df = df[df[\"municipality\"].isin(freguesias_lisboa)]"
   ]
  },
  {
   "cell_type": "code",
   "execution_count": null,
   "id": "b4825420",
   "metadata": {},
   "outputs": [],
   "source": [
    "set(df[\"municipality\"].unique()) == set(freguesias_lisboa)"
   ]
  },
  {
   "cell_type": "code",
   "execution_count": 35,
   "id": "ec303a4f",
   "metadata": {},
   "outputs": [],
   "source": [
    "df.to_csv(f\"../data/idealista/cleaned/{operation}/{city}/{file_name}.csv\", index=True)"
   ]
  },
  {
   "cell_type": "code",
   "execution_count": 36,
   "id": "7d4bdec8",
   "metadata": {},
   "outputs": [],
   "source": [
    "import numpy as np\n",
    "\n",
    "df[\"logPrice\"] = np.log(df[\"price\"])\n",
    "df[\"pricePerSquareMeter\"] = df[\"price\"] / df[\"size\"]\n",
    "df[\"logPricePerSquareMeter\"] = df[\"logPrice\"] / df[\"size\"]"
   ]
  },
  {
   "cell_type": "code",
   "execution_count": 37,
   "id": "7fffd709",
   "metadata": {},
   "outputs": [],
   "source": [
    "features = [\n",
    "    \"propertyType\",\n",
    "    \"size\",\n",
    "    \"rooms\",\n",
    "    \"bathrooms\",\n",
    "    \"municipality\",\n",
    "    \"latitude\",\n",
    "    \"longitude\",\n",
    "    \"status\",\n",
    "    \"newDevelopment\",\n",
    "    \"hasLift\",\n",
    "    \"newDevelopmentFinished\",\n",
    "    \"hasParkingSpace\",\n",
    "    \"isParkingSpaceIncludedInPrice\",\n",
    "]\n",
    "targets = [\n",
    "    \"price\",\n",
    "    \"logPrice\",\n",
    "    \"pricePerSquareMeter\",\n",
    "    \"logPricePerSquareMeter\",\n",
    "]"
   ]
  },
  {
   "cell_type": "code",
   "execution_count": null,
   "id": "2abea7ab",
   "metadata": {},
   "outputs": [],
   "source": [
    "categorical_columns = df[features + targets].select_dtypes(include=[\"object\"]).columns"
   ]
  },
  {
   "cell_type": "code",
   "execution_count": 39,
   "id": "e7ebb2eb",
   "metadata": {},
   "outputs": [],
   "source": [
    "df_encoded = pd.get_dummies(df[features + targets], columns=categorical_columns, drop_first=True)"
   ]
  },
  {
   "cell_type": "code",
   "execution_count": null,
   "id": "285fd2d9",
   "metadata": {},
   "outputs": [],
   "source": [
    "df_encoded.head()"
   ]
  },
  {
   "cell_type": "code",
   "execution_count": 41,
   "id": "a6e42e2f",
   "metadata": {},
   "outputs": [],
   "source": [
    "boolean_columns = df_encoded.select_dtypes(include=[\"bool\"]).columns"
   ]
  },
  {
   "cell_type": "code",
   "execution_count": 42,
   "id": "7db8d455",
   "metadata": {},
   "outputs": [],
   "source": [
    "df_encoded[boolean_columns] = df_encoded[boolean_columns].astype(int)"
   ]
  },
  {
   "cell_type": "code",
   "execution_count": null,
   "id": "331257fc",
   "metadata": {},
   "outputs": [],
   "source": [
    "df_encoded[boolean_columns].head()"
   ]
  },
  {
   "cell_type": "code",
   "execution_count": null,
   "id": "dc816706",
   "metadata": {},
   "outputs": [],
   "source": [
    "df_encoded.columns"
   ]
  },
  {
   "cell_type": "code",
   "execution_count": 45,
   "id": "5966aa53",
   "metadata": {},
   "outputs": [],
   "source": [
    "from sklearn.ensemble import IsolationForest\n",
    "from sklearn.preprocessing import StandardScaler\n",
    "\n",
    "# Optionally scale\n",
    "scaler = StandardScaler()\n",
    "scaled_features = scaler.fit_transform(df_encoded)"
   ]
  },
  {
   "cell_type": "code",
   "execution_count": 46,
   "id": "b5a3522f",
   "metadata": {},
   "outputs": [],
   "source": [
    "# Initialize the model\n",
    "# 'contamination' roughly means: \"what fraction of data do you think are outliers?\"\n",
    "iso_forest = IsolationForest(contamination=0.1, random_state=42)"
   ]
  },
  {
   "cell_type": "code",
   "execution_count": null,
   "id": "72ebbcd8",
   "metadata": {},
   "outputs": [],
   "source": [
    "# Fit the model on our scaled features\n",
    "iso_forest.fit(scaled_features)"
   ]
  },
  {
   "cell_type": "code",
   "execution_count": 48,
   "id": "3ce1e093",
   "metadata": {},
   "outputs": [],
   "source": [
    "# Predict outliers\n",
    "# The output is: 1 for \"normal\" and -1 for \"outlier\"\n",
    "outlier_predictions = iso_forest.predict(scaled_features)"
   ]
  },
  {
   "cell_type": "code",
   "execution_count": 49,
   "id": "db5be1df",
   "metadata": {},
   "outputs": [],
   "source": [
    "df['outlier'] = outlier_predictions"
   ]
  },
  {
   "cell_type": "code",
   "execution_count": null,
   "id": "7c8e1527",
   "metadata": {},
   "outputs": [],
   "source": [
    "df[df.outlier == -1][features + targets].describe()"
   ]
  },
  {
   "cell_type": "code",
   "execution_count": null,
   "id": "9e8c5cda",
   "metadata": {},
   "outputs": [],
   "source": [
    "df[df.outlier == 1][features + targets].describe()"
   ]
  },
  {
   "cell_type": "code",
   "execution_count": null,
   "id": "7d4b3c46",
   "metadata": {},
   "outputs": [],
   "source": [
    "df[df[\"size\"] == 80500.0]"
   ]
  },
  {
   "cell_type": "code",
   "execution_count": 53,
   "id": "310b3774",
   "metadata": {},
   "outputs": [],
   "source": [
    "df_iso_forest = df[df.outlier == 1][features + targets]"
   ]
  },
  {
   "cell_type": "code",
   "execution_count": 54,
   "id": "067b7d53",
   "metadata": {},
   "outputs": [],
   "source": [
    "df_iso_forest.to_csv(f\"../data/idealista/cleaned/{operation}/{city}/{file_name}-iso-forest.csv\", index=True)"
   ]
  },
  {
   "cell_type": "code",
   "execution_count": 55,
   "id": "1cd6ef52",
   "metadata": {},
   "outputs": [],
   "source": [
    "from sklearn.neighbors import LocalOutlierFactor\n",
    "\n",
    "# Initialize the Local Outlier Factor model\n",
    "lof = LocalOutlierFactor(n_neighbors=20, contamination=0.1)"
   ]
  },
  {
   "cell_type": "code",
   "execution_count": 56,
   "id": "170731e9",
   "metadata": {},
   "outputs": [],
   "source": [
    "outlier_predictions = lof.fit_predict(df_encoded)"
   ]
  },
  {
   "cell_type": "code",
   "execution_count": 57,
   "id": "bc977e87",
   "metadata": {},
   "outputs": [],
   "source": [
    "df['outlier'] = outlier_predictions"
   ]
  },
  {
   "cell_type": "code",
   "execution_count": null,
   "id": "81cc2a12",
   "metadata": {},
   "outputs": [],
   "source": [
    "df[df.outlier == -1][features + targets].describe()"
   ]
  },
  {
   "cell_type": "code",
   "execution_count": null,
   "id": "b771919c",
   "metadata": {},
   "outputs": [],
   "source": [
    "df[df.outlier == 1][features + targets].describe()"
   ]
  },
  {
   "cell_type": "code",
   "execution_count": 60,
   "id": "fbf2a15c",
   "metadata": {},
   "outputs": [],
   "source": [
    "df_lof = df[df.outlier == 1][features + targets]"
   ]
  },
  {
   "cell_type": "code",
   "execution_count": 61,
   "id": "4b055311",
   "metadata": {},
   "outputs": [],
   "source": [
    "df_lof.to_csv(f\"../data/idealista/cleaned/{operation}/{city}/{file_name}-lof.csv\", index=True)"
   ]
  }
 ],
 "metadata": {
  "kernelspec": {
   "display_name": "Python 3",
   "language": "python",
   "name": "python3"
  },
  "language_info": {
   "codemirror_mode": {
    "name": "ipython",
    "version": 3
   },
   "file_extension": ".py",
   "mimetype": "text/x-python",
   "name": "python",
   "nbconvert_exporter": "python",
   "pygments_lexer": "ipython3",
   "version": "3.11.11"
  }
 },
 "nbformat": 4,
 "nbformat_minor": 5
}
