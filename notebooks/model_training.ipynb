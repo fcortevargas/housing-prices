{
 "cells": [
  {
   "cell_type": "code",
   "execution_count": 2,
   "metadata": {},
   "outputs": [],
   "source": [
    "import numpy as np\n",
    "import pandas as pd\n",
    "import matplotlib.pyplot as plt\n",
    "import seaborn as sns\n",
    "\n",
    "from sklearn.model_selection import KFold\n",
    "from sklearn.linear_model import LinearRegression\n",
    "from sklearn.metrics import mean_squared_error, r2_score"
   ]
  },
  {
   "cell_type": "code",
   "execution_count": 3,
   "metadata": {},
   "outputs": [],
   "source": [
    "# Define the features and target\n",
    "X = pd.read_csv('../data/idealista/training/unioned-features-rent.csv', index_col=0)\n",
    "y = pd.read_csv('../data/idealista/training/unioned-targets-rent.csv', index_col=0)['logPrice']"
   ]
  },
  {
   "cell_type": "code",
   "execution_count": null,
   "metadata": {},
   "outputs": [],
   "source": [
    "X.head()"
   ]
  },
  {
   "cell_type": "code",
   "execution_count": null,
   "metadata": {},
   "outputs": [],
   "source": [
    "y.head()"
   ]
  },
  {
   "cell_type": "code",
   "execution_count": 8,
   "metadata": {},
   "outputs": [],
   "source": [
    "from sklearn.model_selection import train_test_split\n",
    "\n",
    "X_train, X_test, y_train, y_test = train_test_split(X, y, test_size=0.25, random_state=42, stratify=X['municipality'])"
   ]
  },
  {
   "cell_type": "code",
   "execution_count": null,
   "metadata": {},
   "outputs": [],
   "source": [
    "sns.countplot(X_train['municipality'], order=X_train['municipality'].value_counts().index)"
   ]
  },
  {
   "cell_type": "code",
   "execution_count": null,
   "metadata": {},
   "outputs": [],
   "source": [
    "sns.countplot(X_test['municipality'], order=X_test['municipality'].value_counts().index)"
   ]
  },
  {
   "cell_type": "code",
   "execution_count": null,
   "metadata": {},
   "outputs": [],
   "source": []
  },
  {
   "cell_type": "code",
   "execution_count": 6,
   "metadata": {},
   "outputs": [],
   "source": [
    "def target_encode(train_features, test_features, train_target, col, smoothing_factor=10):\n",
    "    \"\"\"\n",
    "    Performs median target encoding with smoothing on the training data and applies to the test data.\n",
    "    Arguments:\n",
    "    - train_features: Training features DataFrame\n",
    "    - test_features: Test features DataFrame\n",
    "    - train_target: Training target Series\n",
    "    - col: Categorical column to encode\n",
    "    - smoothing_factor: Alpha parameter for smoothing\n",
    "\n",
    "    Returns:\n",
    "    - Train and test DataFrames with the target encoding applied\n",
    "    \"\"\"\n",
    "    # Merge the features and target\n",
    "    train_data = train_features.merge(train_target, how='inner', on=train_features.index.name, validate='one_to_one')\n",
    "\n",
    "    # Global median of the target\n",
    "    global_median = train_target.median()\n",
    "\n",
    "    # Group by the column to encode\n",
    "    agg = train_data.groupby(col)[train_target.name].agg(['median', 'count'])\n",
    "    agg['smoothed_median'] = (agg['count'] * agg['median'] + smoothing_factor * global_median) / (agg['count'] + smoothing_factor)\n",
    "\n",
    "    # Map to train and test\n",
    "    train_features = train_features.copy()\n",
    "    test_features = test_features.copy()\n",
    "\n",
    "    train_features[f\"{col}_encoded\"] = train_features[col].map(agg['smoothed_median']).fillna(global_median)\n",
    "    train_features = train_features.drop(columns=[col])\n",
    "    \n",
    "    if test_features is not None:\n",
    "        test_features[f\"{col}_encoded\"] = test_features[col].map(agg['smoothed_median']).fillna(global_median)\n",
    "        test_features = test_features.drop(columns=[col])\n",
    "        return train_features, test_features\n",
    "    else:\n",
    "        return train_features"
   ]
  },
  {
   "cell_type": "code",
   "execution_count": null,
   "metadata": {},
   "outputs": [],
   "source": []
  },
  {
   "cell_type": "code",
   "execution_count": null,
   "metadata": {},
   "outputs": [],
   "source": [
    "# Prepare for K-Fold Cross-Validation\n",
    "kf = KFold(n_splits=5, shuffle=True, random_state=42)\n",
    "errors = []\n",
    "r2_scores = []\n",
    "\n",
    "for train_idx, val_idx in kf.split(X):\n",
    "    # Split data into training and validation sets\n",
    "    X_train, X_val = X.iloc[train_idx], X.iloc[val_idx]\n",
    "    y_train, y_val = y.iloc[train_idx], y.iloc[val_idx]\n",
    "\n",
    "    # Apply target encoding to the training and validation sets\n",
    "    X_train_encoded, X_val_encoded = target_encode(\n",
    "        train_features=X_train,\n",
    "        test_features=X_val,\n",
    "        train_target=y_train,\n",
    "        col=\"municipality\",\n",
    "        smoothing_factor=10,\n",
    "    )\n",
    "\n",
    "    # Train a linear regression model\n",
    "    lin_model = LinearRegression()\n",
    "    lin_model.fit(X_train_encoded, y_train)\n",
    "\n",
    "    # Evaluate the model on the validation set\n",
    "    y_pred = lin_model.predict(X_val_encoded)\n",
    "\n",
    "    # Calculate the RMSE and R^2\n",
    "    rmse = np.sqrt(mean_squared_error(y_val, y_pred))\n",
    "    r2 = r2_score(y_val, y_pred)\n",
    "    errors.append(rmse)\n",
    "    r2_scores.append(r2)\n",
    "\n",
    "# Report Cross-Validation Performance\n",
    "print(f\"Cross-Validation RMSE: {np.mean(errors):.4f}\")\n",
    "print(f\"Cross-Validation R^2: {np.mean(r2_scores):.4f}\")"
   ]
  },
  {
   "cell_type": "code",
   "execution_count": 7,
   "metadata": {},
   "outputs": [],
   "source": [
    "from sklearn.ensemble import RandomForestRegressor"
   ]
  },
  {
   "cell_type": "code",
   "execution_count": null,
   "metadata": {},
   "outputs": [],
   "source": [
    "# Prepare for K-Fold Cross-Validation\n",
    "kf = KFold(n_splits=5, shuffle=True, random_state=42)\n",
    "errors = []\n",
    "r2_scores = []\n",
    "\n",
    "for train_idx, val_idx in kf.split(X):\n",
    "    # Split data into training and validation sets\n",
    "    X_train, X_val = X.iloc[train_idx], X.iloc[val_idx]\n",
    "    y_train, y_val = y.iloc[train_idx], y.iloc[val_idx]\n",
    "\n",
    "    # Apply target encoding to the training and validation sets\n",
    "    X_train_encoded, X_val_encoded = target_encode(\n",
    "        train_features=X_train,\n",
    "        test_features=X_val,\n",
    "        train_target=y_train,\n",
    "        col=\"municipality\",\n",
    "        smoothing_factor=10,\n",
    "    )\n",
    "\n",
    "    # Train a linear regression model\n",
    "    rf_model = RandomForestRegressor()\n",
    "    rf_model.fit(X_train_encoded, y_train)\n",
    "\n",
    "    # Evaluate the model on the validation set\n",
    "    y_pred = rf_model.predict(X_val_encoded)\n",
    "\n",
    "    # Calculate the RMSE and R^2\n",
    "    rmse = np.sqrt(mean_squared_error(y_val, y_pred))\n",
    "    r2 = r2_score(y_val, y_pred)\n",
    "    errors.append(rmse)\n",
    "    r2_scores.append(r2)\n",
    "\n",
    "# Report Cross-Validation Performance\n",
    "print(f\"Cross-Validation RMSE: {np.mean(errors):.4f}\")\n",
    "print(f\"Cross-Validation R^2: {np.mean(r2_scores):.4f}\")"
   ]
  },
  {
   "cell_type": "code",
   "execution_count": 16,
   "metadata": {},
   "outputs": [],
   "source": [
    "def plot_performance(model, X_train, y_train, X_test, y_test):\n",
    "    # Define the range of the dependent variable\n",
    "    var_range = [6.3, 8.5]\n",
    "        \n",
    "    # Predict on training and test data\n",
    "    y_train_pred = model.predict(X_train)\n",
    "    y_test_pred = model.predict(X_test)\n",
    "    \n",
    "    # Plot actual vs predicted values\n",
    "    plt.figure(figsize=(12, 4))\n",
    "    \n",
    "    # Plot train data\n",
    "    plt.subplot(1, 2, 1)\n",
    "    plt.scatter(y_train, y_train_pred, color='royalblue', alpha=0.5, label='Train data')\n",
    "    plt.plot(var_range, var_range, 'k--', lw=2)\n",
    "    plt.xlabel(f'Actual price')\n",
    "    plt.xlim(var_range[0] - 0.5, var_range[1] + 0.5)\n",
    "    plt.ylabel(f'Predicted price')\n",
    "    plt.ylim(var_range[0] - 0.5, var_range[1] + 0.5)\n",
    "    plt.text(var_range[0], var_range[1] - 0.5, \"MSE = {:.3f}\".format(mean_squared_error(y_train, y_train_pred)))\n",
    "    plt.text(var_range[0], var_range[1] - 1, \"R² = {:.3f}\".format(r2_score(y_train, y_train_pred)))\n",
    "    plt.legend(loc=\"lower right\")\n",
    "    \n",
    "    # Plot test data\n",
    "    plt.subplot(1, 2, 2)\n",
    "    plt.scatter(y_test, y_test_pred, color='lightskyblue', alpha=0.5, label='Test data')\n",
    "    plt.plot(var_range, var_range, 'k--', lw=2)\n",
    "    plt.xlabel(f'Actual price')\n",
    "    plt.xlim(var_range[0] - 0.5, var_range[1] + 0.5)\n",
    "    plt.ylabel(f'Predicted price')\n",
    "    plt.ylim(var_range[0] - 0.5, var_range[1] + 0.5)\n",
    "    plt.text(var_range[0], var_range[1] - 0.5, \"MSE = {:.3f}\".format(mean_squared_error(y_test, y_test_pred)))\n",
    "    plt.text(var_range[0], var_range[1] - 1, \"R² = {:.3f}\".format(r2_score(y_test, y_test_pred)))\n",
    "    plt.legend(loc=\"lower right\")\n",
    "    \n",
    "    plt.show()"
   ]
  },
  {
   "cell_type": "code",
   "execution_count": null,
   "metadata": {},
   "outputs": [],
   "source": [
    "plot_performance(lin_model, X_train_encoded, y_train, X_val_encoded, y_val)"
   ]
  },
  {
   "cell_type": "code",
   "execution_count": null,
   "metadata": {},
   "outputs": [],
   "source": [
    "plot_performance(rf_model, X_train_encoded, y_train, X_val_encoded, y_val)"
   ]
  },
  {
   "cell_type": "code",
   "execution_count": null,
   "metadata": {},
   "outputs": [],
   "source": [
    "from sklearn.model_selection import GridSearchCV\n",
    "from sklearn.ensemble import RandomForestRegressor\n",
    "\n",
    "# Define the model and parameter grid\n",
    "rf = RandomForestRegressor(random_state=42)\n",
    "param_grid = {\n",
    "    'max_depth': [10, 20, None],\n",
    "    'min_samples_split': [2, 5, 10],\n",
    "    'min_samples_leaf': [1, 2, 4],\n",
    "    'n_estimators': [50, 100, 200],\n",
    "}\n",
    "\n",
    "# Perform grid search\n",
    "grid_search = GridSearchCV(estimator=rf, param_grid=param_grid, cv=3, scoring='neg_mean_squared_error', verbose=2)\n",
    "grid_search.fit(X_train_encoded, y_train)\n",
    "\n",
    "# Get the best model\n",
    "best_rf = grid_search.best_estimator_\n",
    "print(\"Best parameters:\", grid_search.best_params_)"
   ]
  },
  {
   "cell_type": "code",
   "execution_count": null,
   "metadata": {},
   "outputs": [],
   "source": [
    "plot_performance(best_rf, X_train_encoded, y_train, X_val_encoded, y_val)"
   ]
  },
  {
   "cell_type": "code",
   "execution_count": null,
   "metadata": {},
   "outputs": [],
   "source": []
  }
 ],
 "metadata": {
  "kernelspec": {
   "display_name": "Python 3",
   "language": "python",
   "name": "python3"
  },
  "language_info": {
   "codemirror_mode": {
    "name": "ipython",
    "version": 3
   },
   "file_extension": ".py",
   "mimetype": "text/x-python",
   "name": "python",
   "nbconvert_exporter": "python",
   "pygments_lexer": "ipython3",
   "version": "3.11.11"
  }
 },
 "nbformat": 4,
 "nbformat_minor": 2
}
