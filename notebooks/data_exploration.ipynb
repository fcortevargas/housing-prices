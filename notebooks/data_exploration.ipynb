{
 "cells": [
  {
   "cell_type": "code",
   "execution_count": 1,
   "metadata": {},
   "outputs": [],
   "source": [
    "import datetime\n",
    "import numpy as np\n",
    "import pandas as pd\n",
    "import matplotlib.pyplot as plt\n",
    "import matplotlib.colors as colors\n",
    "import seaborn as sns\n",
    "import geopandas as gpd\n",
    "import folium\n",
    "from shapely.geometry import Point"
   ]
  },
  {
   "cell_type": "code",
   "execution_count": 2,
   "metadata": {},
   "outputs": [],
   "source": [
    "custom_params = {\"axes.spines.right\": False, \"axes.spines.top\": False}\n",
    "sns.set_theme(style=\"ticks\", rc=custom_params)"
   ]
  },
  {
   "cell_type": "code",
   "execution_count": 3,
   "metadata": {},
   "outputs": [],
   "source": [
    "def remove_outliers(df, variables, thresholds=None, groupby=None):\n",
    "    \"\"\"\n",
    "    Removes outliers from specified variables using IQR or domain-based thresholds,\n",
    "    with an optional grouping feature.\n",
    "\n",
    "    Parameters:\n",
    "    df (pd.DataFrame): The dataset.\n",
    "    variables (list): List of variables to check for outliers.\n",
    "    thresholds (dict, optional): Custom lower and upper bounds for specific variables.\n",
    "                                 Format: {'variable': {'lower': value, 'upper': value}}\n",
    "    groupby (str, optional): Column name to group by before removing outliers.\n",
    "\n",
    "    Returns:\n",
    "    pd.DataFrame: Dataset with outliers removed.\n",
    "    \"\"\"\n",
    "    df_cleaned = df.copy()\n",
    "\n",
    "    if groupby:\n",
    "        # Preserve the groupby column\n",
    "        group_values = df_cleaned[groupby]  # Retain original group column\n",
    "\n",
    "        # Apply function within each group\n",
    "        df_cleaned = df_cleaned.groupby(groupby, group_keys=False).apply(\n",
    "            lambda group: _remove_outliers_in_group(group, variables, thresholds),\n",
    "            include_groups=False,\n",
    "        )\n",
    "\n",
    "        # Reattach the groupby column\n",
    "        df_cleaned = df_cleaned.merge(\n",
    "            group_values, left_index=True, right_index=True, how=\"left\"\n",
    "        )\n",
    "\n",
    "    else:\n",
    "        df_cleaned = _remove_outliers_in_group(df_cleaned, variables, thresholds)\n",
    "\n",
    "    return df_cleaned\n",
    "\n",
    "\n",
    "def _remove_outliers_in_group(df, variables, thresholds=None):\n",
    "    \"\"\"\n",
    "    Helper function to remove outliers within a DataFrame or group.\n",
    "    \"\"\"\n",
    "    df_filtered = df.copy()\n",
    "\n",
    "    for variable in variables:\n",
    "        # Check for custom thresholds\n",
    "        if thresholds and variable in thresholds:\n",
    "            lower = thresholds[variable].get(\"lower\", None)\n",
    "            upper = thresholds[variable].get(\"upper\", None)\n",
    "        else:\n",
    "            # Default to IQR if no custom threshold provided\n",
    "            Q1 = df_filtered[variable].quantile(0.25)\n",
    "            Q3 = df_filtered[variable].quantile(0.75)\n",
    "            IQR = Q3 - Q1\n",
    "            lower = Q1 - 1.5 * IQR\n",
    "            upper = Q3 + 1.5 * IQR\n",
    "\n",
    "        # Remove outliers\n",
    "        df_filtered = df_filtered[\n",
    "            (df_filtered[variable] >= lower) & (df_filtered[variable] <= upper)\n",
    "        ]\n",
    "\n",
    "    return df_filtered"
   ]
  },
  {
   "cell_type": "code",
   "execution_count": 4,
   "metadata": {},
   "outputs": [],
   "source": [
    "def is_valid_date_format(date_string):\n",
    "    try:\n",
    "        datetime.datetime.strptime(date_string, \"%Y-%m-%d\")\n",
    "        return True\n",
    "    except ValueError:\n",
    "        return False"
   ]
  },
  {
   "cell_type": "code",
   "execution_count": 5,
   "metadata": {},
   "outputs": [],
   "source": [
    "city = \"lisbon\"\n",
    "operation = \"rent\"\n",
    "date_or_unioned = \"unioned\""
   ]
  },
  {
   "cell_type": "code",
   "execution_count": 6,
   "metadata": {},
   "outputs": [],
   "source": [
    "if not (date_or_unioned == \"unioned\" or is_valid_date_format(date_or_unioned)):\n",
    "    raise ValueError(\n",
    "        \"date_or_unioned must be 'unioned' or a valid date in the format 'YYYY-MM-DD'\"\n",
    "    )"
   ]
  },
  {
   "cell_type": "code",
   "execution_count": 7,
   "metadata": {},
   "outputs": [],
   "source": [
    "file_name = f\"{date_or_unioned}-{city}-listings-for-{operation}_lof.csv\""
   ]
  },
  {
   "cell_type": "code",
   "execution_count": 8,
   "metadata": {},
   "outputs": [],
   "source": [
    "read_path = f\"../data/idealista\"\n",
    "\n",
    "df = pd.read_csv(\n",
    "    f\"{read_path}/cleaned/{operation}/{city}/{file_name}\", index_col=\"propertyCode\"\n",
    ")"
   ]
  },
  {
   "cell_type": "code",
   "execution_count": null,
   "metadata": {},
   "outputs": [],
   "source": [
    "df.head()"
   ]
  },
  {
   "cell_type": "code",
   "execution_count": null,
   "metadata": {},
   "outputs": [],
   "source": [
    "df.info()"
   ]
  },
  {
   "cell_type": "code",
   "execution_count": null,
   "metadata": {},
   "outputs": [],
   "source": [
    "df.describe()"
   ]
  },
  {
   "cell_type": "code",
   "execution_count": null,
   "metadata": {},
   "outputs": [],
   "source": [
    "df.columns"
   ]
  },
  {
   "cell_type": "code",
   "execution_count": 13,
   "metadata": {},
   "outputs": [],
   "source": []
  },
  {
   "cell_type": "code",
   "execution_count": null,
   "metadata": {},
   "outputs": [],
   "source": [
    "df.info()"
   ]
  },
  {
   "cell_type": "code",
   "execution_count": null,
   "metadata": {},
   "outputs": [],
   "source": [
    "numeric_columns = df.select_dtypes(include=\"number\").columns\n",
    "numeric_columns"
   ]
  },
  {
   "cell_type": "code",
   "execution_count": null,
   "metadata": {},
   "outputs": [],
   "source": [
    "categorical_columns = df.select_dtypes(include=[\"bool\", 'object']).columns\n",
    "categorical_columns"
   ]
  },
  {
   "cell_type": "code",
   "execution_count": null,
   "metadata": {},
   "outputs": [],
   "source": [
    "df.head()"
   ]
  },
  {
   "cell_type": "code",
   "execution_count": null,
   "metadata": {},
   "outputs": [],
   "source": [
    "plt.figure(figsize=(20, 10))\n",
    "municipality_count_plot = sns.countplot(\n",
    "    x=\"municipality\",\n",
    "    data=df,\n",
    "    order=df[\"municipality\"].value_counts().index,\n",
    ")\n",
    "\n",
    "# Set proper tick locations before changing labels\n",
    "municipality_count_plot.set_xticks(range(len(df[\"municipality\"].unique())))\n",
    "municipality_count_plot.set_xticklabels(\n",
    "    municipality_count_plot.get_xticklabels(), rotation=90\n",
    ")\n",
    "\n",
    "plt.show()"
   ]
  },
  {
   "cell_type": "code",
   "execution_count": null,
   "metadata": {},
   "outputs": [],
   "source": [
    "municipality_counts = df[\"municipality\"].value_counts()\n",
    "municipality_counts"
   ]
  },
  {
   "cell_type": "code",
   "execution_count": 19,
   "metadata": {},
   "outputs": [],
   "source": [
    "valid_municipalities = municipality_counts[municipality_counts >= 50].index\n",
    "df = df[df[\"municipality\"].isin(valid_municipalities)]"
   ]
  },
  {
   "cell_type": "code",
   "execution_count": null,
   "metadata": {},
   "outputs": [],
   "source": [
    "df[\"municipality\"].value_counts()"
   ]
  },
  {
   "cell_type": "code",
   "execution_count": null,
   "metadata": {},
   "outputs": [],
   "source": [
    "plt.figure(figsize=(20, 10))\n",
    "property_type_count_plot = sns.countplot(\n",
    "    x=\"propertyType\",\n",
    "    data=df,\n",
    "    order=df[\"propertyType\"].value_counts().index,\n",
    ")\n",
    "\n",
    "# Set proper tick locations before changing labels\n",
    "property_type_count_plot.set_xticks(range(len(df[\"propertyType\"].unique())))\n",
    "property_type_count_plot.set_xticklabels(\n",
    "    property_type_count_plot.get_xticklabels(), rotation=90\n",
    ")\n",
    "\n",
    "plt.show()"
   ]
  },
  {
   "cell_type": "code",
   "execution_count": 22,
   "metadata": {},
   "outputs": [],
   "source": [
    "property_types = df[\"propertyType\"].unique()"
   ]
  },
  {
   "cell_type": "code",
   "execution_count": 23,
   "metadata": {},
   "outputs": [],
   "source": [
    "variables_with_outliers = [\"price\"]\n",
    "\n",
    "# Remove outliers for all specified variables\n",
    "df_no_price_outliers = remove_outliers(df, variables=variables_with_outliers)"
   ]
  },
  {
   "cell_type": "code",
   "execution_count": 24,
   "metadata": {},
   "outputs": [],
   "source": [
    "def describe_column(df, column):\n",
    "    \"\"\"\n",
    "    Returns a summary of a column in a DataFrame.\n",
    "\n",
    "    Parameters:\n",
    "    df (pd.DataFrame): The dataset.\n",
    "    column (str): The column to describe.\n",
    "\n",
    "    Returns:\n",
    "    pd.Series: Summary of the column.\n",
    "    \"\"\"\n",
    "    return df[column].describe()"
   ]
  },
  {
   "cell_type": "code",
   "execution_count": null,
   "metadata": {},
   "outputs": [],
   "source": [
    "describe_column(df, \"price\")"
   ]
  },
  {
   "cell_type": "code",
   "execution_count": null,
   "metadata": {},
   "outputs": [],
   "source": [
    "describe_column(df_no_price_outliers, \"price\")"
   ]
  },
  {
   "cell_type": "code",
   "execution_count": 27,
   "metadata": {},
   "outputs": [],
   "source": [
    "def catplot(df, x, y=None, kind=\"box\"):\n",
    "    if y is not None:\n",
    "        sns.catplot(\n",
    "            x=x,\n",
    "            y=y,\n",
    "            data=df,\n",
    "            kind=kind,\n",
    "            order=df.groupby(y)[x].median().sort_values().index,\n",
    "        )\n",
    "    else:\n",
    "        sns.catplot(x=x, data=df, kind=kind)\n",
    "    plt.show()"
   ]
  },
  {
   "cell_type": "code",
   "execution_count": null,
   "metadata": {},
   "outputs": [],
   "source": [
    "catplot(df, x=\"price\")"
   ]
  },
  {
   "cell_type": "code",
   "execution_count": null,
   "metadata": {},
   "outputs": [],
   "source": [
    "catplot(df_no_price_outliers, x=\"price\")"
   ]
  },
  {
   "cell_type": "code",
   "execution_count": null,
   "metadata": {},
   "outputs": [],
   "source": [
    "catplot(df, x=\"price\", y=\"propertyType\")"
   ]
  },
  {
   "cell_type": "code",
   "execution_count": null,
   "metadata": {},
   "outputs": [],
   "source": [
    "catplot(df_no_price_outliers, x=\"price\", y=\"propertyType\")"
   ]
  },
  {
   "cell_type": "code",
   "execution_count": null,
   "metadata": {},
   "outputs": [],
   "source": [
    "catplot(df, x=\"price\", y=\"municipality\")"
   ]
  },
  {
   "cell_type": "code",
   "execution_count": null,
   "metadata": {},
   "outputs": [],
   "source": [
    "catplot(df_no_price_outliers, x=\"price\", y=\"municipality\")"
   ]
  },
  {
   "cell_type": "code",
   "execution_count": 34,
   "metadata": {},
   "outputs": [],
   "source": [
    "import math\n",
    "\n",
    "def best_grid_shape(n):\n",
    "    \"\"\"\n",
    "    Find the closest (rows, cols) factor pair where rows >= cols and rows * cols >= n.\n",
    "    If n has no exact factor pair, find the best fit.\n",
    "    \"\"\"\n",
    "    # Find all factor pairs (r, c) where r * c = n or just above it\n",
    "    factor_pairs = [(i, math.ceil(n / i)) for i in range(1, int(math.sqrt(n)) + 1)]\n",
    "    valid_pairs = [(r, c) for r, c in factor_pairs if r * c >= n]\n",
    "\n",
    "    # Choose the most square-like layout where rows >= cols\n",
    "    best_fit = min(valid_pairs, key=lambda x: (abs(x[0] - x[1]), x[0]))  \n",
    "    \n",
    "    return best_fit"
   ]
  },
  {
   "cell_type": "code",
   "execution_count": 35,
   "metadata": {},
   "outputs": [],
   "source": [
    "def displot(df, x=None, y=None, kde=True, bins=30, base_size=(3, 3)):\n",
    "    if x is None:\n",
    "        raise ValueError(\"x must be specified\")\n",
    "    if y is not None:\n",
    "        # Get unique values of y\n",
    "        unique_y_values = df[y].unique()\n",
    "\n",
    "        # Get the best grid shape for the number of unique y values\n",
    "        rows, cols = best_grid_shape(len(unique_y_values))\n",
    "\n",
    "        # Compute figure size dynamically\n",
    "        figsize = (cols * base_size[0], rows * base_size[1])\n",
    "\n",
    "        # Create subplots\n",
    "        _, axes = plt.subplots(rows, cols, figsize=figsize)\n",
    "\n",
    "        x_min = df[x].min()\n",
    "        x_max = df[x].max()\n",
    "\n",
    "        for ax, y_value in zip(axes.flatten(), unique_y_values):\n",
    "            # Create the catplot in the specified subplot\n",
    "            sns.histplot(\n",
    "                df[df[y] == y_value],\n",
    "                x=x,\n",
    "                ax=ax,\n",
    "                kde=kde,\n",
    "                bins=bins,\n",
    "            )\n",
    "            ax.set_title(y_value)\n",
    "            ax.set_xlim(x_min, x_max)\n",
    "\n",
    "        plt.tight_layout()\n",
    "    else:\n",
    "        sns.displot(df, x=x, kde=kde)\n",
    "    plt.show()"
   ]
  },
  {
   "cell_type": "code",
   "execution_count": null,
   "metadata": {},
   "outputs": [],
   "source": [
    "displot(df, x=\"price\")"
   ]
  },
  {
   "cell_type": "code",
   "execution_count": null,
   "metadata": {},
   "outputs": [],
   "source": [
    "displot(df_no_price_outliers, x=\"price\")"
   ]
  },
  {
   "cell_type": "code",
   "execution_count": null,
   "metadata": {},
   "outputs": [],
   "source": [
    "displot(df, x=\"price\", y=\"propertyType\")"
   ]
  },
  {
   "cell_type": "code",
   "execution_count": null,
   "metadata": {},
   "outputs": [],
   "source": [
    "displot(df_no_price_outliers, x=\"price\", y=\"propertyType\")"
   ]
  },
  {
   "cell_type": "code",
   "execution_count": null,
   "metadata": {},
   "outputs": [],
   "source": [
    "displot(df, x=\"price\", y=\"municipality\")"
   ]
  },
  {
   "cell_type": "code",
   "execution_count": null,
   "metadata": {},
   "outputs": [],
   "source": [
    "displot(df_no_price_outliers, x=\"price\", y=\"municipality\")"
   ]
  },
  {
   "cell_type": "code",
   "execution_count": 42,
   "metadata": {},
   "outputs": [],
   "source": [
    "df[\"logPrice\"] = np.log(df[\"price\"])"
   ]
  },
  {
   "cell_type": "code",
   "execution_count": null,
   "metadata": {},
   "outputs": [],
   "source": [
    "describe_column(df, \"logPrice\")"
   ]
  },
  {
   "cell_type": "code",
   "execution_count": 44,
   "metadata": {},
   "outputs": [],
   "source": [
    "variables_with_outliers = [\"logPrice\"]\n",
    "\n",
    "# Remove outliers for all specified variables\n",
    "df_no_log_price_outliers = remove_outliers(df, variables=variables_with_outliers)"
   ]
  },
  {
   "cell_type": "code",
   "execution_count": null,
   "metadata": {},
   "outputs": [],
   "source": [
    "df.info()"
   ]
  },
  {
   "cell_type": "code",
   "execution_count": null,
   "metadata": {},
   "outputs": [],
   "source": [
    "df_no_log_price_outliers.info()"
   ]
  },
  {
   "cell_type": "code",
   "execution_count": null,
   "metadata": {},
   "outputs": [],
   "source": [
    "catplot(df, x=\"logPrice\")"
   ]
  },
  {
   "cell_type": "code",
   "execution_count": null,
   "metadata": {},
   "outputs": [],
   "source": [
    "catplot(df_no_log_price_outliers, x=\"logPrice\")"
   ]
  },
  {
   "cell_type": "code",
   "execution_count": null,
   "metadata": {},
   "outputs": [],
   "source": [
    "catplot(df, x=\"logPrice\", y=\"propertyType\")"
   ]
  },
  {
   "cell_type": "code",
   "execution_count": null,
   "metadata": {},
   "outputs": [],
   "source": [
    "catplot(df_no_log_price_outliers, x=\"logPrice\", y=\"propertyType\")"
   ]
  },
  {
   "cell_type": "code",
   "execution_count": null,
   "metadata": {},
   "outputs": [],
   "source": [
    "plt.figure(figsize=(20, 10))\n",
    "sns.catplot(\n",
    "    x=\"logPrice\",\n",
    "    y=\"municipality\",\n",
    "    data=df,\n",
    "    kind=\"box\",\n",
    "    order=df.groupby(\"municipality\")[\"logPrice\"].median().sort_values().index,\n",
    ")"
   ]
  },
  {
   "cell_type": "code",
   "execution_count": null,
   "metadata": {},
   "outputs": [],
   "source": [
    "sns.displot(df, x=\"logPrice\", kde=True)"
   ]
  },
  {
   "cell_type": "code",
   "execution_count": null,
   "metadata": {},
   "outputs": [],
   "source": [
    "fig, axes = plt.subplots(2, 3, figsize=(10, 5))\n",
    "\n",
    "min_log_price = df[\"logPrice\"].min()\n",
    "max_log_price = df[\"logPrice\"].max()\n",
    "\n",
    "for ax, property_type in zip(axes.flatten(), property_types):\n",
    "    # Create the catplot in the specified subplot\n",
    "    sns.histplot(\n",
    "        df[df[\"propertyType\"] == property_type],\n",
    "        x=\"logPrice\",\n",
    "        ax=ax,\n",
    "        kde=True,\n",
    "        bins=30,\n",
    "    )\n",
    "    ax.set_title(property_type)\n",
    "    ax.set_xlim(min_log_price, max_log_price)\n",
    "\n",
    "plt.tight_layout()\n",
    "plt.show()"
   ]
  },
  {
   "cell_type": "code",
   "execution_count": null,
   "metadata": {},
   "outputs": [],
   "source": [
    "fig, axes = plt.subplots(6, 4, figsize=(12, 12))\n",
    "\n",
    "for ax, freguesia in zip(axes.flatten(), freguesias_lisboa):\n",
    "    # Create the catplot in the specified subplot\n",
    "    sns.histplot(\n",
    "        df[df[\"municipality\"] == freguesia],\n",
    "        x=\"logPrice\",\n",
    "        ax=ax,\n",
    "        kde=True,\n",
    "        bins=30,\n",
    "    )\n",
    "    ax.set_title(freguesia)\n",
    "    ax.set_xlim(min_log_price, max_log_price)\n",
    "\n",
    "plt.tight_layout()\n",
    "plt.show()"
   ]
  },
  {
   "cell_type": "code",
   "execution_count": 59,
   "metadata": {},
   "outputs": [],
   "source": [
    "df[\"pricePerSquareMeter\"] = df[\"price\"] / df[\"size\"]"
   ]
  },
  {
   "cell_type": "code",
   "execution_count": null,
   "metadata": {},
   "outputs": [],
   "source": [
    "sns.boxplot(x=df[\"pricePerSquareMeter\"])"
   ]
  },
  {
   "cell_type": "code",
   "execution_count": null,
   "metadata": {},
   "outputs": [],
   "source": [
    "sns.catplot(\n",
    "    x=\"pricePerSquareMeter\",\n",
    "    y=\"propertyType\",\n",
    "    data=df,\n",
    "    kind=\"box\",\n",
    "    order=df.groupby(\"propertyType\")[\"pricePerSquareMeter\"].median().sort_values().index,\n",
    ")"
   ]
  },
  {
   "cell_type": "code",
   "execution_count": null,
   "metadata": {},
   "outputs": [],
   "source": [
    "plt.figure(figsize=(20, 10))\n",
    "sns.catplot(\n",
    "    x=\"pricePerSquareMeter\",\n",
    "    y=\"municipality\",\n",
    "    data=df,\n",
    "    kind=\"box\",\n",
    "    order=df.groupby(\"municipality\")[\"pricePerSquareMeter\"]\n",
    "    .median()\n",
    "    .sort_values()\n",
    "    .index,\n",
    ")"
   ]
  },
  {
   "cell_type": "code",
   "execution_count": null,
   "metadata": {},
   "outputs": [],
   "source": [
    "sns.displot(df, x=\"pricePerSquareMeter\", kde=True)"
   ]
  },
  {
   "cell_type": "code",
   "execution_count": null,
   "metadata": {},
   "outputs": [],
   "source": [
    "fig, axes = plt.subplots(2, 3, figsize=(10, 5))\n",
    "\n",
    "min_price_per_square_meter = df[\"pricePerSquareMeter\"].min()\n",
    "max_price_per_square_meter = df[\"pricePerSquareMeter\"].max()\n",
    "\n",
    "for ax, property_type in zip(axes.flatten(), property_types):\n",
    "    # Create the catplot in the specified subplot\n",
    "    sns.histplot(\n",
    "        df[df[\"propertyType\"] == property_type],\n",
    "        x=\"pricePerSquareMeter\",\n",
    "        ax=ax,\n",
    "        kde=True,\n",
    "        bins=30,\n",
    "    )\n",
    "    ax.set_title(property_type)\n",
    "    ax.set_xlim(min_price_per_square_meter, max_price_per_square_meter)\n",
    "\n",
    "plt.tight_layout()\n",
    "plt.show()"
   ]
  },
  {
   "cell_type": "code",
   "execution_count": null,
   "metadata": {},
   "outputs": [],
   "source": [
    "fig, axes = plt.subplots(6, 4, figsize=(12, 12))\n",
    "\n",
    "for ax, freguesia in zip(axes.flatten(), freguesias_lisboa):\n",
    "    # Create the catplot in the specified subplot\n",
    "    sns.histplot(\n",
    "        df[df[\"municipality\"] == freguesia],\n",
    "        x=\"pricePerSquareMeter\",\n",
    "        ax=ax,\n",
    "        kde=True,\n",
    "        bins=30,\n",
    "    )\n",
    "    ax.set_title(freguesia),\n",
    "    ax.set_xlim(min_price_per_square_meter, max_price_per_square_meter)\n",
    "\n",
    "plt.tight_layout()\n",
    "plt.show()"
   ]
  },
  {
   "cell_type": "code",
   "execution_count": 66,
   "metadata": {},
   "outputs": [],
   "source": [
    "df[\"logPricePerSquareMeter\"] = np.log(df[\"pricePerSquareMeter\"])"
   ]
  },
  {
   "cell_type": "code",
   "execution_count": null,
   "metadata": {},
   "outputs": [],
   "source": [
    "sns.boxplot(x=df[\"logPricePerSquareMeter\"])"
   ]
  },
  {
   "cell_type": "code",
   "execution_count": null,
   "metadata": {},
   "outputs": [],
   "source": [
    "sns.catplot(\n",
    "    x=\"logPricePerSquareMeter\",\n",
    "    y=\"propertyType\",\n",
    "    data=df,\n",
    "    kind=\"box\",\n",
    "    order=df.groupby(\"propertyType\")[\"logPricePerSquareMeter\"].median().sort_values().index,\n",
    ")"
   ]
  },
  {
   "cell_type": "code",
   "execution_count": null,
   "metadata": {},
   "outputs": [],
   "source": [
    "plt.figure(figsize=(20, 10))\n",
    "sns.catplot(\n",
    "    x=\"logPricePerSquareMeter\",\n",
    "    y=\"municipality\",\n",
    "    data=df,\n",
    "    kind=\"box\",\n",
    "    order=df.groupby(\"municipality\")[\"logPricePerSquareMeter\"]\n",
    "    .median()\n",
    "    .sort_values()\n",
    "    .index,\n",
    ")"
   ]
  },
  {
   "cell_type": "code",
   "execution_count": null,
   "metadata": {},
   "outputs": [],
   "source": [
    "sns.displot(df, x=\"logPricePerSquareMeter\", kde=True)"
   ]
  },
  {
   "cell_type": "code",
   "execution_count": null,
   "metadata": {},
   "outputs": [],
   "source": [
    "fig, axes = plt.subplots(2, 3, figsize=(10, 5))\n",
    "\n",
    "min_log_price_per_square_meter = df[\"logPricePerSquareMeter\"].min()\n",
    "max_log_price_per_square_meter = df[\"logPricePerSquareMeter\"].max()\n",
    "\n",
    "for ax, property_type in zip(axes.flatten(), property_types):\n",
    "    # Create the catplot in the specified subplot\n",
    "    sns.histplot(\n",
    "        df[df[\"propertyType\"] == property_type],\n",
    "        x=\"logPricePerSquareMeter\",\n",
    "        ax=ax,\n",
    "        kde=True,\n",
    "        bins=30,\n",
    "    )\n",
    "    ax.set_title(property_type)\n",
    "    ax.set_xlim(min_log_price_per_square_meter, max_log_price_per_square_meter)\n",
    "\n",
    "plt.tight_layout()\n",
    "plt.show()"
   ]
  },
  {
   "cell_type": "code",
   "execution_count": null,
   "metadata": {},
   "outputs": [],
   "source": [
    "fig, axes = plt.subplots(6, 4, figsize=(12, 12))\n",
    "\n",
    "for ax, freguesia in zip(axes.flatten(), freguesias_lisboa):\n",
    "    # Create the catplot in the specified subplot\n",
    "    sns.histplot(\n",
    "        df[df[\"municipality\"] == freguesia],\n",
    "        x=\"logPricePerSquareMeter\",\n",
    "        ax=ax,\n",
    "        kde=True,\n",
    "        bins=30,\n",
    "    )\n",
    "    ax.set_title(freguesia)\n",
    "    ax.set_xlim(min_log_price_per_square_meter, max_log_price_per_square_meter)\n",
    "\n",
    "\n",
    "plt.tight_layout()\n",
    "plt.show()"
   ]
  },
  {
   "cell_type": "code",
   "execution_count": null,
   "metadata": {},
   "outputs": [],
   "source": [
    "plt.figure(figsize=(20, 10))\n",
    "sns.catplot(\n",
    "    x=\"pricePerSquareMeter\",\n",
    "    y=\"district\",\n",
    "    data=df[df.municipality == \"Santa Maria Maior\"],\n",
    "    kind=\"box\",\n",
    "    order=df[df.municipality == \"Santa Maria Maior\"]\n",
    "    .groupby(\"district\")[\"pricePerSquareMeter\"]\n",
    "    .median()\n",
    "    .sort_values()\n",
    "    .index,\n",
    ")"
   ]
  },
  {
   "cell_type": "code",
   "execution_count": null,
   "metadata": {},
   "outputs": [],
   "source": [
    "districts = df[df.municipality == \"Santa Maria Maior\"].district.unique()\n",
    "len(districts)"
   ]
  },
  {
   "cell_type": "code",
   "execution_count": null,
   "metadata": {},
   "outputs": [],
   "source": [
    "fig, axes = plt.subplots(2, 3, figsize=(12, 6))\n",
    "\n",
    "for ax, district in zip(axes.flatten(), districts):\n",
    "    # Create the catplot in the specified subplot\n",
    "    sns.histplot(\n",
    "        df[df.district == district],\n",
    "        x=\"pricePerSquareMeter\",\n",
    "        kde=True,\n",
    "        ax=ax,\n",
    "        bins=20,\n",
    "        hue=\"propertyType\",\n",
    "    )\n",
    "    ax.set_title(district)\n",
    "\n",
    "plt.tight_layout()\n",
    "plt.show()"
   ]
  },
  {
   "cell_type": "code",
   "execution_count": null,
   "metadata": {},
   "outputs": [],
   "source": [
    "plt.figure(figsize=(20, 10))\n",
    "sns.catplot(\n",
    "    x=\"logPricePerSquareMeter\",\n",
    "    y=\"municipality\",\n",
    "    data=df,\n",
    "    kind=\"box\",\n",
    "    order=df.groupby(\"municipality\")[\"logPricePerSquareMeter\"]\n",
    "    .median()\n",
    "    .sort_values()\n",
    "    .index,\n",
    ")"
   ]
  },
  {
   "cell_type": "code",
   "execution_count": null,
   "metadata": {},
   "outputs": [],
   "source": [
    "df.columns"
   ]
  },
  {
   "cell_type": "code",
   "execution_count": 78,
   "metadata": {},
   "outputs": [],
   "source": [
    "variables_with_outliers = [\"size\", \"rooms\", \"bathrooms\"]\n",
    "\n",
    "# Remove outliers for all specified variables\n",
    "df_cleaned = remove_outliers(df, variables=variables_with_outliers)"
   ]
  },
  {
   "cell_type": "code",
   "execution_count": 79,
   "metadata": {},
   "outputs": [],
   "source": [
    "stats = df[[\"municipality\", \"pricePerSquareMeter\"]].groupby(\n",
    "    [\"municipality\"]\n",
    ").describe().dropna()"
   ]
  },
  {
   "cell_type": "code",
   "execution_count": null,
   "metadata": {},
   "outputs": [],
   "source": [
    "stats.sort_values((\"pricePerSquareMeter\", \"count\"), ascending=False)"
   ]
  },
  {
   "cell_type": "code",
   "execution_count": 81,
   "metadata": {},
   "outputs": [],
   "source": [
    "features = [\n",
    "    \"floor\",\n",
    "    \"propertyType\",\n",
    "    \"size\",\n",
    "    \"rooms\",\n",
    "    \"bathrooms\",\n",
    "    \"address\",\n",
    "    \"province\",\n",
    "    \"municipality\",\n",
    "    \"district\",\n",
    "    \"country\",\n",
    "    \"latitude\",\n",
    "    \"longitude\",\n",
    "    \"showAddress\",\n",
    "    \"url\",\n",
    "    \"distance\",\n",
    "    \"description\",\n",
    "    \"status\",\n",
    "    \"newDevelopment\",\n",
    "    \"hasLift\",\n",
    "    \"topNewDevelopment\",\n",
    "    \"topPlus\",\n",
    "    \"neighborhood\",\n",
    "    \"newDevelopmentFinished\",\n",
    "    \"snapshotDate\",\n",
    "    \"hasParkingSpace\",\n",
    "    \"isParkingSpaceIncludedInPrice\",\n",
    "]\n",
    "targets = [\n",
    "    \"price\",\n",
    "    \"logPrice\",\n",
    "    \"pricePerSquareMeter\",\n",
    "    \"priceByArea\",\n",
    "    \"logPricePerSquareMeter\",\n",
    "    \"formerPrice\",\n",
    "    \"priceChange\",\n",
    "    \"parkingSpacePrice\",\n",
    "    \"formerPrice\",\n",
    "    \"priceChange\",\n",
    "]"
   ]
  },
  {
   "cell_type": "code",
   "execution_count": null,
   "metadata": {},
   "outputs": [],
   "source": [
    "plt.figure(figsize=(12, 8))\n",
    "sns.heatmap(\n",
    "    df[features].corr(numeric_only=True),\n",
    "    annot=True,\n",
    "    fmt=\".2f\",\n",
    "    cmap=\"coolwarm\",\n",
    "    center=0,\n",
    "    vmax=1,\n",
    "    vmin=-1,\n",
    ")"
   ]
  },
  {
   "cell_type": "code",
   "execution_count": null,
   "metadata": {},
   "outputs": [],
   "source": [
    "plt.figure(figsize=(20, 10))\n",
    "sns.catplot(\n",
    "    x=\"logPrice\",\n",
    "    y=\"municipality\",\n",
    "    data=df,\n",
    "    kind=\"box\",\n",
    "    order=df.groupby(\"municipality\")[\"logPrice\"].median().sort_values().index,\n",
    ")"
   ]
  },
  {
   "cell_type": "code",
   "execution_count": null,
   "metadata": {},
   "outputs": [],
   "source": [
    "plt.figure(figsize=(20, 10))\n",
    "sns.catplot(\n",
    "    x=\"pricePerSquareMeter\",\n",
    "    y=\"municipality\",\n",
    "    data=df,\n",
    "    kind=\"box\",\n",
    "    order=df.groupby(\"municipality\")[\"pricePerSquareMeter\"]\n",
    "    .median()\n",
    "    .sort_values()\n",
    "    .index,\n",
    ")"
   ]
  },
  {
   "cell_type": "code",
   "execution_count": null,
   "metadata": {},
   "outputs": [],
   "source": [
    "df[\"municipality\"].value_counts()"
   ]
  },
  {
   "cell_type": "code",
   "execution_count": null,
   "metadata": {},
   "outputs": [],
   "source": [
    "df"
   ]
  },
  {
   "cell_type": "code",
   "execution_count": null,
   "metadata": {},
   "outputs": [],
   "source": [
    "# Step 1: Extract relevant data for clustering\n",
    "coords = df[[\"latitude\", \"longitude\"]]\n",
    "\n",
    "# Step 2: Reset the index ahead of the merge\n",
    "df = df.reset_index()\n",
    "\n",
    "# Step 3: Compute average price for each cluster\n",
    "median_price_per_municipality = (\n",
    "    df.groupby(\"municipality\")[\"price\"].median().rename(\"median_price_per_municipality\")\n",
    ")\n",
    "df = df.merge(\n",
    "    median_price_per_municipality, on=\"municipality\", how=\"left\", validate=\"many_to_one\"\n",
    ")\n",
    "\n",
    "# After operations, set 'propertyCode' back as the index\n",
    "df = df.set_index(\"propertyCode\")\n",
    "\n",
    "# Step 4: Create GeoDataFrame for plotting\n",
    "geometry = [Point(xy) for xy in zip(df[\"longitude\"], df[\"latitude\"])]\n",
    "geo_df = gpd.GeoDataFrame(df, geometry=geometry, crs=\"EPSG:4326\")\n",
    "\n",
    "# Step 5: Interactive map using Folium\n",
    "m = folium.Map(location=[38.740, -9.150], zoom_start=12.2)  # Centered on Lisbon\n",
    "\n",
    "# Create a colormap\n",
    "num_clusters = df[\"municipality\"].nunique()\n",
    "colormap = plt.get_cmap(\"tab20\", num_clusters)  # Use a colormap with distinct colors\n",
    "normalize = colors.Normalize(vmin=0, vmax=num_clusters - 1)\n",
    "\n",
    "# Get unique municipalities and map them to integers\n",
    "municipality_mapping = {\n",
    "    name: idx for idx, name in enumerate(df[\"municipality\"].unique())\n",
    "}\n",
    "\n",
    "# Map the 'municipality' column to integers\n",
    "df[\"municipality_int\"] = df[\"municipality\"].map(municipality_mapping)\n",
    "\n",
    "# Add clusters to the map\n",
    "for _, row in df.iterrows():\n",
    "    cluster = row[\"municipality_int\"]\n",
    "    price = row[\"median_price_per_municipality\"]\n",
    "    color = colors.rgb2hex(colormap(normalize(cluster)))  # Get color for the cluster\n",
    "\n",
    "    folium.CircleMarker(\n",
    "        location=(row[\"latitude\"], row[\"longitude\"]),\n",
    "        radius=5,\n",
    "        color=color,\n",
    "        fill=True,\n",
    "        fill_opacity=0.6,\n",
    "        popup=f\"Cluster: {cluster}<br>Median Price: €{price:.2f}\",\n",
    "    ).add_to(m)\n",
    "\n",
    "m"
   ]
  },
  {
   "cell_type": "code",
   "execution_count": null,
   "metadata": {},
   "outputs": [],
   "source": [
    "median_price_per_municipality"
   ]
  },
  {
   "cell_type": "code",
   "execution_count": null,
   "metadata": {},
   "outputs": [],
   "source": [
    "df"
   ]
  },
  {
   "cell_type": "code",
   "execution_count": null,
   "metadata": {},
   "outputs": [],
   "source": [
    "df[\"municipality\"].value_counts()"
   ]
  },
  {
   "cell_type": "code",
   "execution_count": 91,
   "metadata": {},
   "outputs": [],
   "source": [
    "global_median = df[\"logPrice\"].median()\n",
    "\n",
    "# Calculate median and count per municipality\n",
    "agg = (\n",
    "    df.groupby(\"municipality\")[\"logPrice\"]\n",
    "    .agg([\"median\", \"count\"])\n",
    "    .rename(columns={\"median\": \"municipality_median\", \"count\": \"sample_count\"})\n",
    ")\n",
    "\n",
    "# Smoothing factor\n",
    "alpha = 10\n",
    "\n",
    "# Apply smoothing\n",
    "agg[\"smoothed_median\"] = (\n",
    "    agg[\"sample_count\"] * agg[\"municipality_median\"] + alpha * global_median\n",
    ") / (agg[\"sample_count\"] + alpha)\n",
    "\n",
    "# Map smoothed median back to the main dataframe\n",
    "df[\"municipality_encoded\"] = df[\"municipality\"].map(agg[\"smoothed_median\"])"
   ]
  },
  {
   "cell_type": "code",
   "execution_count": null,
   "metadata": {},
   "outputs": [],
   "source": [
    "len(df[\"municipality\"].unique()) == len(df[\"municipality_encoded\"].unique())"
   ]
  },
  {
   "cell_type": "code",
   "execution_count": null,
   "metadata": {},
   "outputs": [],
   "source": [
    "agg.sort_values(\"smoothed_median\")"
   ]
  },
  {
   "cell_type": "code",
   "execution_count": null,
   "metadata": {},
   "outputs": [],
   "source": [
    "sns.catplot(\n",
    "    x=\"logPrice\",\n",
    "    y=\"municipality\",\n",
    "    data=df,\n",
    "    kind=\"box\",\n",
    "    order=agg.sort_values(\"municipality_median\").index,\n",
    ")"
   ]
  },
  {
   "cell_type": "code",
   "execution_count": null,
   "metadata": {},
   "outputs": [],
   "source": [
    "df.columns"
   ]
  },
  {
   "cell_type": "code",
   "execution_count": 96,
   "metadata": {},
   "outputs": [],
   "source": [
    "features = [\n",
    "    \"propertyType\",\n",
    "    \"size\",\n",
    "    \"rooms\",\n",
    "    \"bathrooms\",\n",
    "    \"municipality\",\n",
    "    \"latitude\",\n",
    "    \"longitude\",\n",
    "    \"status\",\n",
    "    \"newDevelopment\",\n",
    "    \"hasLift\",\n",
    "    \"newDevelopmentFinished\",\n",
    "    \"hasParkingSpace\",\n",
    "    \"isParkingSpaceIncludedInPrice\",\n",
    "]\n",
    "targets = [\"price\", \"logPrice\"]"
   ]
  },
  {
   "cell_type": "code",
   "execution_count": null,
   "metadata": {},
   "outputs": [],
   "source": [
    "df[features].info()"
   ]
  },
  {
   "cell_type": "code",
   "execution_count": null,
   "metadata": {},
   "outputs": [],
   "source": [
    "df.status.value_counts()"
   ]
  },
  {
   "cell_type": "code",
   "execution_count": 99,
   "metadata": {},
   "outputs": [],
   "source": [
    "df = df.dropna(subset=\"status\")"
   ]
  },
  {
   "cell_type": "code",
   "execution_count": 100,
   "metadata": {},
   "outputs": [],
   "source": [
    "def encode_categorical(df, features, column):\n",
    "    dummies = pd.get_dummies(df[column], prefix=column)\n",
    "    df = pd.concat([df, dummies], axis=1)\n",
    "    df = df.drop(column, axis=1)\n",
    "    features = [feature for feature in features if feature != column] + list(\n",
    "        dummies.columns\n",
    "    )\n",
    "    return df, features"
   ]
  },
  {
   "cell_type": "code",
   "execution_count": 101,
   "metadata": {},
   "outputs": [],
   "source": [
    "df, features = encode_categorical(df, features, \"propertyType\")\n",
    "df, features = encode_categorical(df, features, \"status\")"
   ]
  },
  {
   "cell_type": "code",
   "execution_count": 102,
   "metadata": {},
   "outputs": [],
   "source": [
    "df[df.select_dtypes(include=\"bool\").columns] = df.select_dtypes(include=\"bool\").astype(\n",
    "    int\n",
    ")"
   ]
  },
  {
   "cell_type": "code",
   "execution_count": null,
   "metadata": {},
   "outputs": [],
   "source": [
    "df[features + targets].info()"
   ]
  },
  {
   "cell_type": "code",
   "execution_count": 104,
   "metadata": {},
   "outputs": [],
   "source": [
    "def drop_single_value_columns(df, features):\n",
    "    for feature in features:\n",
    "        if len(df[feature].unique()) == 1:\n",
    "            df = df.drop(feature, axis=1)\n",
    "            features.remove(feature)\n",
    "    return df, features"
   ]
  },
  {
   "cell_type": "code",
   "execution_count": 105,
   "metadata": {},
   "outputs": [],
   "source": [
    "df, features = drop_single_value_columns(df, features)"
   ]
  },
  {
   "cell_type": "code",
   "execution_count": null,
   "metadata": {},
   "outputs": [],
   "source": [
    "features"
   ]
  },
  {
   "cell_type": "code",
   "execution_count": null,
   "metadata": {},
   "outputs": [],
   "source": [
    "plt.figure(figsize=(12, 8))\n",
    "sns.heatmap(\n",
    "    df[features + targets].corr(numeric_only=True),\n",
    "    annot=True,\n",
    "    fmt=\".2f\",\n",
    "    cmap=\"coolwarm\",\n",
    "    center=0,\n",
    "    vmax=1,\n",
    "    vmin=-1,\n",
    ")"
   ]
  },
  {
   "cell_type": "code",
   "execution_count": null,
   "metadata": {},
   "outputs": [],
   "source": [
    "sns.pairplot(df[features + targets], diag_kind=\"kde\")"
   ]
  },
  {
   "cell_type": "code",
   "execution_count": 109,
   "metadata": {},
   "outputs": [],
   "source": [
    "X = df[features]\n",
    "y = df[targets]"
   ]
  },
  {
   "cell_type": "code",
   "execution_count": null,
   "metadata": {},
   "outputs": [],
   "source": [
    "X"
   ]
  },
  {
   "cell_type": "code",
   "execution_count": 111,
   "metadata": {},
   "outputs": [],
   "source": [
    "X.to_csv(f\"../data/training/{date_or_unioned}-features-{operation}.csv\", index=True)\n",
    "y.to_csv(f\"../data/training/{date_or_unioned}-targets-{operation}.csv\", index=True)"
   ]
  }
 ],
 "metadata": {
  "kernelspec": {
   "display_name": "Python 3",
   "language": "python",
   "name": "python3"
  },
  "language_info": {
   "codemirror_mode": {
    "name": "ipython",
    "version": 3
   },
   "file_extension": ".py",
   "mimetype": "text/x-python",
   "name": "python",
   "nbconvert_exporter": "python",
   "pygments_lexer": "ipython3",
   "version": "3.11.11"
  }
 },
 "nbformat": 4,
 "nbformat_minor": 4
}
