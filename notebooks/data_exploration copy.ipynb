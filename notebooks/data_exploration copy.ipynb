{
 "cells": [
  {
   "cell_type": "code",
   "execution_count": 1,
   "metadata": {},
   "outputs": [],
   "source": [
    "import datetime\n",
    "import numpy as np\n",
    "import pandas as pd\n",
    "import matplotlib.pyplot as plt\n",
    "import matplotlib.colors as colors\n",
    "import seaborn as sns\n",
    "import geopandas as gpd\n",
    "import folium\n",
    "from shapely.geometry import Point"
   ]
  },
  {
   "cell_type": "code",
   "execution_count": 2,
   "metadata": {},
   "outputs": [],
   "source": [
    "custom_params = {\"axes.spines.right\": False, \"axes.spines.top\": False}\n",
    "sns.set_theme(style=\"ticks\", rc=custom_params)"
   ]
  },
  {
   "cell_type": "code",
   "execution_count": 3,
   "metadata": {},
   "outputs": [],
   "source": [
    "def is_valid_date_format(date_string):\n",
    "    try:\n",
    "        datetime.datetime.strptime(date_string, \"%Y-%m-%d\")\n",
    "        return True\n",
    "    except ValueError:\n",
    "        return False"
   ]
  },
  {
   "cell_type": "code",
   "execution_count": 4,
   "metadata": {},
   "outputs": [],
   "source": [
    "city = \"lisbon\"\n",
    "operation = \"rent\"\n",
    "date_or_unioned = \"unioned\""
   ]
  },
  {
   "cell_type": "code",
   "execution_count": 5,
   "metadata": {},
   "outputs": [],
   "source": [
    "if not (date_or_unioned == \"unioned\" or is_valid_date_format(date_or_unioned)):\n",
    "    raise ValueError(\n",
    "        \"date_or_unioned must be 'unioned' or a valid date in the format 'YYYY-MM-DD'\"\n",
    "    )"
   ]
  },
  {
   "cell_type": "code",
   "execution_count": 6,
   "metadata": {},
   "outputs": [],
   "source": [
    "file_name = f\"{date_or_unioned}-{city}-listings-for-{operation}-lof.csv\""
   ]
  },
  {
   "cell_type": "code",
   "execution_count": 7,
   "metadata": {},
   "outputs": [],
   "source": [
    "read_path = f\"../data/idealista\"\n",
    "\n",
    "df = pd.read_csv(\n",
    "    f\"{read_path}/cleaned/{operation}/{city}/{file_name}\", index_col=\"propertyCode\"\n",
    ")"
   ]
  },
  {
   "cell_type": "code",
   "execution_count": null,
   "metadata": {},
   "outputs": [],
   "source": [
    "df.head()"
   ]
  },
  {
   "cell_type": "code",
   "execution_count": null,
   "metadata": {},
   "outputs": [],
   "source": [
    "df.info()"
   ]
  },
  {
   "cell_type": "code",
   "execution_count": null,
   "metadata": {},
   "outputs": [],
   "source": [
    "df.describe()"
   ]
  },
  {
   "cell_type": "code",
   "execution_count": null,
   "metadata": {},
   "outputs": [],
   "source": [
    "df.columns"
   ]
  },
  {
   "cell_type": "code",
   "execution_count": null,
   "metadata": {},
   "outputs": [],
   "source": [
    "numeric_columns = df.select_dtypes(include=\"number\").columns\n",
    "numeric_columns"
   ]
  },
  {
   "cell_type": "code",
   "execution_count": null,
   "metadata": {},
   "outputs": [],
   "source": [
    "categorical_columns = df.select_dtypes(include=[\"bool\", 'object']).columns\n",
    "categorical_columns"
   ]
  },
  {
   "cell_type": "code",
   "execution_count": 58,
   "metadata": {},
   "outputs": [],
   "source": [
    "boolean_columns = df.select_dtypes(include=\"bool\").columns"
   ]
  },
  {
   "cell_type": "code",
   "execution_count": null,
   "metadata": {},
   "outputs": [],
   "source": [
    "plt.figure(figsize=(20, 10))\n",
    "municipality_count_plot = sns.countplot(\n",
    "    x=\"municipality\",\n",
    "    data=df,\n",
    "    order=df[\"municipality\"].value_counts().index,\n",
    ")\n",
    "\n",
    "# Set proper tick locations before changing labels\n",
    "municipality_count_plot.set_xticks(range(len(df[\"municipality\"].unique())))\n",
    "municipality_count_plot.set_xticklabels(\n",
    "    municipality_count_plot.get_xticklabels(), rotation=90\n",
    ")\n",
    "\n",
    "plt.show()"
   ]
  },
  {
   "cell_type": "code",
   "execution_count": null,
   "metadata": {},
   "outputs": [],
   "source": [
    "municipality_counts = df[\"municipality\"].value_counts()\n",
    "municipality_counts"
   ]
  },
  {
   "cell_type": "code",
   "execution_count": null,
   "metadata": {},
   "outputs": [],
   "source": [
    "plt.figure(figsize=(20, 10))\n",
    "property_type_count_plot = sns.countplot(\n",
    "    x=\"propertyType\",\n",
    "    data=df,\n",
    "    order=df[\"propertyType\"].value_counts().index,\n",
    ")\n",
    "\n",
    "# Set proper tick locations before changing labels\n",
    "property_type_count_plot.set_xticks(range(len(df[\"propertyType\"].unique())))\n",
    "property_type_count_plot.set_xticklabels(\n",
    "    property_type_count_plot.get_xticklabels(), rotation=90\n",
    ")\n",
    "\n",
    "plt.show()"
   ]
  },
  {
   "cell_type": "code",
   "execution_count": 17,
   "metadata": {},
   "outputs": [],
   "source": [
    "property_types = df[\"propertyType\"].unique()"
   ]
  },
  {
   "cell_type": "code",
   "execution_count": 18,
   "metadata": {},
   "outputs": [],
   "source": [
    "def describe_column(df, column):\n",
    "    \"\"\"\n",
    "    Returns a summary of a column in a DataFrame.\n",
    "\n",
    "    Parameters:\n",
    "    df (pd.DataFrame): The dataset.\n",
    "    column (str): The column to describe.\n",
    "\n",
    "    Returns:\n",
    "    pd.Series: Summary of the column.\n",
    "    \"\"\"\n",
    "    return df[column].describe()"
   ]
  },
  {
   "cell_type": "code",
   "execution_count": null,
   "metadata": {},
   "outputs": [],
   "source": [
    "describe_column(df, \"price\")"
   ]
  },
  {
   "cell_type": "code",
   "execution_count": 20,
   "metadata": {},
   "outputs": [],
   "source": [
    "def catplot(df, x, y=None, kind=\"box\"):\n",
    "    if y is not None:\n",
    "        sns.catplot(\n",
    "            x=x,\n",
    "            y=y,\n",
    "            data=df,\n",
    "            kind=kind,\n",
    "            order=df.groupby(y)[x].median().sort_values().index,\n",
    "        )\n",
    "    else:\n",
    "        sns.catplot(x=x, data=df, kind=kind)\n",
    "    plt.show()"
   ]
  },
  {
   "cell_type": "code",
   "execution_count": null,
   "metadata": {},
   "outputs": [],
   "source": [
    "catplot(df, x=\"price\")"
   ]
  },
  {
   "cell_type": "code",
   "execution_count": null,
   "metadata": {},
   "outputs": [],
   "source": [
    "catplot(df, x=\"price\", y=\"propertyType\")"
   ]
  },
  {
   "cell_type": "code",
   "execution_count": null,
   "metadata": {},
   "outputs": [],
   "source": [
    "catplot(df, x=\"price\", y=\"municipality\")"
   ]
  },
  {
   "cell_type": "code",
   "execution_count": 24,
   "metadata": {},
   "outputs": [],
   "source": [
    "import math\n",
    "\n",
    "def best_grid_shape(n):\n",
    "    \"\"\"\n",
    "    Find the closest (rows, cols) factor pair where rows >= cols and rows * cols >= n.\n",
    "    If n has no exact factor pair, find the best fit.\n",
    "    \"\"\"\n",
    "    # Find all factor pairs (r, c) where r * c = n or just above it\n",
    "    factor_pairs = [(i, math.ceil(n / i)) for i in range(1, int(math.sqrt(n)) + 1)]\n",
    "    valid_pairs = [(r, c) for r, c in factor_pairs if r * c >= n]\n",
    "\n",
    "    # Choose the most square-like layout where rows >= cols\n",
    "    best_fit = min(valid_pairs, key=lambda x: (abs(x[0] - x[1]), x[0]))  \n",
    "    \n",
    "    return best_fit"
   ]
  },
  {
   "cell_type": "code",
   "execution_count": 25,
   "metadata": {},
   "outputs": [],
   "source": [
    "def displot(df, x=None, y=None, kde=True, bins=30, base_size=(3, 3), hue=None):\n",
    "    if x is None:\n",
    "        raise ValueError(\"x must be specified\")\n",
    "    if y is not None:\n",
    "        # Get unique values of y\n",
    "        unique_y_values = df[y].unique()\n",
    "\n",
    "        # Get the best grid shape for the number of unique y values\n",
    "        rows, cols = best_grid_shape(len(unique_y_values))\n",
    "\n",
    "        # Compute figure size dynamically\n",
    "        figsize = (cols * base_size[0], rows * base_size[1])\n",
    "\n",
    "        # Create subplots\n",
    "        _, axes = plt.subplots(rows, cols, figsize=figsize)\n",
    "\n",
    "        x_min = df[x].min()\n",
    "        x_max = df[x].max()\n",
    "\n",
    "        for ax, y_value in zip(axes.flatten(), unique_y_values):\n",
    "            # Create the catplot in the specified subplot\n",
    "            sns.histplot(\n",
    "                df[df[y] == y_value],\n",
    "                x=x,\n",
    "                ax=ax,\n",
    "                kde=kde,\n",
    "                bins=bins,\n",
    "                hue=hue\n",
    "            )\n",
    "            ax.set_title(y_value)\n",
    "            ax.set_xlim(x_min, x_max)\n",
    "\n",
    "        plt.tight_layout()\n",
    "    else:\n",
    "        sns.displot(df, x=x, kde=kde, hue=hue, bins=bins)\n",
    "    plt.show()"
   ]
  },
  {
   "cell_type": "code",
   "execution_count": null,
   "metadata": {},
   "outputs": [],
   "source": [
    "displot(df, x=\"price\")"
   ]
  },
  {
   "cell_type": "code",
   "execution_count": null,
   "metadata": {},
   "outputs": [],
   "source": [
    "displot(df, x=\"price\", y=\"propertyType\")"
   ]
  },
  {
   "cell_type": "code",
   "execution_count": null,
   "metadata": {},
   "outputs": [],
   "source": [
    "displot(df, x=\"price\", y=\"municipality\")"
   ]
  },
  {
   "cell_type": "code",
   "execution_count": null,
   "metadata": {},
   "outputs": [],
   "source": [
    "describe_column(df, \"logPrice\")"
   ]
  },
  {
   "cell_type": "code",
   "execution_count": null,
   "metadata": {},
   "outputs": [],
   "source": [
    "catplot(df, x=\"logPrice\")"
   ]
  },
  {
   "cell_type": "code",
   "execution_count": null,
   "metadata": {},
   "outputs": [],
   "source": [
    "catplot(df, x=\"logPrice\", y=\"propertyType\")"
   ]
  },
  {
   "cell_type": "code",
   "execution_count": null,
   "metadata": {},
   "outputs": [],
   "source": [
    "catplot(df, x=\"logPrice\", y=\"municipality\")"
   ]
  },
  {
   "cell_type": "code",
   "execution_count": null,
   "metadata": {},
   "outputs": [],
   "source": [
    "displot(df, x=\"logPrice\")"
   ]
  },
  {
   "cell_type": "code",
   "execution_count": null,
   "metadata": {},
   "outputs": [],
   "source": [
    "displot(df, x=\"logPrice\", y=\"propertyType\")"
   ]
  },
  {
   "cell_type": "code",
   "execution_count": null,
   "metadata": {},
   "outputs": [],
   "source": [
    "displot(df, x=\"logPrice\", y=\"municipality\")"
   ]
  },
  {
   "cell_type": "code",
   "execution_count": null,
   "metadata": {},
   "outputs": [],
   "source": [
    "catplot(df, x=\"pricePerSquareMeter\")"
   ]
  },
  {
   "cell_type": "code",
   "execution_count": null,
   "metadata": {},
   "outputs": [],
   "source": [
    "catplot(df, x=\"pricePerSquareMeter\", y=\"propertyType\")"
   ]
  },
  {
   "cell_type": "code",
   "execution_count": null,
   "metadata": {},
   "outputs": [],
   "source": [
    "catplot(df, x=\"pricePerSquareMeter\", y=\"municipality\")"
   ]
  },
  {
   "cell_type": "code",
   "execution_count": null,
   "metadata": {},
   "outputs": [],
   "source": [
    "displot(df, x=\"pricePerSquareMeter\")"
   ]
  },
  {
   "cell_type": "code",
   "execution_count": null,
   "metadata": {},
   "outputs": [],
   "source": [
    "displot(df, x=\"pricePerSquareMeter\", y=\"propertyType\")"
   ]
  },
  {
   "cell_type": "code",
   "execution_count": null,
   "metadata": {},
   "outputs": [],
   "source": [
    "displot(df, x=\"pricePerSquareMeter\", y=\"municipality\")"
   ]
  },
  {
   "cell_type": "code",
   "execution_count": null,
   "metadata": {},
   "outputs": [],
   "source": [
    "catplot(df, x=\"logPricePerSquareMeter\")"
   ]
  },
  {
   "cell_type": "code",
   "execution_count": null,
   "metadata": {},
   "outputs": [],
   "source": [
    "catplot(df, x=\"logPricePerSquareMeter\", y=\"propertyType\")"
   ]
  },
  {
   "cell_type": "code",
   "execution_count": null,
   "metadata": {},
   "outputs": [],
   "source": [
    "catplot(df, x=\"logPricePerSquareMeter\", y=\"municipality\")"
   ]
  },
  {
   "cell_type": "code",
   "execution_count": null,
   "metadata": {},
   "outputs": [],
   "source": [
    "displot(df, x=\"logPricePerSquareMeter\")"
   ]
  },
  {
   "cell_type": "code",
   "execution_count": null,
   "metadata": {},
   "outputs": [],
   "source": [
    "displot(df, x=\"logPricePerSquareMeter\", y=\"propertyType\")"
   ]
  },
  {
   "cell_type": "code",
   "execution_count": null,
   "metadata": {},
   "outputs": [],
   "source": [
    "displot(df, x=\"logPricePerSquareMeter\", y=\"municipality\")"
   ]
  },
  {
   "cell_type": "code",
   "execution_count": 49,
   "metadata": {},
   "outputs": [],
   "source": [
    "features = [\n",
    "    \"propertyType\",\n",
    "    \"size\",\n",
    "    \"rooms\",\n",
    "    \"bathrooms\",\n",
    "    \"municipality\",\n",
    "    \"latitude\",\n",
    "    \"longitude\",\n",
    "    \"status\",\n",
    "    \"newDevelopment\",\n",
    "    \"hasLift\",\n",
    "    \"newDevelopmentFinished\",\n",
    "    \"hasParkingSpace\",\n",
    "    \"isParkingSpaceIncludedInPrice\",\n",
    "]\n",
    "targets = [\n",
    "    \"price\",\n",
    "    \"logPrice\",\n",
    "    \"pricePerSquareMeter\",\n",
    "    \"logPricePerSquareMeter\",\n",
    "]"
   ]
  },
  {
   "cell_type": "code",
   "execution_count": null,
   "metadata": {},
   "outputs": [],
   "source": [
    "plt.figure(figsize=(12, 8))\n",
    "sns.heatmap(\n",
    "    df[features].corr(numeric_only=True),\n",
    "    annot=True,\n",
    "    fmt=\".2f\",\n",
    "    cmap=\"coolwarm\",\n",
    "    center=0,\n",
    "    vmax=1,\n",
    "    vmin=-1,\n",
    ")"
   ]
  },
  {
   "cell_type": "code",
   "execution_count": null,
   "metadata": {},
   "outputs": [],
   "source": [
    "# Step 1: Extract relevant data for clustering\n",
    "coords = df[[\"latitude\", \"longitude\"]]\n",
    "\n",
    "# Step 2: Reset the index ahead of the merge\n",
    "df = df.reset_index()\n",
    "\n",
    "# Step 3: Compute average price for each cluster\n",
    "median_price_per_municipality = (\n",
    "    df.groupby(\"municipality\")[\"price\"].median().rename(\"median_price_per_municipality\")\n",
    ")\n",
    "df = df.merge(\n",
    "    median_price_per_municipality, on=\"municipality\", how=\"left\", validate=\"many_to_one\"\n",
    ")\n",
    "\n",
    "# After operations, set 'propertyCode' back as the index\n",
    "df = df.set_index(\"propertyCode\")\n",
    "\n",
    "# Step 4: Create GeoDataFrame for plotting\n",
    "geometry = [Point(xy) for xy in zip(df[\"longitude\"], df[\"latitude\"])]\n",
    "geo_df = gpd.GeoDataFrame(df, geometry=geometry, crs=\"EPSG:4326\")\n",
    "\n",
    "# Step 5: Interactive map using Folium\n",
    "m = folium.Map(location=[38.740, -9.150], zoom_start=12.2)  # Centered on Lisbon\n",
    "\n",
    "# Create a colormap\n",
    "num_clusters = df[\"municipality\"].nunique()\n",
    "colormap = plt.get_cmap(\"tab20\", num_clusters)  # Use a colormap with distinct colors\n",
    "normalize = colors.Normalize(vmin=0, vmax=num_clusters - 1)\n",
    "\n",
    "# Get unique municipalities and map them to integers\n",
    "municipality_mapping = {\n",
    "    name: idx for idx, name in enumerate(df[\"municipality\"].unique())\n",
    "}\n",
    "\n",
    "# Map the 'municipality' column to integers\n",
    "df[\"municipality_int\"] = df[\"municipality\"].map(municipality_mapping)\n",
    "\n",
    "# Add clusters to the map\n",
    "for _, row in df.iterrows():\n",
    "    cluster = row[\"municipality_int\"]\n",
    "    price = row[\"median_price_per_municipality\"]\n",
    "    color = colors.rgb2hex(colormap(normalize(cluster)))  # Get color for the cluster\n",
    "\n",
    "    folium.CircleMarker(\n",
    "        location=(row[\"latitude\"], row[\"longitude\"]),\n",
    "        radius=5,\n",
    "        color=color,\n",
    "        fill=True,\n",
    "        fill_opacity=0.6,\n",
    "        popup=f\"Cluster: {cluster}<br>Median Price: €{price:.2f}\",\n",
    "    ).add_to(m)\n",
    "\n",
    "m"
   ]
  },
  {
   "cell_type": "code",
   "execution_count": null,
   "metadata": {},
   "outputs": [],
   "source": [
    "median_price_per_municipality"
   ]
  },
  {
   "cell_type": "code",
   "execution_count": 55,
   "metadata": {},
   "outputs": [],
   "source": [
    "df = df.dropna(subset=\"status\")"
   ]
  },
  {
   "cell_type": "code",
   "execution_count": 56,
   "metadata": {},
   "outputs": [],
   "source": [
    "def encode_categorical(df, features, column):\n",
    "    dummies = pd.get_dummies(df[column], prefix=column)\n",
    "    df = pd.concat([df, dummies], axis=1)\n",
    "    df = df.drop(column, axis=1)\n",
    "    features = [feature for feature in features if feature != column] + list(\n",
    "        dummies.columns\n",
    "    )\n",
    "    return df, features"
   ]
  },
  {
   "cell_type": "code",
   "execution_count": 57,
   "metadata": {},
   "outputs": [],
   "source": [
    "df, features = encode_categorical(df, features, \"propertyType\")\n",
    "df, features = encode_categorical(df, features, \"status\")"
   ]
  },
  {
   "cell_type": "code",
   "execution_count": 59,
   "metadata": {},
   "outputs": [],
   "source": [
    "df[boolean_columns] = df[boolean_columns].astype(int)"
   ]
  },
  {
   "cell_type": "code",
   "execution_count": null,
   "metadata": {},
   "outputs": [],
   "source": [
    "df[features + targets].info()"
   ]
  },
  {
   "cell_type": "code",
   "execution_count": 61,
   "metadata": {},
   "outputs": [],
   "source": [
    "def drop_single_value_columns(df, features):\n",
    "    for feature in features:\n",
    "        if len(df[feature].unique()) == 1:\n",
    "            df = df.drop(feature, axis=1)\n",
    "            features.remove(feature)\n",
    "    return df, features"
   ]
  },
  {
   "cell_type": "code",
   "execution_count": 62,
   "metadata": {},
   "outputs": [],
   "source": [
    "df, features = drop_single_value_columns(df, features)"
   ]
  },
  {
   "cell_type": "code",
   "execution_count": null,
   "metadata": {},
   "outputs": [],
   "source": [
    "features"
   ]
  },
  {
   "cell_type": "code",
   "execution_count": null,
   "metadata": {},
   "outputs": [],
   "source": [
    "plt.figure(figsize=(12, 8))\n",
    "sns.heatmap(\n",
    "    df[features + targets].corr(numeric_only=True),\n",
    "    annot=True,\n",
    "    fmt=\".2f\",\n",
    "    cmap=\"coolwarm\",\n",
    "    center=0,\n",
    "    vmax=1,\n",
    "    vmin=-1,\n",
    ")"
   ]
  },
  {
   "cell_type": "code",
   "execution_count": null,
   "metadata": {},
   "outputs": [],
   "source": [
    "sns.pairplot(df[features + targets], diag_kind=\"kde\")"
   ]
  },
  {
   "cell_type": "code",
   "execution_count": 66,
   "metadata": {},
   "outputs": [],
   "source": [
    "X = df[features]\n",
    "y = df[targets]"
   ]
  },
  {
   "cell_type": "code",
   "execution_count": null,
   "metadata": {},
   "outputs": [],
   "source": [
    "X"
   ]
  },
  {
   "cell_type": "code",
   "execution_count": 111,
   "metadata": {},
   "outputs": [],
   "source": [
    "X.to_csv(f\"../data/training/{date_or_unioned}-features-{operation}.csv\", index=True)\n",
    "y.to_csv(f\"../data/training/{date_or_unioned}-targets-{operation}.csv\", index=True)"
   ]
  }
 ],
 "metadata": {
  "kernelspec": {
   "display_name": "Python 3",
   "language": "python",
   "name": "python3"
  },
  "language_info": {
   "codemirror_mode": {
    "name": "ipython",
    "version": 3
   },
   "file_extension": ".py",
   "mimetype": "text/x-python",
   "name": "python",
   "nbconvert_exporter": "python",
   "pygments_lexer": "ipython3",
   "version": "3.11.11"
  }
 },
 "nbformat": 4,
 "nbformat_minor": 4
}
