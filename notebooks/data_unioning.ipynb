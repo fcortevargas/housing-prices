{
 "cells": [
  {
   "cell_type": "code",
   "execution_count": 1,
   "metadata": {},
   "outputs": [],
   "source": [
    "import pandas as pd\n",
    "import sys\n",
    "import os\n",
    "import datetime"
   ]
  },
  {
   "cell_type": "code",
   "execution_count": null,
   "metadata": {},
   "outputs": [],
   "source": [
    "operation = \"rent\"\n",
    "city = \"lisbon\"\n",
    "\n",
    "read_path = f\"../data/idealista/raw/{operation}/{city}\"\n",
    "save_path = f\"../data/idealista/unioned/{operation}/{city}\"\n",
    "\n",
    "dataframes = []\n",
    "\n",
    "for file in os.listdir(read_path):\n",
    "    file_date = file[:10]\n",
    "    if file.endswith(\".csv\") and file_date.st:\n",
    "        dataframes.append(pd.read_csv(f\"{read_path}/{file}\", index_col='propertyCode'))\n",
    "        dataframes[-1][\"snapshotDate\"] = datetime.datetime.strptime(file_date, \"%Y-%m-%d\").date()"
   ]
  },
  {
   "cell_type": "code",
   "execution_count": 2,
   "metadata": {},
   "outputs": [],
   "source": [
    "# Get the absolute path of the scripts directory\n",
    "root_dir = os.path.abspath(os.path.join(os.getcwd(), \"..\"))\n",
    "\n",
    "# Add the scripts directory to Python's module search path\n",
    "sys.path.append(root_dir)"
   ]
  },
  {
   "cell_type": "code",
   "execution_count": 3,
   "metadata": {},
   "outputs": [],
   "source": [
    "from scripts.preprocessors import IdealistaDataLoader\n",
    "\n",
    "dataframes = []\n",
    "\n",
    "data_loader = IdealistaDataLoader(\n",
    "    read_path=f\"../data/idealista\",\n",
    "    city=\"lisbon\",\n",
    "    operation=\"rent\",\n",
    "    date_or_unioned=\"unioned\",\n",
    "    include_geodata=True,\n",
    "    include_openai=True,\n",
    "    index_col=\"propertyCode\",\n",
    "    directory=\"cleaned\"\n",
    ")\n",
    "\n",
    "dataframes.append(data_loader.load_data())\n",
    "\n",
    "data_loader = IdealistaDataLoader(\n",
    "    read_path=f\"../data/idealista\",\n",
    "    city=\"lisbon\",\n",
    "    operation=\"rent\",\n",
    "    date_or_unioned=\"2025-03-04\",\n",
    "    include_geodata=True,\n",
    "    include_openai=True,\n",
    "    index_col=\"propertyCode\",\n",
    "    directory=\"cleaned\"\n",
    ")\n",
    "\n",
    "dataframes.append(data_loader.load_data())"
   ]
  },
  {
   "cell_type": "code",
   "execution_count": 4,
   "metadata": {},
   "outputs": [],
   "source": [
    "# Combine the DataFrames\n",
    "df = pd.concat(dataframes)\n",
    "\n",
    "# Keep only the last occurrence of each index\n",
    "df = df.loc[~df.index.duplicated(keep=\"last\")]\n",
    "\n",
    "# Keep only the listings that have unique values for the following columns\n",
    "df = df.loc[\n",
    "    ~df[\n",
    "        [\n",
    "            \"floor\",\n",
    "            \"propertyType\",\n",
    "            \"size\",\n",
    "            \"rooms\",\n",
    "            \"bathrooms\",\n",
    "            \"address\",\n",
    "            \"description\",\n",
    "        ]\n",
    "    ].duplicated(keep=\"last\")\n",
    "]\n",
    "\n"
   ]
  },
  {
   "cell_type": "code",
   "execution_count": 5,
   "metadata": {},
   "outputs": [
    {
     "data": {
      "text/plain": [
       "True"
      ]
     },
     "execution_count": 5,
     "metadata": {},
     "output_type": "execute_result"
    }
   ],
   "source": [
    "df.index.is_unique"
   ]
  },
  {
   "cell_type": "code",
   "execution_count": null,
   "metadata": {},
   "outputs": [],
   "source": [
    "operation = \"rent\"\n",
    "city = \"lisbon\"\n",
    "\n",
    "save_path = f\"../data/idealista/cleaned/{operation}/{city}\"\n",
    "\n",
    "save_path += f\"/unioned-{city}-listings-for-{operation}-with-geodata-openai.csv\""
   ]
  },
  {
   "cell_type": "code",
   "execution_count": 9,
   "metadata": {},
   "outputs": [
    {
     "data": {
      "text/plain": [
       "'../data/idealista/unioned/rent/lisbon/unioned-lisbon-listings-for-rent-with-geodata-openai.csv'"
      ]
     },
     "execution_count": 9,
     "metadata": {},
     "output_type": "execute_result"
    }
   ],
   "source": [
    "save_path"
   ]
  },
  {
   "cell_type": "code",
   "execution_count": null,
   "metadata": {},
   "outputs": [],
   "source": [
    "# Save the unioned DataFrame to a new CSV file\n",
    "df.to_csv(save_path, index_label=\"propertyCode\")"
   ]
  },
  {
   "cell_type": "code",
   "execution_count": null,
   "metadata": {},
   "outputs": [],
   "source": [
    "df"
   ]
  }
 ],
 "metadata": {
  "kernelspec": {
   "display_name": ".venv",
   "language": "python",
   "name": "python3"
  },
  "language_info": {
   "codemirror_mode": {
    "name": "ipython",
    "version": 3
   },
   "file_extension": ".py",
   "mimetype": "text/x-python",
   "name": "python",
   "nbconvert_exporter": "python",
   "pygments_lexer": "ipython3",
   "version": "3.11.11"
  }
 },
 "nbformat": 4,
 "nbformat_minor": 2
}
