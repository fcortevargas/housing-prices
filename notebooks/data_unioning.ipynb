{
 "cells": [
  {
   "cell_type": "code",
   "execution_count": 1,
   "metadata": {},
   "outputs": [],
   "source": [
    "import pandas as pd"
   ]
  },
  {
   "cell_type": "code",
   "execution_count": 2,
   "metadata": {},
   "outputs": [],
   "source": [
    "# Read the CSV files into DataFrames\n",
    "df1 = pd.read_csv('../data/idealista/raw/2025-01-10-lisbon-listings-for-rent.csv', index_col='propertyCode')\n",
    "df2 = pd.read_csv('../data/idealista/raw/2025-01-13-lisbon-listings-for-rent.csv', index_col='propertyCode')\n",
    "df3 = pd.read_csv('../data/idealista/raw/2025-01-15-lisbon-listings-for-rent.csv', index_col='propertyCode')\n",
    "df4 = pd.read_csv('../data/idealista/raw/2025-01-26-lisbon-listings-for-rent.csv', index_col='propertyCode')\n",
    "\n",
    "# Combine the DataFrames\n",
    "df = pd.concat([df1, df2, df3, df4])\n",
    "\n",
    "# Keep only the last occurrence of each index\n",
    "df = df.loc[~df.index.duplicated(keep='last')]\n",
    "\n",
    "# Save the unioned DataFrame to a new CSV file\n",
    "df.to_csv('../data/idealista/raw/unioned-lisbon-listings-for-rent.csv', index_label='propertyCode')"
   ]
  },
  {
   "cell_type": "code",
   "execution_count": null,
   "metadata": {},
   "outputs": [],
   "source": [
    "df.index.is_unique"
   ]
  },
  {
   "cell_type": "code",
   "execution_count": null,
   "metadata": {},
   "outputs": [],
   "source": [
    "df"
   ]
  },
  {
   "cell_type": "code",
   "execution_count": null,
   "metadata": {},
   "outputs": [],
   "source": []
  }
 ],
 "metadata": {
  "kernelspec": {
   "display_name": "Python 3",
   "language": "python",
   "name": "python3"
  },
  "language_info": {
   "codemirror_mode": {
    "name": "ipython",
    "version": 3
   },
   "file_extension": ".py",
   "mimetype": "text/x-python",
   "name": "python",
   "nbconvert_exporter": "python",
   "pygments_lexer": "ipython3",
   "version": "3.11.11"
  }
 },
 "nbformat": 4,
 "nbformat_minor": 2
}
