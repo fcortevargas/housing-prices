{
 "cells": [
  {
   "cell_type": "code",
   "execution_count": 1,
   "metadata": {},
   "outputs": [],
   "source": [
    "import json\n",
    "from pydantic import BaseModel, ValidationError\n",
    "from typing import Literal\n",
    "from openai import OpenAI\n",
    "import dotenv\n",
    "import os"
   ]
  },
  {
   "cell_type": "code",
   "execution_count": 2,
   "metadata": {},
   "outputs": [],
   "source": [
    "# Load environment variables from .env file\n",
    "dotenv.load_dotenv()\n",
    "\n",
    "# API credentials\n",
    "OPEN_AI_API_KEY = os.getenv(\"OPEN_AI_API_KEY\")"
   ]
  },
  {
   "cell_type": "code",
   "execution_count": 3,
   "metadata": {},
   "outputs": [],
   "source": [
    "client = OpenAI(\n",
    "    api_key=OPEN_AI_API_KEY,\n",
    ")"
   ]
  },
  {
   "cell_type": "code",
   "execution_count": 4,
   "metadata": {},
   "outputs": [],
   "source": [
    "with open(\"response.schema.json\", \"r\") as f:\n",
    "    schema = json.load(f)"
   ]
  },
  {
   "cell_type": "code",
   "execution_count": 5,
   "metadata": {},
   "outputs": [
    {
     "data": {
      "text/plain": [
       "dict"
      ]
     },
     "execution_count": 5,
     "metadata": {},
     "output_type": "execute_result"
    }
   ],
   "source": [
    "type(schema)"
   ]
  },
  {
   "cell_type": "code",
   "execution_count": 6,
   "metadata": {},
   "outputs": [],
   "source": [
    "class ResponseSchema(BaseModel):\n",
    "    hasSwimmingPool: bool\n",
    "    hasBalcony: bool\n",
    "    hasGarage: bool\n",
    "    hasParking: bool\n",
    "    hasAirConditioning: bool\n",
    "    hasClotheslineSpace: bool\n",
    "    hasBuiltInWardrobes: bool\n",
    "    hasDishwasher: bool\n",
    "    hasWashingMachine: bool\n",
    "    hasDryer: bool\n",
    "    hasLift: bool\n",
    "    isFurnished: bool\n",
    "    isPetFriendly: bool\n",
    "    isSmokingAllowed: bool\n",
    "    isWheelchairAccessible: bool\n",
    "    hasGarden: bool\n",
    "    hasFireplace: bool\n",
    "    hasAlarmSystem: bool\n",
    "    hasCityViews: bool\n",
    "    hasWaterViews: bool\n",
    "    isLuxury: bool\n",
    "    isTemporaryContract: bool\n",
    "    isLongTermContract: bool\n",
    "    isStudentFriendly: bool\n",
    "    energyEfficiencyRating: Literal[\n",
    "        \"A+++\",\n",
    "        \"A++\",\n",
    "        \"A+\",\n",
    "        \"A\",\n",
    "        \"B\",\n",
    "        \"C\",\n",
    "        \"D\",\n",
    "        \"E\",\n",
    "        \"F\",\n",
    "        \"Unknown\",\n",
    "    ]\n",
    "    hasHomeAppliances: bool\n",
    "    hasOven: bool\n",
    "    hasMicrowave: bool\n",
    "    hasRefrigerator: bool\n",
    "    hasStove: bool\n",
    "    hasTerrace: bool\n",
    "    hasStorageRoom: bool\n",
    "    hasInternetIncluded: bool\n",
    "    hasCableTVIncluded: bool\n",
    "    hasSmartHomeFeatures: bool\n",
    "    hasCCTV: bool\n",
    "    hasGym: bool\n",
    "    isNewlyRenovated: bool\n",
    "    hasModernFinish: bool"
   ]
  },
  {
   "cell_type": "code",
   "execution_count": 7,
   "metadata": {},
   "outputs": [],
   "source": [
    "def extract_features(listing_text):\n",
    "    system_msg = {\n",
    "        \"role\": \"system\",\n",
    "        \"content\": (\n",
    "            \"You are an assistant that extracts real estate listing features from text. \"\n",
    "            \"Read the provided text and output a JSON object that exactly follows the schema. \"\n",
    "            \"Do not include any extra explanation or text.\"\n",
    "        ),\n",
    "    }\n",
    "\n",
    "    user_msg = {\n",
    "        \"role\": \"user\",\n",
    "        \"content\": f\"\"\"\n",
    "        Given the following real estate listing text, please determine the values for each of these features. \n",
    "        If a feature is not clearly mentioned, assume it is false for booleans or \"Unknown\" for energyEfficiencyRating.\n",
    "\n",
    "        - Does it mention a pool? (hasSwimmingPool)\n",
    "        - Does it mention a balcony? (hasBalcony)\n",
    "        - Does it mention a garage? (hasGarage)\n",
    "        - Does it mention a parking space? (hasParking)\n",
    "        - Does it mention air conditioning? (hasAirConditioning)\n",
    "        - Does it mention a clothesline space? (hasClotheslineSpace)\n",
    "        - Does it mention built-in wardrobes? (hasBuiltInWardrobes)\n",
    "        - Does it mention a dishwasher? (hasDishwasher)\n",
    "        - Does it mention a washing machine? (hasWashingMachine)\n",
    "        - Does it mention a dryer? (hasDryer)\n",
    "        - Does it mention an elevator/lift? (hasLift)\n",
    "        - Is the property furnished? (isFurnished)\n",
    "        - Does it allow pets? (isPetFriendly)\n",
    "        - Does it allow smoking? (isSmokingAllowed)\n",
    "        - Is it wheelchair accessible? (isWheelchairAccessible)\n",
    "        - Does it mention a garden? (hasGarden)\n",
    "        - Does it mention a fireplace? (hasFireplace)\n",
    "        - Does it mention an alarm system? (hasAlarmSystem)\n",
    "        - Does it have city views? (hasCityViews)\n",
    "        - Does it have water views? (hasWaterViews)\n",
    "        - Is it a luxury listing? (isLuxury)\n",
    "        - Is it a temporary (fixed) contract? (isTemporaryContract)\n",
    "        - Is it a long-term contract? (isLongTermContract)\n",
    "        - Is it student-friendly? (isStudentFriendly)\n",
    "        - What is the energy efficiency rating? (energyEfficiencyRating)\n",
    "        - Does it mention home appliances in general? (hasHomeAppliances)\n",
    "        - Does it mention an oven? (hasOven)\n",
    "        - Does it mention a microwave? (hasMicrowave)\n",
    "        - Does it mention a refrigerator? (hasRefrigerator)\n",
    "        - Does it mention a stove? (hasStove)\n",
    "        - Does it mention a terrace? (hasTerrace)\n",
    "        - Does it mention a storage room? (hasStorageRoom)\n",
    "        - Is internet included? (hasInternetIncluded)\n",
    "        - Is cable TV included? (hasCableTVIncluded)\n",
    "        - Does it have smart home features? (hasSmartHomeFeatures)\n",
    "        - Does it mention CCTV? (hasCCTV)\n",
    "        - Does it have a gym? (hasGym)\n",
    "        - Is it newly renovated? (isNewlyRenovated)\n",
    "        - Does it have modern finishes? (hasModernFinish)\n",
    "\n",
    "        Text:\n",
    "        \\\"{listing_text}\\\"\n",
    "        \"\"\",\n",
    "    }\n",
    "\n",
    "    response = client.chat.completions.create(\n",
    "        model=\"gpt-4o\",\n",
    "        messages=[system_msg, user_msg],\n",
    "        response_format={\"type\": \"json_schema\", \"json_schema\": schema},\n",
    "        temperature=1,\n",
    "        max_completion_tokens=2048,\n",
    "        top_p=1,\n",
    "        frequency_penalty=0,\n",
    "        presence_penalty=0,\n",
    "    )\n",
    "\n",
    "    return response"
   ]
  },
  {
   "cell_type": "code",
   "execution_count": 8,
   "metadata": {},
   "outputs": [],
   "source": [
    "# Example usage:\n",
    "example_description = \"Encantador Penthouse no coração do Chiado, recentemente renovado e com uma área bruta de 162 m², este apartamento oferece um espaço amplo e moderno, ideal para quem procura conforto e sofisticação.  A sala de 45m² com cozinha aberta de 16m² cria um ambiente acolhedor e perfeito para receber amigos e familiares.  O terraço de 12m² é um verdadeiro refúgio, proporcionando momentos de relaxamento com uma vista deslumbrante.  Com quatro quartos, dois deles em mezzanine, e duas casas de banho completas (uma com duche e outra com banheira), este imóvel é perfeito para famílias ou para quem precisa de espaço extra. Localizado no 4º andar de um edifício com elevador, o apartamento beneficia de uma excelente orientação solar (Sul e Oeste), garantindo muita luz natural durante todo o dia. Equipado com ar condicionado e aquecimento elétrico, o conforto está assegurado em todas as estações do ano. Além disso, há a possibilidade de arrendamento a curto e médio prazo: Outubro-Maio: 8.500€/mês Junho e Setembro: 10.000€/mês Julho e Agosto: 12.000€/mês.\""
   ]
  },
  {
   "cell_type": "code",
   "execution_count": 9,
   "metadata": {},
   "outputs": [],
   "source": [
    "response = extract_features(example_description)"
   ]
  },
  {
   "cell_type": "code",
   "execution_count": 11,
   "metadata": {},
   "outputs": [],
   "source": [
    "content = response.choices[0].message.content"
   ]
  },
  {
   "cell_type": "code",
   "execution_count": 13,
   "metadata": {},
   "outputs": [],
   "source": [
    "try:\n",
    "    # Parse and validate the response content\n",
    "    solution = ResponseSchema.model_validate_json(content)\n",
    "except ValidationError as e:\n",
    "    # Handle validation errors\n",
    "    print(e.json())"
   ]
  },
  {
   "cell_type": "code",
   "execution_count": 14,
   "metadata": {},
   "outputs": [],
   "source": [
    "data = json.loads(content)"
   ]
  },
  {
   "cell_type": "code",
   "execution_count": 19,
   "metadata": {},
   "outputs": [
    {
     "name": "stderr",
     "output_type": "stream",
     "text": [
      "/var/folders/p1/pg83r7j563x7sxbrchzbfc140000gn/T/ipykernel_38872/611665778.py:3: FutureWarning: Passing literal json to 'read_json' is deprecated and will be removed in a future version. To read from a literal string, wrap it in a 'StringIO' object.\n",
      "  pd.read_json(json.dumps(data), orient=\"index\").T\n"
     ]
    },
    {
     "data": {
      "text/html": [
       "<div>\n",
       "<style scoped>\n",
       "    .dataframe tbody tr th:only-of-type {\n",
       "        vertical-align: middle;\n",
       "    }\n",
       "\n",
       "    .dataframe tbody tr th {\n",
       "        vertical-align: top;\n",
       "    }\n",
       "\n",
       "    .dataframe thead th {\n",
       "        text-align: right;\n",
       "    }\n",
       "</style>\n",
       "<table border=\"1\" class=\"dataframe\">\n",
       "  <thead>\n",
       "    <tr style=\"text-align: right;\">\n",
       "      <th></th>\n",
       "      <th>hasSwimmingPool</th>\n",
       "      <th>hasBalcony</th>\n",
       "      <th>hasGarage</th>\n",
       "      <th>hasParking</th>\n",
       "      <th>hasAirConditioning</th>\n",
       "      <th>hasClotheslineSpace</th>\n",
       "      <th>hasBuiltInWardrobes</th>\n",
       "      <th>hasDishwasher</th>\n",
       "      <th>hasWashingMachine</th>\n",
       "      <th>hasDryer</th>\n",
       "      <th>...</th>\n",
       "      <th>hasStove</th>\n",
       "      <th>hasTerrace</th>\n",
       "      <th>hasStorageRoom</th>\n",
       "      <th>hasInternetIncluded</th>\n",
       "      <th>hasCableTVIncluded</th>\n",
       "      <th>hasSmartHomeFeatures</th>\n",
       "      <th>hasCCTV</th>\n",
       "      <th>hasGym</th>\n",
       "      <th>isNewlyRenovated</th>\n",
       "      <th>hasModernFinish</th>\n",
       "    </tr>\n",
       "  </thead>\n",
       "  <tbody>\n",
       "    <tr>\n",
       "      <th>0</th>\n",
       "      <td>False</td>\n",
       "      <td>False</td>\n",
       "      <td>False</td>\n",
       "      <td>False</td>\n",
       "      <td>True</td>\n",
       "      <td>False</td>\n",
       "      <td>False</td>\n",
       "      <td>False</td>\n",
       "      <td>False</td>\n",
       "      <td>False</td>\n",
       "      <td>...</td>\n",
       "      <td>False</td>\n",
       "      <td>True</td>\n",
       "      <td>False</td>\n",
       "      <td>False</td>\n",
       "      <td>False</td>\n",
       "      <td>False</td>\n",
       "      <td>False</td>\n",
       "      <td>False</td>\n",
       "      <td>True</td>\n",
       "      <td>True</td>\n",
       "    </tr>\n",
       "  </tbody>\n",
       "</table>\n",
       "<p>1 rows × 39 columns</p>\n",
       "</div>"
      ],
      "text/plain": [
       "  hasSwimmingPool hasBalcony hasGarage hasParking hasAirConditioning  \\\n",
       "0           False      False     False      False               True   \n",
       "\n",
       "  hasClotheslineSpace hasBuiltInWardrobes hasDishwasher hasWashingMachine  \\\n",
       "0               False               False         False             False   \n",
       "\n",
       "  hasDryer  ... hasStove hasTerrace hasStorageRoom hasInternetIncluded  \\\n",
       "0    False  ...    False       True          False               False   \n",
       "\n",
       "  hasCableTVIncluded hasSmartHomeFeatures hasCCTV hasGym isNewlyRenovated  \\\n",
       "0              False                False   False  False             True   \n",
       "\n",
       "  hasModernFinish  \n",
       "0            True  \n",
       "\n",
       "[1 rows x 39 columns]"
      ]
     },
     "execution_count": 19,
     "metadata": {},
     "output_type": "execute_result"
    }
   ],
   "source": [
    "import pandas as pd\n",
    "\n",
    "pd.read_json(json.dumps(data), orient=\"index\").T"
   ]
  },
  {
   "cell_type": "code",
   "execution_count": null,
   "metadata": {},
   "outputs": [],
   "source": []
  }
 ],
 "metadata": {
  "kernelspec": {
   "display_name": ".venv",
   "language": "python",
   "name": "python3"
  },
  "language_info": {
   "codemirror_mode": {
    "name": "ipython",
    "version": 3
   },
   "file_extension": ".py",
   "mimetype": "text/x-python",
   "name": "python",
   "nbconvert_exporter": "python",
   "pygments_lexer": "ipython3",
   "version": "3.11.11"
  }
 },
 "nbformat": 4,
 "nbformat_minor": 2
}
