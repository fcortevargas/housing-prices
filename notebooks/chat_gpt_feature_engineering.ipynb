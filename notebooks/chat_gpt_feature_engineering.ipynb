{
 "cells": [
  {
   "cell_type": "code",
   "execution_count": null,
   "metadata": {},
   "outputs": [],
   "source": [
    "from pydantic import BaseModel, ValidationError\n",
    "from typing import Literal\n",
    "from openai import OpenAI\n",
    "import dotenv\n",
    "import sys\n",
    "import os\n",
    "import pandas as pd\n",
    "import time\n",
    "\n",
    "import json\n",
    "from sklearn.base import BaseEstimator, TransformerMixin"
   ]
  },
  {
   "cell_type": "code",
   "execution_count": null,
   "metadata": {},
   "outputs": [],
   "source": [
    "# to visualise al the columns in the dataframe\n",
    "pd.pandas.set_option(\"display.max_columns\", None)\n",
    "# to display all the rows of the dataframe in the notebook\n",
    "pd.pandas.set_option(\"display.max_rows\", None)"
   ]
  },
  {
   "cell_type": "code",
   "execution_count": null,
   "metadata": {},
   "outputs": [],
   "source": [
    "# Load environment variables from .env file\n",
    "dotenv.load_dotenv()\n",
    "\n",
    "# API credentials\n",
    "OPEN_AI_API_KEY = os.getenv(\"OPEN_AI_API_KEY\")"
   ]
  },
  {
   "cell_type": "code",
   "execution_count": null,
   "metadata": {},
   "outputs": [],
   "source": [
    "class ResponseSchema(BaseModel):\n",
    "    hasSwimmingPool: bool\n",
    "    hasBalcony: bool\n",
    "    hasGarage: bool\n",
    "    hasParking: bool\n",
    "    hasAirConditioning: bool\n",
    "    hasClotheslineSpace: bool\n",
    "    hasBuiltInWardrobes: bool\n",
    "    hasDishwasher: bool\n",
    "    hasWashingMachine: bool\n",
    "    hasDryer: bool\n",
    "    hasLift: bool\n",
    "    isFurnished: bool\n",
    "    isPetFriendly: bool\n",
    "    isSmokingAllowed: bool\n",
    "    isWheelchairAccessible: bool\n",
    "    hasGarden: bool\n",
    "    hasFireplace: bool\n",
    "    hasAlarmSystem: bool\n",
    "    hasCityViews: bool\n",
    "    hasWaterViews: bool\n",
    "    isLuxury: bool\n",
    "    isTemporaryContract: bool\n",
    "    isLongTermContract: bool\n",
    "    isStudentFriendly: bool\n",
    "    energyEfficiencyRating: Literal[\n",
    "        \"A+++\",\n",
    "        \"A++\",\n",
    "        \"A+\",\n",
    "        \"A\",\n",
    "        \"B\",\n",
    "        \"C\",\n",
    "        \"D\",\n",
    "        \"E\",\n",
    "        \"F\",\n",
    "        \"Unknown\",\n",
    "    ]\n",
    "    hasHomeAppliances: bool\n",
    "    hasOven: bool\n",
    "    hasMicrowave: bool\n",
    "    hasRefrigerator: bool\n",
    "    hasStove: bool\n",
    "    hasTerrace: bool\n",
    "    hasStorageRoom: bool\n",
    "    hasInternetIncluded: bool\n",
    "    hasCableTVIncluded: bool\n",
    "    hasSmartHomeFeatures: bool\n",
    "    hasCCTV: bool\n",
    "    hasGym: bool\n",
    "    isNewlyRenovated: bool\n",
    "    hasModernFinish: bool\n",
    "\n",
    "\n",
    "class OpenAITextFeatureExtractor(BaseEstimator, TransformerMixin):\n",
    "    def __init__(self, api_key, schema_path=\"response.schema.json\", retry_attempts=3, delay_seconds=2):\n",
    "        self.api_key = api_key\n",
    "        self.client = OpenAI(api_key=self.api_key)\n",
    "        self.schema_path = schema_path\n",
    "        self.retry_attempts = retry_attempts\n",
    "        self.delay_seconds = delay_seconds\n",
    "\n",
    "        with open(self.schema_path, \"r\") as f:\n",
    "            self.schema = json.load(f)\n",
    "\n",
    "    def extract_features(self, listing_text):\n",
    "        self.system_message = {\n",
    "            \"role\": \"system\",\n",
    "            \"content\": (\n",
    "                \"You are an assistant that extracts real estate listing features from text. \"\n",
    "                \"Read the provided text and output a JSON object that exactly follows the schema. \"\n",
    "                \"Do not include any extra explanation or text.\"\n",
    "            ),\n",
    "        }\n",
    "\n",
    "        self.user_message = {\n",
    "            \"role\": \"user\",\n",
    "            \"content\": f\"\"\"\n",
    "            Given the following real estate listing text, please determine the values for each of these features. \n",
    "            If a feature is not clearly mentioned, assume it is false for booleans or \"Unknown\" for energyEfficiencyRating.\n",
    "\n",
    "            - Does it mention a pool? (hasSwimmingPool)\n",
    "            - Does it mention a balcony? (hasBalcony)\n",
    "            - Does it mention a garage? (hasGarage)\n",
    "            - Does it mention a parking space? (hasParking)\n",
    "            - Does it mention air conditioning? (hasAirConditioning)\n",
    "            - Does it mention a clothesline space? (hasClotheslineSpace)\n",
    "            - Does it mention built-in wardrobes? (hasBuiltInWardrobes)\n",
    "            - Does it mention a dishwasher? (hasDishwasher)\n",
    "            - Does it mention a washing machine? (hasWashingMachine)\n",
    "            - Does it mention a dryer? (hasDryer)\n",
    "            - Does it mention an elevator/lift? (hasLift)\n",
    "            - Is the property furnished? (isFurnished)\n",
    "            - Does it allow pets? (isPetFriendly)\n",
    "            - Does it allow smoking? (isSmokingAllowed)\n",
    "            - Is it wheelchair accessible? (isWheelchairAccessible)\n",
    "            - Does it mention a garden? (hasGarden)\n",
    "            - Does it mention a fireplace? (hasFireplace)\n",
    "            - Does it mention an alarm system? (hasAlarmSystem)\n",
    "            - Does it have city views? (hasCityViews)\n",
    "            - Does it have water views? (hasWaterViews)\n",
    "            - Is it a luxury listing? (isLuxury)\n",
    "            - Is it a temporary (fixed) contract? (isTemporaryContract)\n",
    "            - Is it a long-term contract? (isLongTermContract)\n",
    "            - Is it student-friendly? (isStudentFriendly)\n",
    "            - What is the energy efficiency rating? (energyEfficiencyRating)\n",
    "            - Does it mention home appliances in general? (hasHomeAppliances)\n",
    "            - Does it mention an oven? (hasOven)\n",
    "            - Does it mention a microwave? (hasMicrowave)\n",
    "            - Does it mention a refrigerator? (hasRefrigerator)\n",
    "            - Does it mention a stove? (hasStove)\n",
    "            - Does it mention a terrace? (hasTerrace)\n",
    "            - Does it mention a storage room? (hasStorageRoom)\n",
    "            - Is internet included? (hasInternetIncluded)\n",
    "            - Is cable TV included? (hasCableTVIncluded)\n",
    "            - Does it have smart home features? (hasSmartHomeFeatures)\n",
    "            - Does it mention CCTV? (hasCCTV)\n",
    "            - Does it have a gym? (hasGym)\n",
    "            - Is it newly renovated? (isNewlyRenovated)\n",
    "            - Does it have modern finishes? (hasModernFinish)\n",
    "\n",
    "            Text:\n",
    "            \\\"{listing_text}\\\"\n",
    "            \"\"\",\n",
    "        }\n",
    "\n",
    "        for attempt in range(self.retry_attempts):\n",
    "            try:\n",
    "                response = self.client.chat.completions.create(\n",
    "                    model=\"gpt-4o-mini\",\n",
    "                    messages=[self.system_message, self.user_message],\n",
    "                    response_format={\"type\": \"json_schema\", \"json_schema\": self.schema},\n",
    "                    temperature=1,\n",
    "                    max_completion_tokens=2048,\n",
    "                    top_p=1,\n",
    "                    frequency_penalty=0,\n",
    "                    presence_penalty=0,\n",
    "                )\n",
    "\n",
    "                content = response.choices[0].message.content\n",
    "\n",
    "                try:\n",
    "                    ResponseSchema.model_validate_json(content)\n",
    "                except ValidationError as e:\n",
    "                    print(e.json())\n",
    "                \n",
    "                features = json.loads(content)\n",
    "                return features\n",
    "            except (json.JSONDecodeError, Exception) as e:\n",
    "                print(f\"Attempt {attempt + 1} failed: {e}\")\n",
    "                if attempt < self.retry_attempts - 1:\n",
    "                    time.sleep(self.delay_seconds)\n",
    "                else:\n",
    "                    return {}\n",
    "\n",
    "    def fit(self, X, y=None):\n",
    "        return self\n",
    "\n",
    "    def transform(self, X):\n",
    "        results = []\n",
    "        for index, row in X.iterrows():\n",
    "            try:\n",
    "                features = self.extract_features(row[\"description\"])\n",
    "                results.append(features)\n",
    "            except Exception as e:\n",
    "                print(f\"Skipping row {index} due to error: {e}\")\n",
    "                results.append({})\n",
    "        extracted_features = pd.DataFrame(results, index=X.index)\n",
    "        return pd.concat([X, extracted_features], axis=1)"
   ]
  },
  {
   "cell_type": "code",
   "execution_count": null,
   "metadata": {},
   "outputs": [],
   "source": [
    "# Get the absolute path of the scripts directory\n",
    "root_dir = os.path.abspath(os.path.join(os.getcwd(), \"..\"))\n",
    "\n",
    "# Add the scripts directory to Python's module search path\n",
    "sys.path.append(root_dir)\n",
    "\n",
    "from scripts.preprocessors import IdealistaDataLoader\n",
    "\n",
    "data_loader = IdealistaDataLoader(\n",
    "    read_path=f\"../data/idealista\",\n",
    "    city=\"lisbon\",\n",
    "    operation=\"rent\",\n",
    "    date_or_unioned=\"unioned\",\n",
    "    include_geodata=True,\n",
    "    index_col=\"propertyCode\",\n",
    ")\n",
    "\n",
    "full_df = data_loader.load_data()"
   ]
  },
  {
   "cell_type": "code",
   "execution_count": null,
   "metadata": {},
   "outputs": [],
   "source": [
    "X = full_df.iloc[679:681, :]"
   ]
  },
  {
   "cell_type": "code",
   "execution_count": null,
   "metadata": {},
   "outputs": [],
   "source": [
    "X"
   ]
  },
  {
   "cell_type": "code",
   "execution_count": null,
   "metadata": {},
   "outputs": [],
   "source": [
    "open_ai_text_feature_extractor = OpenAITextFeatureExtractor(api_key=OPEN_AI_API_KEY)\n",
    "open_ai_text_feature_extractor.fit(X)"
   ]
  },
  {
   "cell_type": "code",
   "execution_count": null,
   "metadata": {},
   "outputs": [],
   "source": [
    "X = open_ai_text_feature_extractor.transform(X)"
   ]
  },
  {
   "cell_type": "code",
   "execution_count": null,
   "metadata": {},
   "outputs": [],
   "source": [
    "X"
   ]
  },
  {
   "cell_type": "code",
   "execution_count": null,
   "metadata": {},
   "outputs": [],
   "source": [
    "X[[\"hasParking\", \"hasParkingSpace\"]]"
   ]
  },
  {
   "cell_type": "code",
   "execution_count": null,
   "metadata": {},
   "outputs": [],
   "source": [
    "open_ai_text_feature_extractor = OpenAITextFeatureExtractor(api_key=OPEN_AI_API_KEY)\n",
    "open_ai_text_feature_extractor.fit(full_df)"
   ]
  },
  {
   "cell_type": "code",
   "execution_count": null,
   "metadata": {},
   "outputs": [],
   "source": [
    "full_df = open_ai_text_feature_extractor.transform(full_df)"
   ]
  },
  {
   "cell_type": "code",
   "execution_count": null,
   "metadata": {},
   "outputs": [],
   "source": [
    "full_df.head()"
   ]
  },
  {
   "cell_type": "code",
   "execution_count": null,
   "metadata": {},
   "outputs": [],
   "source": [
    "full_df.shape"
   ]
  },
  {
   "cell_type": "code",
   "execution_count": null,
   "metadata": {},
   "outputs": [],
   "source": [
    "full_df.to_csv(\"../data/idealista/cleaned/rent/lisbon/unioned-lisbon-listings-for-rent-with-geodata-openai.csv\")"
   ]
  }
 ],
 "metadata": {
  "kernelspec": {
   "display_name": ".venv",
   "language": "python",
   "name": "python3"
  },
  "language_info": {
   "codemirror_mode": {
    "name": "ipython",
    "version": 3
   },
   "file_extension": ".py",
   "mimetype": "text/x-python",
   "name": "python",
   "nbconvert_exporter": "python",
   "pygments_lexer": "ipython3",
   "version": "3.11.11"
  }
 },
 "nbformat": 4,
 "nbformat_minor": 2
}
