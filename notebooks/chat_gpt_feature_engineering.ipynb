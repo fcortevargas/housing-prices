{
 "cells": [
  {
   "cell_type": "code",
   "execution_count": 1,
   "metadata": {},
   "outputs": [],
   "source": [
    "import json\n",
    "from pydantic import BaseModel, ValidationError\n",
    "from typing import Literal\n",
    "from openai import OpenAI"
   ]
  },
  {
   "cell_type": "code",
   "execution_count": 3,
   "metadata": {},
   "outputs": [],
   "source": [
    "# client = OpenAI(\n",
    "#     api_key=OPENAI_API_KEY,\n",
    "# )"
   ]
  },
  {
   "cell_type": "code",
   "execution_count": 4,
   "metadata": {},
   "outputs": [],
   "source": [
    "class ResponseSchema(BaseModel):\n",
    "    hasSwimmingPool: bool\n",
    "    hasBalcony: bool\n",
    "    hasGarage: bool\n",
    "    hasParking: bool\n",
    "    hasAirConditioning: bool\n",
    "    hasClotheslineSpace: bool\n",
    "    hasBuiltInWardrobes: bool\n",
    "    hasDishwasher: bool\n",
    "    hasWashingMachine: bool\n",
    "    hasDryer: bool\n",
    "    hasLift: bool\n",
    "    isFurnished: bool\n",
    "    isPetFriendly: bool\n",
    "    isSmokingAllowed: bool\n",
    "    isWheelchairAccessible: bool\n",
    "    hasGarden: bool\n",
    "    hasFireplace: bool\n",
    "    hasAlarmSystem: bool\n",
    "    hasCityViews: bool\n",
    "    hasWaterViews: bool\n",
    "    isLuxuryListing: bool\n",
    "    isTemporaryContract: bool\n",
    "    isLongTermContract: bool\n",
    "    isStudentFriendly: bool\n",
    "    energyEfficiencyRating: Literal[\n",
    "        \"A+++\",\n",
    "        \"A++\",\n",
    "        \"A+\",\n",
    "        \"A\",\n",
    "        \"B\",\n",
    "        \"C\",\n",
    "        \"D\",\n",
    "        \"E\",\n",
    "        \"F\",\n",
    "        \"Unknown\",\n",
    "    ]"
   ]
  },
  {
   "cell_type": "code",
   "execution_count": 5,
   "metadata": {},
   "outputs": [],
   "source": [
    "def extract_features(listing_text):\n",
    "    system_msg = {\n",
    "        \"role\": \"system\",\n",
    "        \"content\": (\n",
    "            \"You are an assistant that extracts real estate listing features from text.\"\n",
    "            \"Read the text and answer the questions below.\"\n",
    "            \"Do not include any extra explanation.\"\n",
    "        ),\n",
    "    }\n",
    "    user_msg = {\n",
    "        \"role\": \"user\",\n",
    "        \"content\": f\"\"\"\n",
    "        Given the following real estate listing text, please determine:\n",
    "        - Does it mention a pool? (hasSwimmingPool)\n",
    "        - Does it mention a balcony? (hasBalcony)\n",
    "        - Does it mention a garage? (hasGarage)\n",
    "        - Does it mention a parking space? (hasParking)\n",
    "        - Does it mention air conditioning? (hasAirConditioning)\n",
    "        - Does it mention a clothesline space? (hasClotheslineSpace)\n",
    "        - Does it mention built-in wardrobes? (hasBuiltInWardrobes)\n",
    "        - Does it mention a dishwasher? (hasDishwasher)\n",
    "        - Does it mention a washing machine? (hasWashingMachine)\n",
    "        - Does it mention a dryer? (hasDryer)\n",
    "        - Does it mention an lift? (hasLift)\n",
    "        - Is it furnished? (isFurnished)\n",
    "        - Does it allow pets? (isPetFriendly)\n",
    "        - Does it allow smoking? (isSmokingAllowed)\n",
    "        - Is it wheelchair accessible? (isWheelchairAccessible)\n",
    "        - Does it mention a garden? (hasGarden)\n",
    "        - Does it mention a fireplace? (hasFireplace)\n",
    "        - Does it mention an alarm system? (hasAlarmSystem)\n",
    "        - Does it have city views? (hasCityViews)\n",
    "        - Does it have water views? (hasWaterViews)\n",
    "        - Is it a luxury listing? (isLuxuryListing)\n",
    "        - Is it a temporary (fixed) contract? (isTemporaryContract)\n",
    "        - Is it a long-term contract? (isLongTermContract)\n",
    "        - Is it student-friendly? (isStudentFriendly)\n",
    "        - What is the energy efficiency rating? (energyEfficiencyRating)\n",
    "\n",
    "        If you are unsure about a particular answer, you can assume it's false or unknown.\n",
    "\n",
    "        Text:\n",
    "        \\\"{listing_text}\\\"\n",
    "        \"\"\",\n",
    "    }\n",
    "\n",
    "    chat_completion = client.beta.chat.completions.parse(\n",
    "        model=\"gpt-4o-mini\",\n",
    "        messages=[system_msg, user_msg],\n",
    "        response_format=ResponseSchema,\n",
    "        temperature=0,\n",
    "    )\n",
    "\n",
    "    return chat_completion"
   ]
  },
  {
   "cell_type": "code",
   "execution_count": 6,
   "metadata": {},
   "outputs": [],
   "source": [
    "# Example usage:\n",
    "example_description = \"Encantador Penthouse no coração do Chiado, recentemente renovado e com uma área bruta de 162 m², este apartamento oferece um espaço amplo e moderno, ideal para quem procura conforto e sofisticação.  A sala de 45m² com cozinha aberta de 16m² cria um ambiente acolhedor e perfeito para receber amigos e familiares.  O terraço de 12m² é um verdadeiro refúgio, proporcionando momentos de relaxamento com uma vista deslumbrante.  Com quatro quartos, dois deles em mezzanine, e duas casas de banho completas (uma com duche e outra com banheira), este imóvel é perfeito para famílias ou para quem precisa de espaço extra. Localizado no 4º andar de um edifício com elevador, o apartamento beneficia de uma excelente orientação solar (Sul e Oeste), garantindo muita luz natural durante todo o dia. Equipado com ar condicionado e aquecimento elétrico, o conforto está assegurado em todas as estações do ano. Além disso, há a possibilidade de arrendamento a curto e médio prazo: Outubro-Maio: 8.500€/mês Junho e Setembro: 10.000€/mês Julho e Agosto: 12.000€/mês.\""
   ]
  },
  {
   "cell_type": "code",
   "execution_count": 7,
   "metadata": {},
   "outputs": [],
   "source": [
    "completion = extract_features(example_description)"
   ]
  },
  {
   "cell_type": "code",
   "execution_count": 8,
   "metadata": {},
   "outputs": [],
   "source": [
    "content = completion.choices[0].message.content"
   ]
  },
  {
   "cell_type": "code",
   "execution_count": 9,
   "metadata": {},
   "outputs": [],
   "source": [
    "try:\n",
    "    # Parse and validate the response content\n",
    "    solution = ResponseSchema.model_validate_json(content)\n",
    "except ValidationError as e:\n",
    "    # Handle validation errors\n",
    "    print(e.json())"
   ]
  },
  {
   "cell_type": "code",
   "execution_count": 10,
   "metadata": {},
   "outputs": [],
   "source": [
    "data = json.loads(content)"
   ]
  },
  {
   "cell_type": "code",
   "execution_count": 11,
   "metadata": {},
   "outputs": [
    {
     "data": {
      "text/plain": [
       "{'hasSwimmingPool': False,\n",
       " 'hasBalcony': False,\n",
       " 'hasGarage': False,\n",
       " 'hasParking': False,\n",
       " 'hasAirConditioning': True,\n",
       " 'hasClotheslineSpace': False,\n",
       " 'hasBuiltInWardrobes': False,\n",
       " 'hasDishwasher': False,\n",
       " 'hasWashingMachine': False,\n",
       " 'hasDryer': False,\n",
       " 'hasLift': True,\n",
       " 'isFurnished': False,\n",
       " 'isPetFriendly': False,\n",
       " 'isSmokingAllowed': False,\n",
       " 'isWheelchairAccessible': False,\n",
       " 'hasGarden': False,\n",
       " 'hasFireplace': False,\n",
       " 'hasAlarmSystem': False,\n",
       " 'hasCityViews': False,\n",
       " 'hasWaterViews': False,\n",
       " 'isLuxuryListing': False,\n",
       " 'isTemporaryContract': True,\n",
       " 'isLongTermContract': False,\n",
       " 'isStudentFriendly': False,\n",
       " 'energyEfficiencyRating': 'Unknown'}"
      ]
     },
     "execution_count": 11,
     "metadata": {},
     "output_type": "execute_result"
    }
   ],
   "source": [
    "data"
   ]
  }
 ],
 "metadata": {
  "kernelspec": {
   "display_name": "Python 3",
   "language": "python",
   "name": "python3"
  },
  "language_info": {
   "codemirror_mode": {
    "name": "ipython",
    "version": 3
   },
   "file_extension": ".py",
   "mimetype": "text/x-python",
   "name": "python",
   "nbconvert_exporter": "python",
   "pygments_lexer": "ipython3",
   "version": "3.11.11"
  }
 },
 "nbformat": 4,
 "nbformat_minor": 2
}
