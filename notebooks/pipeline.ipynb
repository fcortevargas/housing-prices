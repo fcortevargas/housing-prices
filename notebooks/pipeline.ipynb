{
 "cells": [
  {
   "cell_type": "code",
   "execution_count": 1,
   "metadata": {},
   "outputs": [],
   "source": [
    "import sys\n",
    "import os\n",
    "\n",
    "# Get the absolute path of the scripts directory\n",
    "root_dir = os.path.abspath(os.path.join(os.getcwd(), \"..\"))\n",
    "\n",
    "# Add the scripts directory to Python's module search path\n",
    "sys.path.append(root_dir)\n",
    "\n",
    "# data manipulation and plotting\n",
    "import pandas as pd\n",
    "import numpy as np\n",
    "import matplotlib.pyplot as plt\n",
    "import datetime\n",
    "import seaborn as sns\n",
    "\n",
    "# for saving the pipeline\n",
    "import joblib\n",
    "\n",
    "# from Scikit-learn\n",
    "from sklearn.model_selection import train_test_split\n",
    "from sklearn.preprocessing import StandardScaler\n",
    "from sklearn.impute import KNNImputer\n",
    "from sklearn.pipeline import Pipeline\n",
    "\n",
    "# from feature-engine\n",
    "from feature_engine.imputation import AddMissingIndicator, CategoricalImputer\n",
    "\n",
    "from feature_engine.encoding import RareLabelEncoder, OrdinalEncoder, OneHotEncoder\n",
    "\n",
    "from feature_engine.transformation import YeoJohnsonTransformer\n",
    "\n",
    "from feature_engine.selection import DropFeatures\n",
    "from feature_engine.wrappers import SklearnTransformerWrapper\n",
    "\n",
    "# from scripts\n",
    "from scripts.preprocessors import IdealistaDataLoader\n",
    "\n",
    "# to visualise al the columns in the dataframe\n",
    "pd.pandas.set_option(\"display.max_columns\", None)\n",
    "# to display all the columns of the dataframe in the notebook\n",
    "pd.pandas.set_option(\"display.max_columns\", None)\n",
    "\n",
    "# to display the plots in a nice way\n",
    "custom_params = {\"axes.spines.right\": False, \"axes.spines.top\": False}\n",
    "sns.set_theme(style=\"ticks\", rc=custom_params)"
   ]
  },
  {
   "cell_type": "code",
   "execution_count": 2,
   "metadata": {},
   "outputs": [],
   "source": [
    "data_loader = IdealistaDataLoader(\n",
    "    read_path=f\"../data/idealista\",\n",
    "    city=\"lisbon\",\n",
    "    operation=\"rent\",\n",
    "    date_or_unioned=\"unioned\",\n",
    "    include_geodata=True,\n",
    "    index_col=\"propertyCode\",\n",
    ")\n",
    "\n",
    "data = data_loader.load_data()"
   ]
  },
  {
   "cell_type": "code",
   "execution_count": 3,
   "metadata": {},
   "outputs": [
    {
     "name": "stdout",
     "output_type": "stream",
     "text": [
      "(2963, 60)\n"
     ]
    },
    {
     "data": {
      "text/html": [
       "<div>\n",
       "<style scoped>\n",
       "    .dataframe tbody tr th:only-of-type {\n",
       "        vertical-align: middle;\n",
       "    }\n",
       "\n",
       "    .dataframe tbody tr th {\n",
       "        vertical-align: top;\n",
       "    }\n",
       "\n",
       "    .dataframe thead th {\n",
       "        text-align: right;\n",
       "    }\n",
       "</style>\n",
       "<table border=\"1\" class=\"dataframe\">\n",
       "  <thead>\n",
       "    <tr style=\"text-align: right;\">\n",
       "      <th></th>\n",
       "      <th>thumbnail</th>\n",
       "      <th>externalReference</th>\n",
       "      <th>numPhotos</th>\n",
       "      <th>floor</th>\n",
       "      <th>price</th>\n",
       "      <th>propertyType</th>\n",
       "      <th>operation</th>\n",
       "      <th>size</th>\n",
       "      <th>rooms</th>\n",
       "      <th>bathrooms</th>\n",
       "      <th>address</th>\n",
       "      <th>province</th>\n",
       "      <th>municipality</th>\n",
       "      <th>district</th>\n",
       "      <th>country</th>\n",
       "      <th>latitude</th>\n",
       "      <th>longitude</th>\n",
       "      <th>showAddress</th>\n",
       "      <th>url</th>\n",
       "      <th>distance</th>\n",
       "      <th>description</th>\n",
       "      <th>hasVideo</th>\n",
       "      <th>status</th>\n",
       "      <th>newDevelopment</th>\n",
       "      <th>hasLift</th>\n",
       "      <th>priceByArea</th>\n",
       "      <th>detailedType</th>\n",
       "      <th>suggestedTexts</th>\n",
       "      <th>hasPlan</th>\n",
       "      <th>has3DTour</th>\n",
       "      <th>has360</th>\n",
       "      <th>hasStaging</th>\n",
       "      <th>topNewDevelopment</th>\n",
       "      <th>topPlus</th>\n",
       "      <th>neighborhood</th>\n",
       "      <th>newDevelopmentFinished</th>\n",
       "      <th>snapshotDate</th>\n",
       "      <th>formerPrice</th>\n",
       "      <th>priceChange</th>\n",
       "      <th>isPriceLowered</th>\n",
       "      <th>hasParkingSpace</th>\n",
       "      <th>isParkingSpaceIncludedInPrice</th>\n",
       "      <th>parkingSpacePrice</th>\n",
       "      <th>totalPrice</th>\n",
       "      <th>distanceToNearestMall</th>\n",
       "      <th>nearestMallName</th>\n",
       "      <th>distanceToNearestTrain</th>\n",
       "      <th>nearestTrainName</th>\n",
       "      <th>distanceToNearestFair</th>\n",
       "      <th>nearestFairName</th>\n",
       "      <th>distanceToNearestPark</th>\n",
       "      <th>nearestParkName</th>\n",
       "      <th>distanceToNearestMarket</th>\n",
       "      <th>nearestMarketName</th>\n",
       "      <th>distanceToNearestMetro</th>\n",
       "      <th>nearestMetroName</th>\n",
       "      <th>distanceToNearestViewpoint</th>\n",
       "      <th>nearestViewpointName</th>\n",
       "      <th>distanceToNearestPlayground</th>\n",
       "      <th>nearestPlaygroundName</th>\n",
       "    </tr>\n",
       "    <tr>\n",
       "      <th>propertyCode</th>\n",
       "      <th></th>\n",
       "      <th></th>\n",
       "      <th></th>\n",
       "      <th></th>\n",
       "      <th></th>\n",
       "      <th></th>\n",
       "      <th></th>\n",
       "      <th></th>\n",
       "      <th></th>\n",
       "      <th></th>\n",
       "      <th></th>\n",
       "      <th></th>\n",
       "      <th></th>\n",
       "      <th></th>\n",
       "      <th></th>\n",
       "      <th></th>\n",
       "      <th></th>\n",
       "      <th></th>\n",
       "      <th></th>\n",
       "      <th></th>\n",
       "      <th></th>\n",
       "      <th></th>\n",
       "      <th></th>\n",
       "      <th></th>\n",
       "      <th></th>\n",
       "      <th></th>\n",
       "      <th></th>\n",
       "      <th></th>\n",
       "      <th></th>\n",
       "      <th></th>\n",
       "      <th></th>\n",
       "      <th></th>\n",
       "      <th></th>\n",
       "      <th></th>\n",
       "      <th></th>\n",
       "      <th></th>\n",
       "      <th></th>\n",
       "      <th></th>\n",
       "      <th></th>\n",
       "      <th></th>\n",
       "      <th></th>\n",
       "      <th></th>\n",
       "      <th></th>\n",
       "      <th></th>\n",
       "      <th></th>\n",
       "      <th></th>\n",
       "      <th></th>\n",
       "      <th></th>\n",
       "      <th></th>\n",
       "      <th></th>\n",
       "      <th></th>\n",
       "      <th></th>\n",
       "      <th></th>\n",
       "      <th></th>\n",
       "      <th></th>\n",
       "      <th></th>\n",
       "      <th></th>\n",
       "      <th></th>\n",
       "      <th></th>\n",
       "      <th></th>\n",
       "    </tr>\n",
       "  </thead>\n",
       "  <tbody>\n",
       "    <tr>\n",
       "      <th>33829652</th>\n",
       "      <td>https://img4.idealista.pt/blur/WEB_LISTING/0/i...</td>\n",
       "      <td>KWPT-009130</td>\n",
       "      <td>33</td>\n",
       "      <td>1</td>\n",
       "      <td>2475.0</td>\n",
       "      <td>flat</td>\n",
       "      <td>rent</td>\n",
       "      <td>179.0</td>\n",
       "      <td>3</td>\n",
       "      <td>3</td>\n",
       "      <td>São Sebastião da Pedreira</td>\n",
       "      <td>Lisboa</td>\n",
       "      <td>Avenidas Novas</td>\n",
       "      <td>São Sebastião da Pedreira</td>\n",
       "      <td>pt</td>\n",
       "      <td>38.733429</td>\n",
       "      <td>-9.145003</td>\n",
       "      <td>False</td>\n",
       "      <td>https://www.idealista.pt/imovel/33829652/</td>\n",
       "      <td>439.0</td>\n",
       "      <td>Um apartamento nas Avenidas Novas? Conte-me ma...</td>\n",
       "      <td>False</td>\n",
       "      <td>good</td>\n",
       "      <td>False</td>\n",
       "      <td>True</td>\n",
       "      <td>14.0</td>\n",
       "      <td>{'typology': 'flat'}</td>\n",
       "      <td>{'subtitle': 'Avenidas Novas, Lisboa', 'title'...</td>\n",
       "      <td>True</td>\n",
       "      <td>False</td>\n",
       "      <td>False</td>\n",
       "      <td>False</td>\n",
       "      <td>False</td>\n",
       "      <td>False</td>\n",
       "      <td>NaN</td>\n",
       "      <td>False</td>\n",
       "      <td>2025-01-13</td>\n",
       "      <td>2475.0</td>\n",
       "      <td>0.0</td>\n",
       "      <td>False</td>\n",
       "      <td>False</td>\n",
       "      <td>False</td>\n",
       "      <td>0.0</td>\n",
       "      <td>2475.0</td>\n",
       "      <td>83.378815</td>\n",
       "      <td>Dolce Vita Monumental</td>\n",
       "      <td>1626.342524</td>\n",
       "      <td>Entrecampos</td>\n",
       "      <td>1337.410328</td>\n",
       "      <td>Feira São João de Deus</td>\n",
       "      <td>466.306263</td>\n",
       "      <td>Jardim do Arco do Cego</td>\n",
       "      <td>1012.055636</td>\n",
       "      <td>Mercado Arco do Cego</td>\n",
       "      <td>250.261820</td>\n",
       "      <td>Saldanha</td>\n",
       "      <td>1142.440298</td>\n",
       "      <td>Miradouro do Parque Eduardo VII</td>\n",
       "      <td>641.621174</td>\n",
       "      <td>Parque Infantil do Jardim Gomes Amorim</td>\n",
       "    </tr>\n",
       "    <tr>\n",
       "      <th>33596155</th>\n",
       "      <td>https://img4.idealista.pt/blur/WEB_LISTING/0/i...</td>\n",
       "      <td>KWPT-004534</td>\n",
       "      <td>33</td>\n",
       "      <td>bj</td>\n",
       "      <td>2150.0</td>\n",
       "      <td>flat</td>\n",
       "      <td>rent</td>\n",
       "      <td>170.0</td>\n",
       "      <td>3</td>\n",
       "      <td>3</td>\n",
       "      <td>rua das Picoas</td>\n",
       "      <td>Lisboa</td>\n",
       "      <td>Avenidas Novas</td>\n",
       "      <td>São Sebastião da Pedreira</td>\n",
       "      <td>pt</td>\n",
       "      <td>38.733908</td>\n",
       "      <td>-9.144531</td>\n",
       "      <td>False</td>\n",
       "      <td>https://www.idealista.pt/imovel/33596155/</td>\n",
       "      <td>373.0</td>\n",
       "      <td>Um apartamento para arrendar? Conte-me mais! E...</td>\n",
       "      <td>True</td>\n",
       "      <td>good</td>\n",
       "      <td>False</td>\n",
       "      <td>True</td>\n",
       "      <td>13.0</td>\n",
       "      <td>{'typology': 'flat'}</td>\n",
       "      <td>{'subtitle': 'Avenidas Novas, Lisboa', 'title'...</td>\n",
       "      <td>True</td>\n",
       "      <td>False</td>\n",
       "      <td>False</td>\n",
       "      <td>False</td>\n",
       "      <td>False</td>\n",
       "      <td>False</td>\n",
       "      <td>NaN</td>\n",
       "      <td>False</td>\n",
       "      <td>2025-01-13</td>\n",
       "      <td>2150.0</td>\n",
       "      <td>0.0</td>\n",
       "      <td>False</td>\n",
       "      <td>False</td>\n",
       "      <td>False</td>\n",
       "      <td>0.0</td>\n",
       "      <td>2150.0</td>\n",
       "      <td>150.274403</td>\n",
       "      <td>Centro Comercial Atrium Saldanha</td>\n",
       "      <td>1576.198925</td>\n",
       "      <td>Entrecampos</td>\n",
       "      <td>1251.392666</td>\n",
       "      <td>Feira São João de Deus</td>\n",
       "      <td>380.225877</td>\n",
       "      <td>Jardim do Arco do Cego</td>\n",
       "      <td>929.438169</td>\n",
       "      <td>Mercado Arco do Cego</td>\n",
       "      <td>198.676223</td>\n",
       "      <td>Saldanha</td>\n",
       "      <td>1217.962245</td>\n",
       "      <td>Miradouro do Parque Eduardo VII</td>\n",
       "      <td>562.731979</td>\n",
       "      <td>Parque Infantil do Jardim Gomes Amorim</td>\n",
       "    </tr>\n",
       "    <tr>\n",
       "      <th>33896876</th>\n",
       "      <td>https://img4.idealista.pt/blur/WEB_LISTING/0/i...</td>\n",
       "      <td>Match_01.216</td>\n",
       "      <td>21</td>\n",
       "      <td>8</td>\n",
       "      <td>1950.0</td>\n",
       "      <td>flat</td>\n",
       "      <td>rent</td>\n",
       "      <td>135.0</td>\n",
       "      <td>2</td>\n",
       "      <td>2</td>\n",
       "      <td>rua Jorge Castilho, 8</td>\n",
       "      <td>Lisboa</td>\n",
       "      <td>Areeiro</td>\n",
       "      <td>Casal Vistoso</td>\n",
       "      <td>pt</td>\n",
       "      <td>38.740173</td>\n",
       "      <td>-9.128233</td>\n",
       "      <td>True</td>\n",
       "      <td>https://www.idealista.pt/imovel/33896876/</td>\n",
       "      <td>1303.0</td>\n",
       "      <td>Apartamento T2 Com Varanda e Estacionamento Lo...</td>\n",
       "      <td>False</td>\n",
       "      <td>good</td>\n",
       "      <td>False</td>\n",
       "      <td>True</td>\n",
       "      <td>14.0</td>\n",
       "      <td>{'typology': 'flat'}</td>\n",
       "      <td>{'subtitle': 'Areeiro, Lisboa', 'title': 'Apar...</td>\n",
       "      <td>True</td>\n",
       "      <td>False</td>\n",
       "      <td>False</td>\n",
       "      <td>False</td>\n",
       "      <td>False</td>\n",
       "      <td>False</td>\n",
       "      <td>NaN</td>\n",
       "      <td>False</td>\n",
       "      <td>2025-01-13</td>\n",
       "      <td>1950.0</td>\n",
       "      <td>0.0</td>\n",
       "      <td>False</td>\n",
       "      <td>True</td>\n",
       "      <td>True</td>\n",
       "      <td>0.0</td>\n",
       "      <td>1950.0</td>\n",
       "      <td>342.638864</td>\n",
       "      <td>Olaias Plaza</td>\n",
       "      <td>1031.109077</td>\n",
       "      <td>Roma Areeiro</td>\n",
       "      <td>1133.090394</td>\n",
       "      <td>Feira São João de Deus</td>\n",
       "      <td>448.850431</td>\n",
       "      <td>Jardim sobre a Fonte Monumental - Alameda Dom ...</td>\n",
       "      <td>696.420381</td>\n",
       "      <td>Mercado da Picheleira - Mercado Alfacinha</td>\n",
       "      <td>582.276537</td>\n",
       "      <td>Olaias</td>\n",
       "      <td>1410.666684</td>\n",
       "      <td>Miradouro da Penha de França</td>\n",
       "      <td>557.606783</td>\n",
       "      <td>Parque Infantil da Rua Aquiles Machado</td>\n",
       "    </tr>\n",
       "    <tr>\n",
       "      <th>31196503</th>\n",
       "      <td>https://img4.idealista.pt/blur/WEB_LISTING/0/i...</td>\n",
       "      <td>CF119</td>\n",
       "      <td>9</td>\n",
       "      <td>1</td>\n",
       "      <td>700.0</td>\n",
       "      <td>studio</td>\n",
       "      <td>rent</td>\n",
       "      <td>25.0</td>\n",
       "      <td>0</td>\n",
       "      <td>1</td>\n",
       "      <td>beco dos Paus</td>\n",
       "      <td>Lisboa</td>\n",
       "      <td>Santa Maria Maior</td>\n",
       "      <td>Alfama - Sé</td>\n",
       "      <td>pt</td>\n",
       "      <td>38.712857</td>\n",
       "      <td>-9.125107</td>\n",
       "      <td>False</td>\n",
       "      <td>https://www.idealista.pt/imovel/31196503/</td>\n",
       "      <td>3082.0</td>\n",
       "      <td>Excelente apartamento T0, disponível com todo ...</td>\n",
       "      <td>False</td>\n",
       "      <td>good</td>\n",
       "      <td>False</td>\n",
       "      <td>False</td>\n",
       "      <td>28.0</td>\n",
       "      <td>{'typology': 'flat', 'subTypology': 'studio'}</td>\n",
       "      <td>{'subtitle': 'Santa Maria Maior, Lisboa', 'tit...</td>\n",
       "      <td>False</td>\n",
       "      <td>False</td>\n",
       "      <td>False</td>\n",
       "      <td>False</td>\n",
       "      <td>False</td>\n",
       "      <td>False</td>\n",
       "      <td>NaN</td>\n",
       "      <td>False</td>\n",
       "      <td>2025-01-13</td>\n",
       "      <td>700.0</td>\n",
       "      <td>0.0</td>\n",
       "      <td>False</td>\n",
       "      <td>False</td>\n",
       "      <td>False</td>\n",
       "      <td>0.0</td>\n",
       "      <td>700.0</td>\n",
       "      <td>1254.908858</td>\n",
       "      <td>Centro Comercial Mouraria</td>\n",
       "      <td>477.276828</td>\n",
       "      <td>Santa Apolónia</td>\n",
       "      <td>370.139507</td>\n",
       "      <td>Feira da Ladra</td>\n",
       "      <td>451.116633</td>\n",
       "      <td>Jardim Botto Machado / Jardim de Santa Clara</td>\n",
       "      <td>2455.766250</td>\n",
       "      <td>Mercado da Ribeira</td>\n",
       "      <td>344.207875</td>\n",
       "      <td>Santa Apolónia</td>\n",
       "      <td>304.879765</td>\n",
       "      <td>Miradouro de Santa Clara</td>\n",
       "      <td>203.098162</td>\n",
       "      <td>Parque Infantil da Rua do Vigário</td>\n",
       "    </tr>\n",
       "    <tr>\n",
       "      <th>33896540</th>\n",
       "      <td>https://img4.idealista.pt/blur/WEB_LISTING/0/i...</td>\n",
       "      <td>NaN</td>\n",
       "      <td>24</td>\n",
       "      <td>1</td>\n",
       "      <td>3000.0</td>\n",
       "      <td>flat</td>\n",
       "      <td>rent</td>\n",
       "      <td>130.0</td>\n",
       "      <td>2</td>\n",
       "      <td>3</td>\n",
       "      <td>rua Sousa Pinto, 11</td>\n",
       "      <td>Lisboa</td>\n",
       "      <td>Santo António</td>\n",
       "      <td>Rato - Amoreiras</td>\n",
       "      <td>pt</td>\n",
       "      <td>38.723469</td>\n",
       "      <td>-9.158115</td>\n",
       "      <td>True</td>\n",
       "      <td>https://www.idealista.pt/imovel/33896540/</td>\n",
       "      <td>2009.0</td>\n",
       "      <td>AMOREIRAS Apartamento T2 de construção recente...</td>\n",
       "      <td>True</td>\n",
       "      <td>good</td>\n",
       "      <td>False</td>\n",
       "      <td>True</td>\n",
       "      <td>23.0</td>\n",
       "      <td>{'typology': 'flat'}</td>\n",
       "      <td>{'subtitle': 'Santo António, Lisboa', 'title':...</td>\n",
       "      <td>True</td>\n",
       "      <td>False</td>\n",
       "      <td>False</td>\n",
       "      <td>False</td>\n",
       "      <td>False</td>\n",
       "      <td>False</td>\n",
       "      <td>NaN</td>\n",
       "      <td>False</td>\n",
       "      <td>2025-01-13</td>\n",
       "      <td>3000.0</td>\n",
       "      <td>0.0</td>\n",
       "      <td>False</td>\n",
       "      <td>True</td>\n",
       "      <td>True</td>\n",
       "      <td>0.0</td>\n",
       "      <td>3000.0</td>\n",
       "      <td>316.578453</td>\n",
       "      <td>Amoreiras Plaza</td>\n",
       "      <td>1672.220918</td>\n",
       "      <td>Campolide</td>\n",
       "      <td>1364.683979</td>\n",
       "      <td>Feira Biológica do Príncipe Real</td>\n",
       "      <td>286.221116</td>\n",
       "      <td>Jardim das Amoreiras (Jardim Marcelino de Mesq...</td>\n",
       "      <td>1426.327747</td>\n",
       "      <td>Mercado Campo de Ourique</td>\n",
       "      <td>607.249371</td>\n",
       "      <td>Rato</td>\n",
       "      <td>1062.957225</td>\n",
       "      <td>Miradouro do Parque Eduardo VII</td>\n",
       "      <td>238.793997</td>\n",
       "      <td>Parque Infantil do Jardim Marcelino Mesquita</td>\n",
       "    </tr>\n",
       "  </tbody>\n",
       "</table>\n",
       "</div>"
      ],
      "text/plain": [
       "                                                      thumbnail  \\\n",
       "propertyCode                                                      \n",
       "33829652      https://img4.idealista.pt/blur/WEB_LISTING/0/i...   \n",
       "33596155      https://img4.idealista.pt/blur/WEB_LISTING/0/i...   \n",
       "33896876      https://img4.idealista.pt/blur/WEB_LISTING/0/i...   \n",
       "31196503      https://img4.idealista.pt/blur/WEB_LISTING/0/i...   \n",
       "33896540      https://img4.idealista.pt/blur/WEB_LISTING/0/i...   \n",
       "\n",
       "             externalReference  numPhotos floor   price propertyType  \\\n",
       "propertyCode                                                           \n",
       "33829652           KWPT-009130         33     1  2475.0         flat   \n",
       "33596155           KWPT-004534         33    bj  2150.0         flat   \n",
       "33896876          Match_01.216         21     8  1950.0         flat   \n",
       "31196503                 CF119          9     1   700.0       studio   \n",
       "33896540                   NaN         24     1  3000.0         flat   \n",
       "\n",
       "             operation   size  rooms  bathrooms                    address  \\\n",
       "propertyCode                                                                 \n",
       "33829652          rent  179.0      3          3  São Sebastião da Pedreira   \n",
       "33596155          rent  170.0      3          3             rua das Picoas   \n",
       "33896876          rent  135.0      2          2      rua Jorge Castilho, 8   \n",
       "31196503          rent   25.0      0          1              beco dos Paus   \n",
       "33896540          rent  130.0      2          3        rua Sousa Pinto, 11   \n",
       "\n",
       "             province       municipality                   district country  \\\n",
       "propertyCode                                                                  \n",
       "33829652       Lisboa     Avenidas Novas  São Sebastião da Pedreira      pt   \n",
       "33596155       Lisboa     Avenidas Novas  São Sebastião da Pedreira      pt   \n",
       "33896876       Lisboa            Areeiro              Casal Vistoso      pt   \n",
       "31196503       Lisboa  Santa Maria Maior                Alfama - Sé      pt   \n",
       "33896540       Lisboa      Santo António           Rato - Amoreiras      pt   \n",
       "\n",
       "               latitude  longitude  showAddress  \\\n",
       "propertyCode                                      \n",
       "33829652      38.733429  -9.145003        False   \n",
       "33596155      38.733908  -9.144531        False   \n",
       "33896876      38.740173  -9.128233         True   \n",
       "31196503      38.712857  -9.125107        False   \n",
       "33896540      38.723469  -9.158115         True   \n",
       "\n",
       "                                                    url  distance  \\\n",
       "propertyCode                                                        \n",
       "33829652      https://www.idealista.pt/imovel/33829652/     439.0   \n",
       "33596155      https://www.idealista.pt/imovel/33596155/     373.0   \n",
       "33896876      https://www.idealista.pt/imovel/33896876/    1303.0   \n",
       "31196503      https://www.idealista.pt/imovel/31196503/    3082.0   \n",
       "33896540      https://www.idealista.pt/imovel/33896540/    2009.0   \n",
       "\n",
       "                                                    description  hasVideo  \\\n",
       "propertyCode                                                                \n",
       "33829652      Um apartamento nas Avenidas Novas? Conte-me ma...     False   \n",
       "33596155      Um apartamento para arrendar? Conte-me mais! E...      True   \n",
       "33896876      Apartamento T2 Com Varanda e Estacionamento Lo...     False   \n",
       "31196503      Excelente apartamento T0, disponível com todo ...     False   \n",
       "33896540      AMOREIRAS Apartamento T2 de construção recente...      True   \n",
       "\n",
       "             status  newDevelopment  hasLift  priceByArea  \\\n",
       "propertyCode                                                \n",
       "33829652       good           False     True         14.0   \n",
       "33596155       good           False     True         13.0   \n",
       "33896876       good           False     True         14.0   \n",
       "31196503       good           False    False         28.0   \n",
       "33896540       good           False     True         23.0   \n",
       "\n",
       "                                               detailedType  \\\n",
       "propertyCode                                                  \n",
       "33829652                               {'typology': 'flat'}   \n",
       "33596155                               {'typology': 'flat'}   \n",
       "33896876                               {'typology': 'flat'}   \n",
       "31196503      {'typology': 'flat', 'subTypology': 'studio'}   \n",
       "33896540                               {'typology': 'flat'}   \n",
       "\n",
       "                                                 suggestedTexts  hasPlan  \\\n",
       "propertyCode                                                               \n",
       "33829652      {'subtitle': 'Avenidas Novas, Lisboa', 'title'...     True   \n",
       "33596155      {'subtitle': 'Avenidas Novas, Lisboa', 'title'...     True   \n",
       "33896876      {'subtitle': 'Areeiro, Lisboa', 'title': 'Apar...     True   \n",
       "31196503      {'subtitle': 'Santa Maria Maior, Lisboa', 'tit...    False   \n",
       "33896540      {'subtitle': 'Santo António, Lisboa', 'title':...     True   \n",
       "\n",
       "              has3DTour  has360  hasStaging  topNewDevelopment  topPlus  \\\n",
       "propertyCode                                                              \n",
       "33829652          False   False       False              False    False   \n",
       "33596155          False   False       False              False    False   \n",
       "33896876          False   False       False              False    False   \n",
       "31196503          False   False       False              False    False   \n",
       "33896540          False   False       False              False    False   \n",
       "\n",
       "             neighborhood  newDevelopmentFinished snapshotDate  formerPrice  \\\n",
       "propertyCode                                                                  \n",
       "33829652              NaN                   False   2025-01-13       2475.0   \n",
       "33596155              NaN                   False   2025-01-13       2150.0   \n",
       "33896876              NaN                   False   2025-01-13       1950.0   \n",
       "31196503              NaN                   False   2025-01-13        700.0   \n",
       "33896540              NaN                   False   2025-01-13       3000.0   \n",
       "\n",
       "              priceChange  isPriceLowered  hasParkingSpace  \\\n",
       "propertyCode                                                 \n",
       "33829652              0.0           False            False   \n",
       "33596155              0.0           False            False   \n",
       "33896876              0.0           False             True   \n",
       "31196503              0.0           False            False   \n",
       "33896540              0.0           False             True   \n",
       "\n",
       "              isParkingSpaceIncludedInPrice  parkingSpacePrice  totalPrice  \\\n",
       "propertyCode                                                                 \n",
       "33829652                              False                0.0      2475.0   \n",
       "33596155                              False                0.0      2150.0   \n",
       "33896876                               True                0.0      1950.0   \n",
       "31196503                              False                0.0       700.0   \n",
       "33896540                               True                0.0      3000.0   \n",
       "\n",
       "              distanceToNearestMall                   nearestMallName  \\\n",
       "propertyCode                                                            \n",
       "33829652                  83.378815             Dolce Vita Monumental   \n",
       "33596155                 150.274403  Centro Comercial Atrium Saldanha   \n",
       "33896876                 342.638864                      Olaias Plaza   \n",
       "31196503                1254.908858         Centro Comercial Mouraria   \n",
       "33896540                 316.578453                   Amoreiras Plaza   \n",
       "\n",
       "              distanceToNearestTrain nearestTrainName  distanceToNearestFair  \\\n",
       "propertyCode                                                                   \n",
       "33829652                 1626.342524      Entrecampos            1337.410328   \n",
       "33596155                 1576.198925      Entrecampos            1251.392666   \n",
       "33896876                 1031.109077     Roma Areeiro            1133.090394   \n",
       "31196503                  477.276828   Santa Apolónia             370.139507   \n",
       "33896540                 1672.220918        Campolide            1364.683979   \n",
       "\n",
       "                               nearestFairName  distanceToNearestPark  \\\n",
       "propertyCode                                                            \n",
       "33829652                Feira São João de Deus             466.306263   \n",
       "33596155                Feira São João de Deus             380.225877   \n",
       "33896876                Feira São João de Deus             448.850431   \n",
       "31196503                        Feira da Ladra             451.116633   \n",
       "33896540      Feira Biológica do Príncipe Real             286.221116   \n",
       "\n",
       "                                                nearestParkName  \\\n",
       "propertyCode                                                      \n",
       "33829652                                 Jardim do Arco do Cego   \n",
       "33596155                                 Jardim do Arco do Cego   \n",
       "33896876      Jardim sobre a Fonte Monumental - Alameda Dom ...   \n",
       "31196503           Jardim Botto Machado / Jardim de Santa Clara   \n",
       "33896540      Jardim das Amoreiras (Jardim Marcelino de Mesq...   \n",
       "\n",
       "              distanceToNearestMarket  \\\n",
       "propertyCode                            \n",
       "33829652                  1012.055636   \n",
       "33596155                   929.438169   \n",
       "33896876                   696.420381   \n",
       "31196503                  2455.766250   \n",
       "33896540                  1426.327747   \n",
       "\n",
       "                                      nearestMarketName  \\\n",
       "propertyCode                                              \n",
       "33829652                           Mercado Arco do Cego   \n",
       "33596155                           Mercado Arco do Cego   \n",
       "33896876      Mercado da Picheleira - Mercado Alfacinha   \n",
       "31196503                             Mercado da Ribeira   \n",
       "33896540                       Mercado Campo de Ourique   \n",
       "\n",
       "              distanceToNearestMetro nearestMetroName  \\\n",
       "propertyCode                                            \n",
       "33829652                  250.261820         Saldanha   \n",
       "33596155                  198.676223         Saldanha   \n",
       "33896876                  582.276537           Olaias   \n",
       "31196503                  344.207875   Santa Apolónia   \n",
       "33896540                  607.249371             Rato   \n",
       "\n",
       "              distanceToNearestViewpoint             nearestViewpointName  \\\n",
       "propertyCode                                                                \n",
       "33829652                     1142.440298  Miradouro do Parque Eduardo VII   \n",
       "33596155                     1217.962245  Miradouro do Parque Eduardo VII   \n",
       "33896876                     1410.666684     Miradouro da Penha de França   \n",
       "31196503                      304.879765         Miradouro de Santa Clara   \n",
       "33896540                     1062.957225  Miradouro do Parque Eduardo VII   \n",
       "\n",
       "              distanceToNearestPlayground  \\\n",
       "propertyCode                                \n",
       "33829652                       641.621174   \n",
       "33596155                       562.731979   \n",
       "33896876                       557.606783   \n",
       "31196503                       203.098162   \n",
       "33896540                       238.793997   \n",
       "\n",
       "                                     nearestPlaygroundName  \n",
       "propertyCode                                                \n",
       "33829652            Parque Infantil do Jardim Gomes Amorim  \n",
       "33596155            Parque Infantil do Jardim Gomes Amorim  \n",
       "33896876            Parque Infantil da Rua Aquiles Machado  \n",
       "31196503                 Parque Infantil da Rua do Vigário  \n",
       "33896540      Parque Infantil do Jardim Marcelino Mesquita  "
      ]
     },
     "execution_count": 3,
     "metadata": {},
     "output_type": "execute_result"
    }
   ],
   "source": [
    "# rowsandcolumnsofthedata\n",
    "print(data.shape)\n",
    "\n",
    "# visualisethedataset\n",
    "data.head()"
   ]
  },
  {
   "cell_type": "code",
   "execution_count": null,
   "metadata": {},
   "outputs": [],
   "source": [
    "FEATURES = [\n",
    "    \"floor\",\n",
    "    \"propertyType\",\n",
    "    \"size\",\n",
    "    \"rooms\",\n",
    "    \"bathrooms\",\n",
    "    \"municipality\",\n",
    "    \"district\",\n",
    "    \"latitude\",\n",
    "    \"longitude\",\n",
    "    \"showAddress\",\n",
    "    \"hasVideo\",\n",
    "    \"status\",\n",
    "    \"newDevelopment\",\n",
    "    \"hasLift\",\n",
    "    \"hasPlan\",\n",
    "    \"has3DTour\",\n",
    "    \"has360\",\n",
    "    \"hasStaging\",\n",
    "    \"topNewDevelopment\",\n",
    "    \"topPlus\",\n",
    "    \"newDevelopmentFinished\",\n",
    "    \"isPriceLowered\",\n",
    "    \"hasParkingSpace\",\n",
    "    \"isParkingSpaceIncludedInPrice\",\n",
    "    \"distanceToNearestMall\",\n",
    "    \"nearestMallName\",\n",
    "    \"distanceToNearestTrain\",\n",
    "    \"nearestTrainName\",\n",
    "    \"distanceToNearestFair\",\n",
    "    \"nearestFairName\",\n",
    "    \"distanceToNearestPark\",\n",
    "    \"nearestParkName\",\n",
    "    \"distanceToNearestMarket\",\n",
    "    \"nearestMarketName\",\n",
    "    \"distanceToNearestMetro\",\n",
    "    \"nearestMetroName\",\n",
    "    \"distanceToNearestViewpoint\",\n",
    "    \"nearestViewpointName\",\n",
    "    \"distanceToNearestPlayground\",\n",
    "    \"nearestPlaygroundName\",\n",
    "]\n",
    "\n",
    "TARGET = [\"totalPrice\"]\n",
    "\n",
    "CATEGORICAL_FEATURES = [\n",
    "    \"floor\",\n",
    "    \"propertyType\",\n",
    "    \"municipality\",\n",
    "    \"district\",\n",
    "    \"status\",\n",
    "    \"nearestMallName\",\n",
    "    \"nearestTrainName\",\n",
    "    \"nearestFairName\",\n",
    "    \"nearestParkName\",\n",
    "    \"nearestMarketName\",\n",
    "    \"nearestMetroName\",\n",
    "    \"nearestViewpointName\",\n",
    "    \"nearestPlaygroundName\",\n",
    "]\n",
    "\n",
    "NUMERICAL_FEATURES = [\n",
    "    \"size\",\n",
    "    \"rooms\",\n",
    "    \"bathrooms\",\n",
    "    \"latitude\",\n",
    "    \"longitude\",\n",
    "    \"distanceToNearestMall\",\n",
    "    \"distanceToNearestTrain\",\n",
    "    \"distanceToNearestFair\",\n",
    "    \"distanceToNearestPark\",\n",
    "    \"distanceToNearestMarket\",\n",
    "    \"distanceToNearestMetro\",\n",
    "    \"distanceToNearestViewpoint\",\n",
    "    \"distanceToNearestPlayground\",\n",
    "]\n",
    "\n",
    "FEATURES_TO_DROP = [\n",
    "    \"thumbnail\",\n",
    "    \"externalReference\",\n",
    "    \"numPhotos\",\n",
    "    \"price\",\n",
    "    \"operation\",\n",
    "    \"address\",\n",
    "    \"province\",\n",
    "    \"country\",\n",
    "    \"url\",\n",
    "    \"distance\",\n",
    "    \"description\",\n",
    "    \"priceByArea\",\n",
    "    \"detailedType\",\n",
    "    \"suggestedTexts\",\n",
    "    \"neighborhood\",\n",
    "    \"snapshotDate\",\n",
    "    \"formerPrice\",\n",
    "    \"priceChange\",\n",
    "    \"parkingSpacePrice\",\n",
    "]\n",
    "\n",
    "CATEGORICAL_FEATURES_TO_IMPUTE_WITH_MISSING = [\"floor\", \"district\", \"status\"]\n",
    "\n",
    "CATEGORICAL_FEATURES_TO_IMPUTE_WITH_MODE = [\"floor\", \"district\", \"status\"]\n",
    "\n",
    "NUMERICAL_FEATURES_TO_CLEAN = [\"size\", \"rooms\", \"bathrooms\"]\n",
    "\n",
    "NUMERICAL_FEATURES_TO_TRANSFORM_WITH_YEO_JOHNSON = [\"size\"]\n",
    "\n",
    "NUMERICAL_FEATURES_CLEANING_OPERATIONS = {\n",
    "    \"size\": {\n",
    "        \"sequence\": [\n",
    "            {\n",
    "                \"method\": \"frequent_value_removal\",\n",
    "                \"threshold\": 0.05,\n",
    "            },\n",
    "            {\n",
    "                \"method\": \"missing_indicator\",\n",
    "            },\n",
    "            {\n",
    "                \"method\": \"knn_imputation\",\n",
    "            },\n",
    "            {\n",
    "                \"method\": \"z_score\",\n",
    "                \"threshold\": 3,\n",
    "            },\n",
    "        ]\n",
    "    },\n",
    "    \"rooms\": {\n",
    "        \"method\": \"iqr\",\n",
    "        \"threshold\": 1.5,\n",
    "    },\n",
    "    \"bathrooms\": {\n",
    "        \"method\": \"rare_value_removal\",\n",
    "        \"threshold\": 0.01,\n",
    "    },\n",
    "}"
   ]
  },
  {
   "cell_type": "code",
   "execution_count": 5,
   "metadata": {},
   "outputs": [],
   "source": [
    "drop_features = DropFeatures(FEATURES_TO_DROP)\n",
    "data = drop_features.fit_transform(data)"
   ]
  },
  {
   "cell_type": "code",
   "execution_count": 6,
   "metadata": {},
   "outputs": [],
   "source": [
    "from sklearn.model_selection import train_test_split\n",
    "\n",
    "# Let's separate into train and test set\n",
    "X_train, X_test, y_train, y_test = train_test_split(\n",
    "    data[FEATURES],\n",
    "    data[TARGET],\n",
    "    test_size=0.2,\n",
    "    random_state=42,\n",
    "    stratify=data[\"municipality\"],\n",
    ")"
   ]
  },
  {
   "cell_type": "code",
   "execution_count": null,
   "metadata": {},
   "outputs": [
    {
     "data": {
      "text/plain": [
       "((2370, 40), (593, 40))"
      ]
     },
     "execution_count": 7,
     "metadata": {},
     "output_type": "execute_result"
    }
   ],
   "source": [
    "X_train.shape, X_test.shape"
   ]
  },
  {
   "cell_type": "code",
   "execution_count": null,
   "metadata": {},
   "outputs": [],
   "source": [
    "yeo_johnson_transformer_target = YeoJohnsonTransformer()\n",
    "yeo_johnson_transformer_target.fit(y_train)\n",
    "\n",
    "y_train = yeo_johnson_transformer_target.transform(y_train)\n",
    "y_test = yeo_johnson_transformer_target.transform(y_test)"
   ]
  },
  {
   "cell_type": "code",
   "execution_count": null,
   "metadata": {},
   "outputs": [],
   "source": [
    "# clean outliers in the target"
   ]
  },
  {
   "cell_type": "markdown",
   "metadata": {},
   "source": [
    "##Numberoflabels:cardinality\n",
    "\n",
    "Let'sevaluatehowmanydifferentcategoriesarepresentineachofthevariables.\n"
   ]
  },
  {
   "cell_type": "code",
   "execution_count": null,
   "metadata": {},
   "outputs": [],
   "source": [
    "# wecountuniquecategorieswithpandasunique()\n",
    "# andthenplotthemindescendingorder\n",
    "\n",
    "data_train[cat_vars].nunique().sort_values(ascending=False).plot.bar(figsize=(12, 5))"
   ]
  },
  {
   "cell_type": "markdown",
   "metadata": {},
   "source": [
    "Insomevariables,theaveragerentpriceinhouseswheretheinformationismissing,differsfromtheaveragerentpriceinlistingswherethisinformationexists.Thissuggeststhatdatabeingmissingcouldbeagoodpredictorofrentprice.\n"
   ]
  },
  {
   "cell_type": "code",
   "execution_count": null,
   "metadata": {},
   "outputs": [],
   "source": [
    "fromfeature_engine.imputationimportCategoricalImputer\n",
    "\n",
    "ci = CategoricalImputer(imputation_method=\"frequent\", variables=with_mode)\n",
    "data_train = ci.fit_transform(data_train)"
   ]
  },
  {
   "cell_type": "code",
   "execution_count": null,
   "metadata": {},
   "outputs": [],
   "source": [
    "fromfeature_engine.imputationimportCategoricalImputer\n",
    "\n",
    "ci = CategoricalImputer(\n",
    "    imputation_method=\"missing\", fill_value=\"Missing\", variables=with_missing\n",
    ")\n",
    "data_train = ci.fit_transform(data_train)"
   ]
  },
  {
   "cell_type": "markdown",
   "metadata": {},
   "source": [
    "##Rarelabels:\n",
    "\n",
    "Let'sgoaheadandinvestigatenowiftherearelabelsthatarepresentonlyinasmallnumberofhouses:\n"
   ]
  },
  {
   "cell_type": "code",
   "execution_count": null,
   "metadata": {},
   "outputs": [],
   "source": [
    "defanalyse_rare_labels(df,var,rare_perc):\n",
    "df=df.copy()\n",
    "\n",
    "#determinethe%ofobservationspercategory\n",
    "tmp=df.groupby(var)[target[0]].count()/len(df)\n",
    "\n",
    "#returncategoriesthatarerare\n",
    "returntmp[tmp<rare_perc]\n",
    "\n",
    "#printcategoriesthatarepresentinlessthan\n",
    "#1%oftheobservations\n",
    "\n",
    "forvarincat_vars:\n",
    "print(analyse_rare_labels(data_train,var,0.01))\n",
    "print()"
   ]
  },
  {
   "cell_type": "code",
   "execution_count": null,
   "metadata": {},
   "outputs": [],
   "source": [
    "fromfeature_engine.encodingimportRareLabelEncoder\n",
    "\n",
    "# let'sgroupthecategoriesthatappearinlessthan1%ofthedata\n",
    "rle = RareLabelEncoder(n_categories=1, tol=0.01, variables=cat_vars)\n",
    "data_train = rle.fit_transform(data_train)"
   ]
  },
  {
   "cell_type": "code",
   "execution_count": null,
   "metadata": {},
   "outputs": [],
   "source": [
    "# wecountuniquecategorieswithpandasunique()\n",
    "# andthenplotthemindescendingorder\n",
    "\n",
    "data_train[cat_vars].nunique().sort_values(ascending=False).plot.bar(figsize=(12, 5))"
   ]
  },
  {
   "cell_type": "code",
   "execution_count": null,
   "metadata": {},
   "outputs": [],
   "source": [
    "cardinality = data_train[cat_vars].nunique().sort_values(ascending=False)"
   ]
  },
  {
   "cell_type": "code",
   "execution_count": null,
   "metadata": {},
   "outputs": [],
   "source": [
    "one_hot_vars = cardinality[cardinality <= 5].index.tolist()\n",
    "ordinal_vars = cardinality[cardinality > 5].index.tolist()"
   ]
  },
  {
   "cell_type": "markdown",
   "metadata": {},
   "source": [
    "Someofthecategoricalvariablesshowmultiplelabelsthatarepresentinlessthan1%ofthehouses.\n",
    "\n",
    "Labelsthatareunder-representedinthedatasettendtocauseover-fittingofmachinelearningmodels.\n",
    "\n",
    "Thatiswhywewanttoremovethem.\n",
    "\n",
    "Finally,wewanttoexploretherelationshipbetweenthecategoriesofthedifferentvariablesandthehousesaleprice:\n"
   ]
  },
  {
   "cell_type": "code",
   "execution_count": null,
   "metadata": {},
   "outputs": [],
   "source": [
    "forvarincat_vars:\n",
    "order_idx=data_train.groupby(var)[target[0]].median().sort_values().index\n",
    "#makeboxplotwithCatplot\n",
    "sns.catplot(\n",
    "x=var,y=target[0],data=data_train,kind=\"box\",height=4,aspect=1.5,order=order_idx\n",
    ")\n",
    "#adddatapointstoboxplotwithstripplot\n",
    "strip_plot=sns.stripplot(\n",
    "x=var,y=target[0],data=data_train,jitter=0.1,alpha=0.3,color=\"k\",order=order_idx\n",
    ")\n",
    "#Setproperticklocationsbeforechanginglabels\n",
    "strip_plot.set_xticks(range(len(data_train[var].unique())))\n",
    "strip_plot.set_xticklabels(strip_plot.get_xticklabels(),rotation=90)\n",
    "\n",
    "plt.show()"
   ]
  },
  {
   "cell_type": "code",
   "execution_count": null,
   "metadata": {},
   "outputs": [],
   "source": [
    "data_train.shape"
   ]
  },
  {
   "cell_type": "code",
   "execution_count": null,
   "metadata": {},
   "outputs": [],
   "source": [
    "len(features)"
   ]
  },
  {
   "cell_type": "markdown",
   "metadata": {},
   "source": [
    "Clearly,thecategoriesgiveinformationontheSalePrice,asdifferentcategoriesshowdifferentmediansaleprices.\n"
   ]
  },
  {
   "cell_type": "code",
   "execution_count": null,
   "metadata": {},
   "outputs": [],
   "source": [
    "fromfeature_engine.encodingimportOrdinalEncoder\n",
    "\n",
    "# setuptheencoder\n",
    "oe = OrdinalEncoder(encoding_method=\"ordered\", variables=ordinal_vars)\n",
    "\n",
    "# createthemappings\n",
    "oe.fit(data_train[features], data_train[target].squeeze())\n",
    "data_train[features] = oe.transform(data_train[features])\n",
    "\n",
    "# mappingsarestoredandclasscanbesaved\n",
    "oe.encoder_dict_"
   ]
  },
  {
   "cell_type": "code",
   "execution_count": null,
   "metadata": {},
   "outputs": [],
   "source": [
    "data_train.shape"
   ]
  },
  {
   "cell_type": "code",
   "execution_count": null,
   "metadata": {},
   "outputs": [],
   "source": [
    "fromfeature_engine.encodingimportOneHotEncoder\n",
    "\n",
    "# setuptheencoder\n",
    "ohe = OneHotEncoder(drop_last=True, variables=one_hot_vars)\n",
    "\n",
    "ohe.fit(data_train[features])\n",
    "new_features = ohe.get_feature_names_out()\n",
    "data_train[new_features] = ohe.transform(data_train[features])\n",
    "data_train = data_train.drop(columns=one_hot_vars)\n",
    "features = new_features"
   ]
  },
  {
   "cell_type": "code",
   "execution_count": null,
   "metadata": {},
   "outputs": [],
   "source": [
    "data_train"
   ]
  },
  {
   "cell_type": "markdown",
   "metadata": {},
   "source": [
    "#Numericalvariables\n",
    "\n",
    "Let'sgoaheadandfindoutwhatnumericalvariableswehaveinthedataset\n"
   ]
  },
  {
   "cell_type": "code",
   "execution_count": null,
   "metadata": {
    "scrolled": true
   },
   "outputs": [],
   "source": [
    "print(\"Numberofnumericalvariables:\", len(num_vars))\n",
    "\n",
    "# visualisethenumericalvariables\n",
    "data_train[num_vars].head()"
   ]
  },
  {
   "cell_type": "markdown",
   "metadata": {},
   "source": [
    "##Discretevariables\n",
    "\n",
    "Let'sgoaheadandfindwhichvariablesarediscrete,i.e.,showafinitenumberofvalues\n"
   ]
  },
  {
   "cell_type": "code",
   "execution_count": null,
   "metadata": {},
   "outputs": [],
   "source": [
    "# let'smalealistofdiscretevariables\n",
    "discrete_vars = [varforvarinnum_varsiflen(data_train[var].unique()) < 20]\n",
    "\n",
    "\n",
    "print(\"Numberofdiscretevariables:\", len(discrete_vars))"
   ]
  },
  {
   "cell_type": "code",
   "execution_count": null,
   "metadata": {
    "scrolled": true
   },
   "outputs": [],
   "source": [
    "# let'svisualisethediscretevariables\n",
    "\n",
    "data_train[discrete_vars].head()"
   ]
  },
  {
   "cell_type": "markdown",
   "metadata": {},
   "source": [
    "Thesediscretevariablesrefertothenumberofroomsandbathrooms.\n",
    "\n",
    "Weexpecthigherprices,withbiggernumbers.\n",
    "\n",
    "Let'sgoaheadandanalysetheircontributiontothelistingprice.\n"
   ]
  },
  {
   "cell_type": "code",
   "execution_count": null,
   "metadata": {
    "scrolled": false
   },
   "outputs": [],
   "source": [
    "forvarindiscrete_vars:\n",
    "#makeboxplotwithCatplot\n",
    "sns.catplot(x=var,y=target[0],data=data_train,kind=\"box\",height=4,aspect=1.5)\n",
    "#adddatapointstoboxplotwithstripplot\n",
    "sns.stripplot(x=var,y=target[0],data=data_train,jitter=0.1,alpha=0.3,color='k')\n",
    "plt.show()"
   ]
  },
  {
   "cell_type": "markdown",
   "metadata": {},
   "source": [
    "Clearly,thepricedoesincreasewithincreasingnumberofroomsandbathrooms.Thereseemtobefewoutliersinbothvariables,sowe'llhavetodealwiththoseinabit.\n"
   ]
  },
  {
   "cell_type": "markdown",
   "metadata": {},
   "source": [
    "##Continuousvariables\n",
    "\n",
    "Let'sgoaheadandfindthedistributionofthecontinuousvariables.Wewillconsidercontinuousvariablestoallthosethatarenottemporalordiscrete.\n"
   ]
  },
  {
   "cell_type": "code",
   "execution_count": null,
   "metadata": {},
   "outputs": [],
   "source": [
    "# makelistofcontinuousvariables\n",
    "cont_vars = [varforvarinnum_varsifvarnotindiscrete_vars]\n",
    "\n",
    "print(\"Numberofcontinuousvariables:\", len(cont_vars))"
   ]
  },
  {
   "cell_type": "code",
   "execution_count": null,
   "metadata": {},
   "outputs": [],
   "source": [
    "# let'svisualisethecontinuousvariables\n",
    "\n",
    "data_train[cont_vars].head()"
   ]
  },
  {
   "cell_type": "code",
   "execution_count": null,
   "metadata": {},
   "outputs": [],
   "source": [
    "data_train[cont_vars].describe()"
   ]
  },
  {
   "cell_type": "code",
   "execution_count": null,
   "metadata": {},
   "outputs": [],
   "source": [
    "# letsplothistogramsforallcontinuousvariables\n",
    "\n",
    "data_train[cont_vars].hist(bins=30, figsize=(15, 15))\n",
    "plt.show()"
   ]
  },
  {
   "cell_type": "markdown",
   "metadata": {},
   "source": [
    "Thevariablesarenotnormallydistributed,andmostofthemareleftskewed.\n",
    "\n",
    "Sometimes,transformingthevariablestoimprovethevaluespread,improvesthemodelperformance.Butitisunlikelythatatransformationwillhelpchangethedistributionofthesuperskewedvariablesdramatically.\n",
    "\n",
    "WecanapplyaYeo-Johnsontransformation,let'sgoaheadanddothat.\n"
   ]
  },
  {
   "cell_type": "code",
   "execution_count": null,
   "metadata": {},
   "outputs": [],
   "source": [
    "#Identifycolumnswithnon-finitevalues\n",
    "forvarincont_vars:\n",
    "ifnotnp.all(np.isfinite(data_train[var])):\n",
    "print(f\"Non-finitevaluesfoundincolumn:{var}\")"
   ]
  },
  {
   "cell_type": "markdown",
   "metadata": {},
   "source": [
    "###Yeo-Johnsontransformation\n"
   ]
  },
  {
   "cell_type": "code",
   "execution_count": null,
   "metadata": {
    "scrolled": false
   },
   "outputs": [],
   "source": [
    "#Let'sgoaheadandanalysethedistributionsofthevariables\n",
    "#afterapplyingayeo-johnsontransformation\n",
    "\n",
    "#temporarycopyofthedata\n",
    "tmp=data_train.copy()\n",
    "\n",
    "forvarincont_vars+[\"totalPrice\"]:\n",
    "#ApplyPowerTransformer\n",
    "pt=PowerTransformer()\n",
    "tmp[var]=pt.fit_transform(data_train[var].values.reshape(-1,1))\n",
    "\n",
    "\n",
    "#plotthehistogramsofthetransformedvariables\n",
    "tmp[cont_vars].hist(bins=30,figsize=(15,15))\n",
    "plt.show()"
   ]
  },
  {
   "cell_type": "markdown",
   "metadata": {},
   "source": [
    "Forlatitudeandlongitude,thetransformationdidn'tdoanythinguseful,asthevaluesaretoosmall.\n",
    "\n",
    "Fortheothers,thevaluesseemtobespreadmoreevenlyintherangeandmorenormallydistributed.Whetherthishelpsimprovethepredictivepower,remainstobeseen.Todetermineifthisisthecase,weshouldtrainamodelwiththeoriginalvaluesandonewiththetransformedvalues,anddeterminemodelperformance,andfeatureimportance.\n"
   ]
  },
  {
   "cell_type": "code",
   "execution_count": null,
   "metadata": {},
   "outputs": [],
   "source": [
    "yeo_johnson_vars=[varforvarincont_varsifvar=='size'or'distance'invar]"
   ]
  },
  {
   "cell_type": "code",
   "execution_count": null,
   "metadata": {},
   "outputs": [],
   "source": [
    "yeo_johnson_vars"
   ]
  },
  {
   "cell_type": "markdown",
   "metadata": {},
   "source": [
    "#Outliers\n",
    "\n",
    "We'reinterestedinremovingtheoutliersforafewkeyfeatures:size,rooms,andbathrooms.Additionally,werecognizedthattherearefewre-ocurringvaluesinthesizefeaturethatarelikelydataentryerrorsand/ordatainconsistencies.\n",
    "\n",
    "Wehavedifferentstrategiesforeachofthem,sowe'lltacklethoseinabit.First,we'lltacketheoverlyfrequentvaluesinthesizefeature.\n"
   ]
  },
  {
   "cell_type": "code",
   "execution_count": null,
   "metadata": {},
   "outputs": [],
   "source": [
    "#Identifyoverlyfrequentvaluesdynamically\n",
    "defflag_frequent_values(df,column,threshold=0.05):\n",
    "\"\"\"\n",
    "Identifiesvaluesinacolumnthatappearwithafrequencyhigherthan`threshold`(default:5%ofthedata).\n",
    "Returnsalistofthosevalues.\n",
    "\"\"\"\n",
    "value_counts=df[column].value_counts(normalize=True)\n",
    "frequent_values=value_counts[value_counts>threshold].index.tolist()\n",
    "returnfrequent_values"
   ]
  },
  {
   "cell_type": "code",
   "execution_count": null,
   "metadata": {},
   "outputs": [],
   "source": [
    "fromsklearn.imputeimportKNNImputer, MissingIndicator\n",
    "\n",
    "# Findoverlycommonvaluesinthe'size'column\n",
    "frequent_sizes = flag_frequent_values(data_train, \"size\", threshold=0.05)\n",
    "\n",
    "# ReplaceoverlycommonvalueswithNaN\n",
    "data_train.loc[data_train[\"size\"].isin(frequent_sizes), \"size\"] = np.nan\n",
    "\n",
    "# ApplyMissingIndicator\n",
    "missing_indicator = MissingIndicator()\n",
    "missing_indicator.fit(data_train[features])\n",
    "new_features = missing_indicator.get_feature_names_out().tolist()\n",
    "data_train[new_features] = missing_indicator.transform(data_train[features])\n",
    "features.extend(new_features)"
   ]
  },
  {
   "cell_type": "code",
   "execution_count": null,
   "metadata": {},
   "outputs": [],
   "source": [
    "data_train"
   ]
  },
  {
   "cell_type": "code",
   "execution_count": null,
   "metadata": {},
   "outputs": [],
   "source": [
    "len(features)"
   ]
  },
  {
   "cell_type": "code",
   "execution_count": null,
   "metadata": {},
   "outputs": [],
   "source": [
    "# ApplyKNNImputer\n",
    "size_imputer = KNNImputer(n_neighbors=5, weights=\"distance\")\n",
    "size_imputer.fit(data_train[num_vars])\n",
    "new_features = size_imputer.get_feature_names_out().tolist()\n",
    "data_train[new_features] = size_imputer.transform(data_train[num_vars])"
   ]
  },
  {
   "cell_type": "code",
   "execution_count": null,
   "metadata": {},
   "outputs": [],
   "source": [
    "# TransformwiththeYeo-Johnsontransformation\n",
    "pt_features = PowerTransformer()\n",
    "data_train[yeo_johnson_vars] = pt_features.fit_transform(data_train[yeo_johnson_vars])\n",
    "\n",
    "pt_target = PowerTransformer()\n",
    "data_train[target] = pt_target.fit_transform(data_train[target])\n",
    "\n",
    "# Filteroutextremevalues\n",
    "data_train = data_train[abs(data_train[\"size\"]) <= 3]\n",
    "data_train = data_train[abs(data_train[target[0]]) <= 3]\n",
    "\n",
    "# Plot\n",
    "data_train[\"size\"].hist(bins=30, density=True)\n",
    "plt.ylabel(\"Numberoflistings\")\n",
    "plt.xlabel(\"StandardizedYeo-Johnsonofsize\")\n",
    "plt.show()"
   ]
  },
  {
   "cell_type": "code",
   "execution_count": null,
   "metadata": {},
   "outputs": [],
   "source": [
    "# Plot\n",
    "plt.scatter(x=\"size\", y=\"totalPrice\", data=data_train, alpha=0.1)\n",
    "plt.ylabel(\"Yeo-Johnsonofprice\")\n",
    "plt.xlabel(\"StandardizedYeo-Johnsonofsize\")\n",
    "plt.show()"
   ]
  },
  {
   "cell_type": "code",
   "execution_count": null,
   "metadata": {},
   "outputs": [],
   "source": [
    "data_train"
   ]
  },
  {
   "cell_type": "code",
   "execution_count": null,
   "metadata": {},
   "outputs": [],
   "source": [
    "fig = plt.figure(figsize=(6, 6))\n",
    "ax = fig.add_subplot(111)\n",
    "stats.probplot(data_train[\"size\"], dist=\"norm\", plot=ax)\n",
    "ax.set_title(\"QQPlotofStandardizedYeo-JohnsonSize\")\n",
    "plt.show()"
   ]
  },
  {
   "cell_type": "code",
   "execution_count": null,
   "metadata": {},
   "outputs": [],
   "source": [
    "data_train[\"size\"].describe()"
   ]
  },
  {
   "cell_type": "code",
   "execution_count": null,
   "metadata": {},
   "outputs": [],
   "source": [
    "sns.displot(data_train, x=\"rooms\", kind=\"hist\", bins=30)\n",
    "plt.show()"
   ]
  },
  {
   "cell_type": "code",
   "execution_count": null,
   "metadata": {},
   "outputs": [],
   "source": [
    "data_train[\"rooms\"].describe()"
   ]
  },
  {
   "cell_type": "code",
   "execution_count": null,
   "metadata": {},
   "outputs": [],
   "source": [
    "defremove_outliers_iqr(df,column,threshold=1.5):\n",
    "\"\"\"\n",
    "RemovesoutliersfromaDataFramecolumnusingtheIQRmethod.\n",
    "\n",
    "Parameters:\n",
    "df(pd.DataFrame):TheinputDataFrame.\n",
    "column(str):Thenameofthecolumntocheckforoutliers.\n",
    "threshold(float,optional):TheIQRmultiplier(defaultis1.5).\n",
    "\n",
    "Returns:\n",
    "pd.DataFrame:AnewDataFramewithoutliersremoved.\n",
    "\"\"\"\n",
    "Q1=df[column].quantile(0.25)#Firstquartile(25thpercentile)\n",
    "Q3=df[column].quantile(0.75)#Thirdquartile(75thpercentile)\n",
    "IQR=Q3-Q1#Interquartilerange\n",
    "\n",
    "lower_bound=Q1-threshold*IQR\n",
    "upper_bound=Q3+threshold*IQR\n",
    "\n",
    "df_filtered=df.copy()\n",
    "\n",
    "df_filtered=df_filtered[(df_filtered[column]>=lower_bound)&(df_filtered[column]<=upper_bound)]\n",
    "\n",
    "returndf_filtered"
   ]
  },
  {
   "cell_type": "code",
   "execution_count": null,
   "metadata": {},
   "outputs": [],
   "source": [
    "data_train = remove_outliers_iqr(data_train, \"rooms\")"
   ]
  },
  {
   "cell_type": "code",
   "execution_count": null,
   "metadata": {},
   "outputs": [],
   "source": [
    "sns.displot(data_train, x=\"rooms\", kind=\"hist\", bins=30)\n",
    "plt.show()"
   ]
  },
  {
   "cell_type": "code",
   "execution_count": null,
   "metadata": {},
   "outputs": [],
   "source": [
    "data_train[\"rooms\"].describe()"
   ]
  },
  {
   "cell_type": "code",
   "execution_count": null,
   "metadata": {},
   "outputs": [],
   "source": [
    "sns.displot(data_train, x=\"bathrooms\", kind=\"hist\", bins=30)\n",
    "plt.show()"
   ]
  },
  {
   "cell_type": "code",
   "execution_count": null,
   "metadata": {},
   "outputs": [],
   "source": [
    "data_train[\"bathrooms\"].describe()"
   ]
  },
  {
   "cell_type": "code",
   "execution_count": null,
   "metadata": {},
   "outputs": [],
   "source": [
    "# Countoccurrencesofeachvalue\n",
    "value_counts = data_train[\"bathrooms\"].value_counts(normalize=True)\n",
    "\n",
    "# Defineathreshold(e.g.,valuesappearinginlessthan1%oflistingsareoutliers)\n",
    "threshold = 0.01\n",
    "outlier_values = value_counts[value_counts < threshold].index\n",
    "\n",
    "# Removeorflagoutliers\n",
    "data_train = data_train[~data_train[\"bathrooms\"].isin(outlier_values)]"
   ]
  },
  {
   "cell_type": "code",
   "execution_count": null,
   "metadata": {},
   "outputs": [],
   "source": [
    "sns.displot(tmp, x=\"bathrooms\", kind=\"hist\", bins=30)\n",
    "plt.show()"
   ]
  },
  {
   "cell_type": "code",
   "execution_count": null,
   "metadata": {},
   "outputs": [],
   "source": [
    "data_train[\"bathrooms\"].describe()"
   ]
  },
  {
   "cell_type": "markdown",
   "metadata": {},
   "source": [
    "#DataPreparation\n"
   ]
  },
  {
   "cell_type": "code",
   "execution_count": null,
   "metadata": {},
   "outputs": [],
   "source": [
    "boolean_vars=data_train.select_dtypes(include='bool').columns.tolist()\n",
    "binary_vars=[varforvarindata_train.columnsifdata_train[var].nunique()==2orvarinboolean_vars]\n",
    "non_binary_vars=[varforvarindata_train.columnsifvarnotinbinary_varsandvarnotintarget]"
   ]
  },
  {
   "cell_type": "code",
   "execution_count": null,
   "metadata": {},
   "outputs": [],
   "source": [
    "binary_vars"
   ]
  },
  {
   "cell_type": "code",
   "execution_count": null,
   "metadata": {},
   "outputs": [],
   "source": [
    "non_binary_vars"
   ]
  },
  {
   "cell_type": "code",
   "execution_count": null,
   "metadata": {},
   "outputs": [],
   "source": [
    "data_train = data_train.astype(float)"
   ]
  },
  {
   "cell_type": "code",
   "execution_count": null,
   "metadata": {},
   "outputs": [],
   "source": [
    "data_train.info()"
   ]
  },
  {
   "cell_type": "code",
   "execution_count": null,
   "metadata": {},
   "outputs": [],
   "source": [
    "fromsklearn.preprocessingimportStandardScaler\n",
    "\n",
    "ss = StandardScaler()\n",
    "ss.fit(data_train[non_binary_vars])\n",
    "data_train[non_binary_vars] = ss.transform(data_train[non_binary_vars])"
   ]
  },
  {
   "cell_type": "code",
   "execution_count": null,
   "metadata": {},
   "outputs": [],
   "source": [
    "data_train"
   ]
  },
  {
   "cell_type": "markdown",
   "metadata": {},
   "source": [
    "**Disclaimer:**\n",
    "\n",
    "Thereiscertainlymorethatcanbedonetounderstandthenatureofthisdataandtherelationshipofthesevariableswiththetarget,SalePrice.Andalsoaboutthedistributionofthevariablesthemselves.\n",
    "\n",
    "However,wehopethatthroughthisnotebookwegaveyouaflavourofwhatdataanalysislookslike.\n"
   ]
  },
  {
   "cell_type": "markdown",
   "metadata": {},
   "source": [
    "#ExploratoryDataAnalysis\n"
   ]
  },
  {
   "cell_type": "code",
   "execution_count": null,
   "metadata": {},
   "outputs": [],
   "source": [
    "data_train.plot(\n",
    "    kind=\"scatter\",\n",
    "    x=\"longitude\",\n",
    "    y=\"latitude\",\n",
    "    grid=True,\n",
    "    c=\"totalPrice\",\n",
    "    cmap=\"jet\",\n",
    "    colorbar=True,\n",
    "    legend=True,\n",
    "    sharex=False,\n",
    "    figsize=(10, 7),\n",
    ")\n",
    "plt.show()"
   ]
  },
  {
   "cell_type": "code",
   "execution_count": null,
   "metadata": {},
   "outputs": [],
   "source": [
    "plt.figure(figsize=(16, 8))\n",
    "sns.heatmap(\n",
    "    data_train[non_binary_vars + target].corr(numeric_only=True),\n",
    "    annot=True,\n",
    "    fmt=\".2f\",\n",
    "    cmap=\"coolwarm\",\n",
    "    center=0,\n",
    "    vmax=1,\n",
    "    vmin=-1,\n",
    ")\n",
    "plt.show()"
   ]
  },
  {
   "cell_type": "code",
   "execution_count": null,
   "metadata": {},
   "outputs": [],
   "source": [
    "plt.figure(figsize=(16, 8))\n",
    "sns.heatmap(\n",
    "    data_train[binary_vars + target].corr(numeric_only=True),\n",
    "    annot=True,\n",
    "    fmt=\".2f\",\n",
    "    cmap=\"coolwarm\",\n",
    "    center=0,\n",
    "    vmax=1,\n",
    "    vmin=-1,\n",
    ")\n",
    "plt.show()"
   ]
  },
  {
   "cell_type": "code",
   "execution_count": null,
   "metadata": {},
   "outputs": [],
   "source": [
    "temp = data_train.copy()\n",
    "temp = temp.drop(columns=target)\n",
    "all(temp.columns == features)"
   ]
  },
  {
   "cell_type": "code",
   "execution_count": null,
   "metadata": {},
   "outputs": [],
   "source": [
    "X_train = data_train[features]\n",
    "y_train = data_train[target]"
   ]
  },
  {
   "cell_type": "code",
   "execution_count": null,
   "metadata": {},
   "outputs": [],
   "source": [
    "X_train_dev, X_val, y_train_dev, y_val = train_test_split(\n",
    "    X_train, y_train, test_size=0.2, random_state=42, shuffle=True\n",
    ")"
   ]
  },
  {
   "cell_type": "code",
   "execution_count": null,
   "metadata": {},
   "outputs": [],
   "source": [
    "fromsklearn.linear_modelimportLinearRegression\n",
    "\n",
    "# setupthemodel\n",
    "lin_model = LinearRegression()\n",
    "\n",
    "# trainthemodel\n",
    "lin_model.fit(X_train_dev, y_train_dev)\n",
    "\n",
    "y_pred_dev = lin_model.predict(X_train_dev)\n",
    "y_pred_val = lin_model.predict(X_val)"
   ]
  },
  {
   "cell_type": "code",
   "execution_count": null,
   "metadata": {},
   "outputs": [],
   "source": [
    "fromsklearn.metricsimportroot_mean_squared_error, r2_score\n",
    "\n",
    "# evaluatethemodel\n",
    "root_mean_squared_error(y_train_dev, y_pred_dev), r2_score(y_train_dev, y_pred_dev)"
   ]
  },
  {
   "cell_type": "code",
   "execution_count": null,
   "metadata": {},
   "outputs": [],
   "source": [
    "root_mean_squared_error(y_val, y_pred_val), r2_score(y_val, y_pred_val)"
   ]
  },
  {
   "cell_type": "code",
   "execution_count": null,
   "metadata": {},
   "outputs": [],
   "source": [
    "defplot_performance(model,X_train,y_train,X_test,y_test):\n",
    "#Definetherangeofthedependentvariable\n",
    "y_train_min,y_train_max=y_train.values.min(),y_train.values.max()\n",
    "y_test_min,y_test_max=y_test.values.min(),y_test.values.max()\n",
    "var_range=[min(y_train_min,y_test_min),max(y_train_max,y_test_max)]\n",
    "\n",
    "#Predictontrainingandtestdata\n",
    "y_train_pred=model.predict(X_train)\n",
    "y_test_pred=model.predict(X_test)\n",
    "\n",
    "#Plotactualvspredictedvalues\n",
    "plt.figure(figsize=(12,4))\n",
    "\n",
    "#Plottraindata\n",
    "plt.subplot(1,2,1)\n",
    "plt.scatter(y_train,y_train_pred,color='royalblue',alpha=0.5,label='Traindata')\n",
    "plt.plot(var_range,var_range,'k--',lw=2)\n",
    "plt.xlabel(f'Actualprice')\n",
    "plt.xlim(var_range[0]-0.5,var_range[1]+0.5)\n",
    "plt.ylabel(f'Predictedprice')\n",
    "plt.ylim(var_range[0]-0.5,var_range[1]+0.5)\n",
    "plt.text(var_range[0],var_range[1]-0.5,\"RMSE={:.3f}\".format(root_mean_squared_error(y_train,y_train_pred)))\n",
    "plt.text(var_range[0],var_range[1]-1,\"R²={:.3f}\".format(r2_score(y_train,y_train_pred)))\n",
    "plt.legend(loc=\"lowerright\")\n",
    "\n",
    "#Plottestdata\n",
    "plt.subplot(1,2,2)\n",
    "plt.scatter(y_test,y_test_pred,color='lightskyblue',alpha=0.5,label='Testdata')\n",
    "plt.plot(var_range,var_range,'k--',lw=2)\n",
    "plt.xlabel(f'Actualprice')\n",
    "plt.xlim(var_range[0]-0.5,var_range[1]+0.5)\n",
    "plt.ylabel(f'Predictedprice')\n",
    "plt.ylim(var_range[0]-0.5,var_range[1]+0.5)\n",
    "plt.text(var_range[0],var_range[1]-0.5,\"RMSE={:.3f}\".format(root_mean_squared_error(y_test,y_test_pred)))\n",
    "plt.text(var_range[0],var_range[1]-1,\"R²={:.3f}\".format(r2_score(y_test,y_test_pred)))\n",
    "plt.legend(loc=\"lowerright\")\n",
    "\n",
    "plt.show()"
   ]
  },
  {
   "cell_type": "code",
   "execution_count": null,
   "metadata": {},
   "outputs": [],
   "source": [
    "plot_performance(lin_model, X_train_dev, y_train_dev, X_val, y_val)"
   ]
  },
  {
   "cell_type": "code",
   "execution_count": null,
   "metadata": {},
   "outputs": [],
   "source": [
    "fromsklearn.linear_modelimportElasticNet\n",
    "\n",
    "# setupthemodel\n",
    "en_model = ElasticNet(alpha=0.01, l1_ratio=0.5, random_state=42)\n",
    "\n",
    "# trainthemodel\n",
    "en_model.fit(X_train_dev, y_train_dev)\n",
    "\n",
    "y_pred_dev = en_model.predict(X_train_dev)\n",
    "y_pred_val = en_model.predict(X_val)"
   ]
  },
  {
   "cell_type": "code",
   "execution_count": null,
   "metadata": {},
   "outputs": [],
   "source": [
    "root_mean_squared_error(y_train_dev, y_pred_dev), r2_score(y_train_dev, y_pred_dev)"
   ]
  },
  {
   "cell_type": "code",
   "execution_count": null,
   "metadata": {},
   "outputs": [],
   "source": [
    "root_mean_squared_error(y_val, y_pred_val), r2_score(y_val, y_pred_val)"
   ]
  },
  {
   "cell_type": "code",
   "execution_count": null,
   "metadata": {},
   "outputs": [],
   "source": [
    "plot_performance(en_model, X_train_dev, y_train_dev, X_val, y_val)"
   ]
  },
  {
   "cell_type": "markdown",
   "metadata": {},
   "source": [
    "#AdditionalResources\n",
    "\n",
    "-[FeatureEngineeringforMachineLearning](https://www.trainindata_train.com/p/feature-engineering-for-machine-learning)-OnlineCourse -[PacktFeatureEngineeringCookbook](https://www.amazon.com/Python-Feature-Engineering-Cookbook-transforming-dp-1804611301/dp/1804611301)-Book -[PredicthousepricewithFeature-engine](https://www.kaggle.com/solegalli/predict-house-price-with-feature-engine)-Kagglekernel -[ComprehensivedataexplorationwithPython](https://www.kaggle.com/pmarcelino/comprehensive-data-exploration-with-python)-Kagglekernel -[HowImadetop0.3%onaKagglecompetition](https://www.kaggle.com/lavanyashukla01/how-i-made-top-0-3-on-a-kaggle-competition)-Kagglekernel\n"
   ]
  }
 ],
 "metadata": {
  "kernelspec": {
   "display_name": ".venv",
   "language": "python",
   "name": "python3"
  },
  "language_info": {
   "codemirror_mode": {
    "name": "ipython",
    "version": 3
   },
   "file_extension": ".py",
   "mimetype": "text/x-python",
   "name": "python",
   "nbconvert_exporter": "python",
   "pygments_lexer": "ipython3",
   "version": "3.11.11"
  },
  "toc": {
   "base_numbering": 1,
   "nav_menu": {},
   "number_sections": true,
   "sideBar": true,
   "skip_h1_title": false,
   "title_cell": "Table of Contents",
   "title_sidebar": "Contents",
   "toc_cell": false,
   "toc_position": {
    "height": "644.467px",
    "left": "0px",
    "right": "1324px",
    "top": "110.533px",
    "width": "266px"
   },
   "toc_section_display": "block",
   "toc_window_display": true
  }
 },
 "nbformat": 4,
 "nbformat_minor": 2
}
