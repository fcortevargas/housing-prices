{
 "cells": [
  {
   "cell_type": "code",
   "execution_count": 1,
   "id": "5c9870a4-455c-4993-bbf5-e193e35cd67d",
   "metadata": {},
   "outputs": [],
   "source": [
    "import numpy as np\n",
    "import pandas as pd\n",
    "import matplotlib.pyplot as plt\n",
    "import seaborn as sns\n",
    "import ast"
   ]
  },
  {
   "cell_type": "code",
   "execution_count": 2,
   "id": "1620b39c-a120-40de-9832-bf57bcf667ab",
   "metadata": {},
   "outputs": [],
   "source": [
    "df = pd.read_csv('../data/victorianomh/idealista-barcelona-raw-scraped-data/raw_data.csv', index_col='id')"
   ]
  },
  {
   "cell_type": "code",
   "execution_count": 3,
   "id": "7d3166ed-201d-4336-be20-e86a33aa2487",
   "metadata": {},
   "outputs": [
    {
     "data": {
      "text/html": [
       "<div>\n",
       "<style scoped>\n",
       "    .dataframe tbody tr th:only-of-type {\n",
       "        vertical-align: middle;\n",
       "    }\n",
       "\n",
       "    .dataframe tbody tr th {\n",
       "        vertical-align: top;\n",
       "    }\n",
       "\n",
       "    .dataframe thead th {\n",
       "        text-align: right;\n",
       "    }\n",
       "</style>\n",
       "<table border=\"1\" class=\"dataframe\">\n",
       "  <thead>\n",
       "    <tr style=\"text-align: right;\">\n",
       "      <th></th>\n",
       "      <th>title</th>\n",
       "      <th>neighborhood</th>\n",
       "      <th>price</th>\n",
       "      <th>info_features</th>\n",
       "      <th>features</th>\n",
       "      <th>description</th>\n",
       "    </tr>\n",
       "    <tr>\n",
       "      <th>id</th>\n",
       "      <th></th>\n",
       "      <th></th>\n",
       "      <th></th>\n",
       "      <th></th>\n",
       "      <th></th>\n",
       "      <th></th>\n",
       "    </tr>\n",
       "  </thead>\n",
       "  <tbody>\n",
       "    <tr>\n",
       "      <th>103375204</th>\n",
       "      <td>Flat / apartment for sale in calle de Sant Pau...</td>\n",
       "      <td>El Raval, Barcelona</td>\n",
       "      <td>530,000</td>\n",
       "      <td>['80 m²', '2 bed.', '3rd floor exterior with l...</td>\n",
       "      <td>[['80 m² built', '2 bedrooms', '1 bathroom', '...</td>\n",
       "      <td>Beautiful renovated apartment of 80 m2, 2 bedr...</td>\n",
       "    </tr>\n",
       "    <tr>\n",
       "      <th>94000904</th>\n",
       "      <td>Flat / apartment for sale in Hospìtal</td>\n",
       "      <td>El Raval, Barcelona</td>\n",
       "      <td>165,000</td>\n",
       "      <td>['58 m²', '2 bed.', '3rd floor exterior withou...</td>\n",
       "      <td>[['58 m² built, 49 m² floor area', '2 bedrooms...</td>\n",
       "      <td>This two-bedroom flat is located in an unbeata...</td>\n",
       "    </tr>\n",
       "    <tr>\n",
       "      <th>104382041</th>\n",
       "      <td>Flat / apartment for sale in El Raval</td>\n",
       "      <td>Ciutat Vella, Barcelona</td>\n",
       "      <td>430,000</td>\n",
       "      <td>['155 m²', '3 bed.', '1st floor exterior with ...</td>\n",
       "      <td>[['155 m² built, 89 m² floor area', '3 bedroom...</td>\n",
       "      <td>Spacious and modern apartment on one side of L...</td>\n",
       "    </tr>\n",
       "    <tr>\n",
       "      <th>97791792</th>\n",
       "      <td>Flat / apartment for sale in rambla del Raval</td>\n",
       "      <td>El Raval, Barcelona</td>\n",
       "      <td>279,999</td>\n",
       "      <td>['89 m²', '2 bed.', '3rd floor exterior withou...</td>\n",
       "      <td>[['89 m² built, 80 m² floor area', '2 bedrooms...</td>\n",
       "      <td>MERC SANT ANTONI - RAMBLA RAVAL, two apartment...</td>\n",
       "    </tr>\n",
       "    <tr>\n",
       "      <th>104397583</th>\n",
       "      <td>Flat / apartment for sale in calle de les Carr...</td>\n",
       "      <td>El Raval, Barcelona</td>\n",
       "      <td>230,000</td>\n",
       "      <td>['70 m²', '2 bed.', '1st floor exterior with l...</td>\n",
       "      <td>[['70 m² built', '2 bedrooms', '2 bathrooms', ...</td>\n",
       "      <td>Immotecnics exclusively presents this incredib...</td>\n",
       "    </tr>\n",
       "    <tr>\n",
       "      <th>...</th>\n",
       "      <td>...</td>\n",
       "      <td>...</td>\n",
       "      <td>...</td>\n",
       "      <td>...</td>\n",
       "      <td>...</td>\n",
       "      <td>...</td>\n",
       "    </tr>\n",
       "    <tr>\n",
       "      <th>104095205</th>\n",
       "      <td>Flat / apartment for sale in calle de las Nava...</td>\n",
       "      <td>El Camp de l'Arpa del Clot, Barcelona</td>\n",
       "      <td>249,633</td>\n",
       "      <td>['63 m²', '2 bed.', '2nd floor exterior with l...</td>\n",
       "      <td>[['63 m² built, 55 m² floor area', '2 bedrooms...</td>\n",
       "      <td>NAVAS DE TOLOSA STREET: Apartment to partially...</td>\n",
       "    </tr>\n",
       "    <tr>\n",
       "      <th>101548114</th>\n",
       "      <td>Flat / apartment for sale in El Camp de l'Arpa...</td>\n",
       "      <td>Sant Martí, Barcelona</td>\n",
       "      <td>480,000</td>\n",
       "      <td>['93 m²', '3 bed.', '4th floor exterior with l...</td>\n",
       "      <td>[['93 m² built, 78 m² floor area', '3 bedrooms...</td>\n",
       "      <td>Fincas Llopart presents this magnificent apart...</td>\n",
       "    </tr>\n",
       "    <tr>\n",
       "      <th>104334424</th>\n",
       "      <td>Flat / apartment for sale in calle d'Aragó, 543</td>\n",
       "      <td>El Camp de l'Arpa del Clot, Barcelona</td>\n",
       "      <td>218,900</td>\n",
       "      <td>['46 m²', '2 bed.', '2nd floor without lift']</td>\n",
       "      <td>[['46 m² built, 40 m² floor area', '2 bedrooms...</td>\n",
       "      <td>Floor 2nd, flat total surface area 46 m², usab...</td>\n",
       "    </tr>\n",
       "    <tr>\n",
       "      <th>103060431</th>\n",
       "      <td>Flat / apartment for sale in freser</td>\n",
       "      <td>El Camp de l'Arpa del Clot, Barcelona</td>\n",
       "      <td>245,000</td>\n",
       "      <td>['67 m²', '1 bed.', '5th floor interior with l...</td>\n",
       "      <td>[['67 m² built', '1 bedroom', '1 bathroom', 'S...</td>\n",
       "      <td>67 m2 apartment on Freser street, next to Pass...</td>\n",
       "    </tr>\n",
       "    <tr>\n",
       "      <th>103758599</th>\n",
       "      <td>Flat / apartment for sale in calle de Còrsega</td>\n",
       "      <td>El Camp de l'Arpa del Clot, Barcelona</td>\n",
       "      <td>338,000</td>\n",
       "      <td>['81 m²', '4 bed.', '2nd floor exterior with l...</td>\n",
       "      <td>[['81 m² built', '4 bedrooms', '1 bathroom', '...</td>\n",
       "      <td>Floor 2nd, flat total surface area 81 m², usab...</td>\n",
       "    </tr>\n",
       "  </tbody>\n",
       "</table>\n",
       "<p>10389 rows × 6 columns</p>\n",
       "</div>"
      ],
      "text/plain": [
       "                                                       title  \\\n",
       "id                                                             \n",
       "103375204  Flat / apartment for sale in calle de Sant Pau...   \n",
       "94000904               Flat / apartment for sale in Hospìtal   \n",
       "104382041              Flat / apartment for sale in El Raval   \n",
       "97791792       Flat / apartment for sale in rambla del Raval   \n",
       "104397583  Flat / apartment for sale in calle de les Carr...   \n",
       "...                                                      ...   \n",
       "104095205  Flat / apartment for sale in calle de las Nava...   \n",
       "101548114  Flat / apartment for sale in El Camp de l'Arpa...   \n",
       "104334424    Flat / apartment for sale in calle d'Aragó, 543   \n",
       "103060431                Flat / apartment for sale in freser   \n",
       "103758599      Flat / apartment for sale in calle de Còrsega   \n",
       "\n",
       "                                    neighborhood    price  \\\n",
       "id                                                          \n",
       "103375204                    El Raval, Barcelona  530,000   \n",
       "94000904                     El Raval, Barcelona  165,000   \n",
       "104382041                Ciutat Vella, Barcelona  430,000   \n",
       "97791792                     El Raval, Barcelona  279,999   \n",
       "104397583                    El Raval, Barcelona  230,000   \n",
       "...                                          ...      ...   \n",
       "104095205  El Camp de l'Arpa del Clot, Barcelona  249,633   \n",
       "101548114                  Sant Martí, Barcelona  480,000   \n",
       "104334424  El Camp de l'Arpa del Clot, Barcelona  218,900   \n",
       "103060431  El Camp de l'Arpa del Clot, Barcelona  245,000   \n",
       "103758599  El Camp de l'Arpa del Clot, Barcelona  338,000   \n",
       "\n",
       "                                               info_features  \\\n",
       "id                                                             \n",
       "103375204  ['80 m²', '2 bed.', '3rd floor exterior with l...   \n",
       "94000904   ['58 m²', '2 bed.', '3rd floor exterior withou...   \n",
       "104382041  ['155 m²', '3 bed.', '1st floor exterior with ...   \n",
       "97791792   ['89 m²', '2 bed.', '3rd floor exterior withou...   \n",
       "104397583  ['70 m²', '2 bed.', '1st floor exterior with l...   \n",
       "...                                                      ...   \n",
       "104095205  ['63 m²', '2 bed.', '2nd floor exterior with l...   \n",
       "101548114  ['93 m²', '3 bed.', '4th floor exterior with l...   \n",
       "104334424      ['46 m²', '2 bed.', '2nd floor without lift']   \n",
       "103060431  ['67 m²', '1 bed.', '5th floor interior with l...   \n",
       "103758599  ['81 m²', '4 bed.', '2nd floor exterior with l...   \n",
       "\n",
       "                                                    features  \\\n",
       "id                                                             \n",
       "103375204  [['80 m² built', '2 bedrooms', '1 bathroom', '...   \n",
       "94000904   [['58 m² built, 49 m² floor area', '2 bedrooms...   \n",
       "104382041  [['155 m² built, 89 m² floor area', '3 bedroom...   \n",
       "97791792   [['89 m² built, 80 m² floor area', '2 bedrooms...   \n",
       "104397583  [['70 m² built', '2 bedrooms', '2 bathrooms', ...   \n",
       "...                                                      ...   \n",
       "104095205  [['63 m² built, 55 m² floor area', '2 bedrooms...   \n",
       "101548114  [['93 m² built, 78 m² floor area', '3 bedrooms...   \n",
       "104334424  [['46 m² built, 40 m² floor area', '2 bedrooms...   \n",
       "103060431  [['67 m² built', '1 bedroom', '1 bathroom', 'S...   \n",
       "103758599  [['81 m² built', '4 bedrooms', '1 bathroom', '...   \n",
       "\n",
       "                                                 description  \n",
       "id                                                            \n",
       "103375204  Beautiful renovated apartment of 80 m2, 2 bedr...  \n",
       "94000904   This two-bedroom flat is located in an unbeata...  \n",
       "104382041  Spacious and modern apartment on one side of L...  \n",
       "97791792   MERC SANT ANTONI - RAMBLA RAVAL, two apartment...  \n",
       "104397583  Immotecnics exclusively presents this incredib...  \n",
       "...                                                      ...  \n",
       "104095205  NAVAS DE TOLOSA STREET: Apartment to partially...  \n",
       "101548114  Fincas Llopart presents this magnificent apart...  \n",
       "104334424  Floor 2nd, flat total surface area 46 m², usab...  \n",
       "103060431  67 m2 apartment on Freser street, next to Pass...  \n",
       "103758599  Floor 2nd, flat total surface area 81 m², usab...  \n",
       "\n",
       "[10389 rows x 6 columns]"
      ]
     },
     "execution_count": 3,
     "metadata": {},
     "output_type": "execute_result"
    }
   ],
   "source": [
    "df"
   ]
  },
  {
   "cell_type": "code",
   "execution_count": 4,
   "id": "afafe8f8-6ee7-43f3-8eae-8ffb8eaf04b5",
   "metadata": {},
   "outputs": [
    {
     "name": "stdout",
     "output_type": "stream",
     "text": [
      "<class 'pandas.core.frame.DataFrame'>\n",
      "Index: 10389 entries, 103375204 to 103758599\n",
      "Data columns (total 6 columns):\n",
      " #   Column         Non-Null Count  Dtype \n",
      "---  ------         --------------  ----- \n",
      " 0   title          10389 non-null  object\n",
      " 1   neighborhood   10389 non-null  object\n",
      " 2   price          10389 non-null  object\n",
      " 3   info_features  10389 non-null  object\n",
      " 4   features       10389 non-null  object\n",
      " 5   description    10389 non-null  object\n",
      "dtypes: object(6)\n",
      "memory usage: 568.1+ KB\n"
     ]
    }
   ],
   "source": [
    "df.info()"
   ]
  },
  {
   "cell_type": "code",
   "execution_count": 5,
   "id": "399df090-3a94-4a06-8907-37424a4caeb4",
   "metadata": {},
   "outputs": [
    {
     "data": {
      "text/plain": [
       "title            0\n",
       "neighborhood     0\n",
       "price            0\n",
       "info_features    0\n",
       "features         0\n",
       "description      0\n",
       "dtype: int64"
      ]
     },
     "execution_count": 5,
     "metadata": {},
     "output_type": "execute_result"
    }
   ],
   "source": [
    "df.isnull().sum()"
   ]
  },
  {
   "cell_type": "code",
   "execution_count": 6,
   "id": "2cd4a595-8e7f-4841-a048-5a1fa5ecf4c1",
   "metadata": {},
   "outputs": [
    {
     "data": {
      "text/plain": [
       "Index(['title', 'neighborhood', 'price', 'info_features', 'features',\n",
       "       'description'],\n",
       "      dtype='object')"
      ]
     },
     "execution_count": 6,
     "metadata": {},
     "output_type": "execute_result"
    }
   ],
   "source": [
    "df.columns"
   ]
  },
  {
   "cell_type": "code",
   "execution_count": 7,
   "id": "585f8771-3252-4d83-87f0-6eacf3884c1e",
   "metadata": {},
   "outputs": [],
   "source": [
    "df[\"title\"] = df[\"title\"].str.strip()\n",
    "df[\"property_type\"] = df[\"title\"].str.split(\" for sale\").str[0]\n",
    "df[\"address\"] = df[\"title\"].str.split(\" for sale in \").str[1]"
   ]
  },
  {
   "cell_type": "code",
   "execution_count": 8,
   "id": "7615c14d-7aeb-4521-862a-408628888253",
   "metadata": {},
   "outputs": [
    {
     "data": {
      "text/plain": [
       "array(['Flat / apartment', 'Studio flat', 'Penthouse', 'Duplex', 'House',\n",
       "       'Semi-detached house', 'Terraced house', 'Detached house',\n",
       "       'Estate', 'Village house', 'Tower'], dtype=object)"
      ]
     },
     "execution_count": 8,
     "metadata": {},
     "output_type": "execute_result"
    }
   ],
   "source": [
    "df[\"property_type\"].unique()"
   ]
  },
  {
   "cell_type": "code",
   "execution_count": 9,
   "id": "ee7dab55-d8f7-4eae-b47f-9dd61f1c3890",
   "metadata": {},
   "outputs": [
    {
     "data": {
      "text/plain": [
       "id\n",
       "103375204           calle de Sant Pau, 25\n",
       "94000904                         Hospìtal\n",
       "104382041                        El Raval\n",
       "97791792                 rambla del Raval\n",
       "104397583           calle de les Carretes\n",
       "                         ...             \n",
       "104095205    calle de las Navas de Tolosa\n",
       "101548114      El Camp de l'Arpa del Clot\n",
       "104334424              calle d'Aragó, 543\n",
       "103060431                          freser\n",
       "103758599                calle de Còrsega\n",
       "Name: address, Length: 10389, dtype: object"
      ]
     },
     "execution_count": 9,
     "metadata": {},
     "output_type": "execute_result"
    }
   ],
   "source": [
    "df[\"address\"]"
   ]
  },
  {
   "cell_type": "code",
   "execution_count": 10,
   "id": "66c68820-fdf8-42ce-a1cf-a87ad53f34b4",
   "metadata": {},
   "outputs": [],
   "source": [
    "df[\"city\"] = df[\"neighborhood\"]\n",
    "df[\"neighborhood\"] = df[\"neighborhood\"].str.split(\",\").str[0].str.strip()\n",
    "df[\"city\"] = df[\"city\"].str.split(\",\").str[1].str.strip()\n",
    "# If city is nan, then assign it to be equal to the neighborhood\n",
    "df.loc[df[\"city\"].isnull(), \"city\"] = df.loc[df[\"city\"].isnull(), \"neighborhood\"]"
   ]
  },
  {
   "cell_type": "code",
   "execution_count": 11,
   "id": "138ccb86-b42f-4fbd-8b14-7f2cdba64372",
   "metadata": {},
   "outputs": [
    {
     "data": {
      "text/plain": [
       "array(['El Raval', 'Ciutat Vella', 'El Gòtic', 'La Barceloneta', 'Horta',\n",
       "       'Horta Guinardó', 'Ciutat Meridiana - Torre Baró - Vallbona',\n",
       "       'Nou Barris', 'Sant Martí', 'La Verneda i la Pau',\n",
       "       'Sant Pere - Santa Caterina i la Ribera',\n",
       "       \"El Camp d'En Grassot i Gràcia Nova\",\n",
       "       'Can Peguera - El Turó de la Peira',\n",
       "       'La Vila Olímpica del Poblenou', 'Eixample', 'La Sagrada Família',\n",
       "       'El Carmel', 'El Besós', \"La Dreta de l'Eixample\",\n",
       "       \"La Nova Esquerra de l'Eixample\", 'La Sagrera', 'Sant Andreu',\n",
       "       'El Clot', \"L'Antiga Esquerra de l'Eixample\", 'Sant Antoni',\n",
       "       'El Putxet i el Farró', 'Porta',\n",
       "       'Diagonal Mar i el Front Marítim del Poblenou', 'Sants-Montjuïc',\n",
       "       'El Poble Sec - Parc de Montjuïc', 'Vila de Gràcia', 'Gràcia',\n",
       "       'La Marina del Prat Vermell', 'Sarrià-Sant Gervasi', 'Sarrià',\n",
       "       'El Guinardó', 'Canyelles', 'Sant Martí de Provençals',\n",
       "       'La Marina del Port', 'Les Roquetes', 'Riu', 'Singuerlín',\n",
       "       'Santa Rosa - Can Mariner', 'Riera Alta - Llatí',\n",
       "       'Santa Coloma de Gramenet', 'Centre', 'Fondo',\n",
       "       'La Font de la Guatlla', 'Vallvidrera - El Tibidabo i les Planes',\n",
       "       'Sant Gervasi - La Bonanova', \"La Vall d'Hebron - La Clota\",\n",
       "       'Vilapicina i la Torre Llobeta', 'Provençals del Poblenou',\n",
       "       'Hostafrancs', 'Pedralbes', 'Les Corts', 'El Poblenou',\n",
       "       'La Bordeta', 'Sant Gervasi - Galvany', 'Sants - Badal', 'El Coll',\n",
       "       'Can Baró', 'La Trinitat Vella', 'Sant Josep', 'Sanfeliu',\n",
       "       'La Torrasa', 'Pubilla Cases', 'La Florida - Les Planes',\n",
       "       'Collblanc', 'La Florida', 'Les Planes', 'Santa Eulàlia',\n",
       "       'Bellvitge', 'Can Serra - Pubilla Cases', 'Sants', 'La Salut',\n",
       "       'La Teixonera', 'Sant Crist', 'Montigalà', 'Casagemes', 'Puigfred',\n",
       "       'Port', 'Llefià', 'Sistrells', 'Badalona', 'Montigalà -Sant Crist',\n",
       "       'La Morera', 'Progrés-Pep Ventura', 'Bufalà', 'Gorg - Progrés',\n",
       "       'Gorg', 'Canyadó', 'Remei', 'La Salut - Lloreda - Sistrells',\n",
       "       'Llefià - Sant Roc - Artigues', 'La Maternitat i Sant Ramon',\n",
       "       'Vallcarca i els Penitents', 'El Baix Guinardó', 'El Besòs',\n",
       "       'Verdun', \"El Camp de l'Arpa del Clot\", 'La Prosperitat',\n",
       "       'Sant Adriá de Besós', \"La Font d'En Fargues\",\n",
       "       'Sant Genís Dels Agudells - Montbau', 'Navas', 'Les Tres Torres',\n",
       "       'Granvia L-H', 'Gran Via L-H', 'El Congrés i els Indians',\n",
       "       'Sant Roc', 'Lloreda', 'Bonavista', 'Pomar', 'El Bon Pastor',\n",
       "       'El Fort Pienc', 'Sant Adriá Nord', 'La Mina', 'La Trinitat Nova',\n",
       "       'Can Serra', 'Canyet', 'Congrés', 'Sant Joan Baptista', 'La Pau',\n",
       "       'Artigues', 'La Guineueta', 'El Parc i la Llacuna del Poblenou',\n",
       "       'Mas Ram', 'Manresa', 'Carretera del Mig', 'Casagemes - Canyadó',\n",
       "       'Baró de Viver'], dtype=object)"
      ]
     },
     "execution_count": 11,
     "metadata": {},
     "output_type": "execute_result"
    }
   ],
   "source": [
    "df[\"neighborhood\"].unique()"
   ]
  },
  {
   "cell_type": "code",
   "execution_count": 12,
   "id": "7dbecd1c-b2ec-479d-ac4c-c88b9c876036",
   "metadata": {},
   "outputs": [
    {
     "data": {
      "text/plain": [
       "array(['Barcelona', 'Sant Adriá de Besós', 'Santa Coloma de Gramenet',\n",
       "       'Hospitalet de Llobregat', 'Badalona'], dtype=object)"
      ]
     },
     "execution_count": 12,
     "metadata": {},
     "output_type": "execute_result"
    }
   ],
   "source": [
    "df[\"city\"].unique()"
   ]
  },
  {
   "cell_type": "code",
   "execution_count": 13,
   "id": "c72f7c55-cd66-47a9-b6e2-eb3c609a9b11",
   "metadata": {},
   "outputs": [],
   "source": [
    "df['price'] = df['price'].str.replace(',','').astype(int)"
   ]
  },
  {
   "cell_type": "code",
   "execution_count": 14,
   "id": "b45eadcb-bee3-49d2-8472-7e45d7e412a5",
   "metadata": {},
   "outputs": [],
   "source": [
    "df['features'] = df['features'].apply(ast.literal_eval)"
   ]
  },
  {
   "cell_type": "code",
   "execution_count": 15,
   "id": "8d30a481-3e51-417a-87db-78ab6a34af1d",
   "metadata": {},
   "outputs": [
    {
     "data": {
      "text/plain": [
       "[['80 m² built',\n",
       "  '2 bedrooms',\n",
       "  '1 bathroom',\n",
       "  'Terrace and balcony',\n",
       "  'Second hand/good condition',\n",
       "  'Built in 1912',\n",
       "  'Central heating'],\n",
       " ['3rd floor exterior', 'With lift'],\n",
       " ['Air conditioning'],\n",
       " ['Consumption:91 kWh/m² year', 'Emissions:17 kg CO2/m² year']]"
      ]
     },
     "execution_count": 15,
     "metadata": {},
     "output_type": "execute_result"
    }
   ],
   "source": [
    "df.loc[103375204, 'features']"
   ]
  },
  {
   "cell_type": "code",
   "execution_count": null,
   "id": "80fcb0d9-7395-44a9-9463-4417e4b82f9c",
   "metadata": {},
   "outputs": [],
   "source": []
  }
 ],
 "metadata": {
  "kernelspec": {
   "display_name": "Python 3 (ipykernel)",
   "language": "python",
   "name": "python3"
  },
  "language_info": {
   "codemirror_mode": {
    "name": "ipython",
    "version": 3
   },
   "file_extension": ".py",
   "mimetype": "text/x-python",
   "name": "python",
   "nbconvert_exporter": "python",
   "pygments_lexer": "ipython3",
   "version": "3.11.11"
  }
 },
 "nbformat": 4,
 "nbformat_minor": 5
}
